{
 "cells": [
  {
   "cell_type": "markdown",
   "id": "7fefe717-dcff-44ba-89a2-89a29dce1922",
   "metadata": {},
   "source": [
    "## Part 0: Unpacking - The Foundation Skill"
   ]
  },
  {
   "cell_type": "code",
   "execution_count": 1,
   "id": "6103578f-a52d-4411-8238-fd21a32acc08",
   "metadata": {},
   "outputs": [
    {
     "name": "stdout",
     "output_type": "stream",
     "text": [
      "Latitude: 40.7128\n",
      "Longitude: -74.006\n",
      "RGB(255, 128, 0)\n",
      "2024-01-15: 100 shares of AAPL at $150.25\n"
     ]
    }
   ],
   "source": [
    "# You probably know basic unpacking already, but let's review\n",
    "coordinates = (40.7128, -74.0060)  # NYC lat, lng\n",
    "lat, lng = coordinates\n",
    "\n",
    "print(f\"Latitude: {lat}\")\n",
    "print(f\"Longitude: {lng}\")\n",
    "\n",
    "# Works with lists too\n",
    "rgb_color = [255, 128, 0]  # Orange\n",
    "red, green, blue = rgb_color\n",
    "print(f\"RGB({red}, {green}, {blue})\")\n",
    "\n",
    "# Trading data unpacking\n",
    "trade = (\"AAPL\", 150.25, 100, \"2024-01-15\")\n",
    "symbol, price, quantity, date = trade\n",
    "print(f\"{date}: {quantity} shares of {symbol} at ${price}\")"
   ]
  },
  {
   "cell_type": "code",
   "execution_count": 5,
   "id": "710ade95-d7e1-4207-ae83-bfd4205d9f62",
   "metadata": {},
   "outputs": [
    {
     "name": "stdout",
     "output_type": "stream",
     "text": [
      "First: 1\n",
      "Middle: [2, 3, 4, 5, 6, 7, 8, 9]\n",
      "Last: 10\n",
      "First two: 1, 2\n",
      "Rest: [3, 4, 5, 6, 7, 8, 9, 10]\n",
      "[2024-01-15 10:30:25] ERROR: Database connection failed\n"
     ]
    }
   ],
   "source": [
    "# What if we have more values than variables?\n",
    "numbers = [1, 2, 3, 4, 5, 6, 7, 8, 9, 10]\n",
    "\n",
    "# Get first, last, and everything in between\n",
    "first, *middle, last = numbers\n",
    "print(f\"First: {first}\")\n",
    "print(f\"Middle: {middle}\")  # This becomes a list!\n",
    "print(f\"Last: {last}\")\n",
    "\n",
    "# Get first few, ignore the rest\n",
    "first, second, *rest = numbers\n",
    "# or even \n",
    "first, second, *_ = numbers # the underscore indicates we do car about the rest of the list\n",
    "print(f\"First two: {first}, {second}\")\n",
    "print(f\"Rest: {_}\") # You can still display the content of underscore, but obviously, it's to be avoided for clarity reason\n",
    "\n",
    "\n",
    "# Practical example: parsing log entries\n",
    "log_entry = [\"2024-01-15\", \"10:30:25\", \"ERROR\", \"Database\", \"connection\", \"failed\"]\n",
    "date, time, level, *message_parts = log_entry\n",
    "message = \" \".join(message_parts)\n",
    "print(f\"[{date} {time}] {level}: {message}\")"
   ]
  },
  {
   "cell_type": "code",
   "execution_count": 12,
   "id": "eb330d75-fac0-4b1f-8202-e37e11ea738b",
   "metadata": {},
   "outputs": [
    {
     "name": "stdout",
     "output_type": "stream",
     "text": [
      "calculate_average(scores[0], scores[1], scores[2])=88.0 \n",
      "Average score: 88.0\n",
      "Average of [90, 86, 88] old way: 88.0\n",
      "Average of [90, 86, 88]: 88.0\n",
      "Average of (78, 82, 91, 87): 84.5\n"
     ]
    }
   ],
   "source": [
    "# Use * to pass a list/tuple as separate arguments\n",
    "def calculate_average(a, b, c):\n",
    "    return (a + b + c) / 3\n",
    "\n",
    "scores = [90, 86, 88]\n",
    "\n",
    "# Without unpacking - this won't work:\n",
    "# average = calculate_average(scores)  # Error! Too few arguments\n",
    "res = calculate_average(scores[0], scores[1], scores[2]) \n",
    "print(f\"{calculate_average(scores[0], scores[1], scores[2])=} \")\n",
    "\n",
    "\n",
    "# With unpacking - this works:\n",
    "average = calculate_average(*scores)\n",
    "print(f\"Average score: {average}\")\n",
    "\n",
    "# More flexible function that accepts any number of arguments\n",
    "def calculate_flexible_average(*numbers):\n",
    "    if not numbers:\n",
    "        return 0\n",
    "    return sum(numbers) / len(numbers)\n",
    "\n",
    "print(f\"Average of [90, 86, 88] old way: {calculate_flexible_average(90, 86, 88)}\")\n",
    "\n",
    "print(f\"Average of [90, 86, 88]: {calculate_flexible_average(*scores)}\")\n",
    "\n",
    "print(f\"Average of (78, 82, 91, 87): {calculate_flexible_average(*(78, 82, 91, 87))}\")"
   ]
  },
  {
   "cell_type": "code",
   "execution_count": 23,
   "id": "5c78f0f4-b0f5-47bc-b64a-06a9d591a483",
   "metadata": {},
   "outputs": [
    {
     "name": "stdout",
     "output_type": "stream",
     "text": [
      "2024-01-15: 100 shares of AAPL at $150.25\n",
      "2024-01-15: 100 shares of AAPL at $150.25\n",
      "\n",
      "Action: BUY\n",
      "symbol: TSLA\n",
      "price: 890.5\n",
      "quantity: 50\n",
      "\n"
     ]
    }
   ],
   "source": [
    "# Dictionary unpacking with **\n",
    "def create_trade_summary(symbol, price, quantity, date=\"today\"):\n",
    "    return f\"{date}: {quantity} shares of {symbol} at ${price}\"\n",
    "\n",
    "# Instead of passing each argument separately...\n",
    "trade_data = {\n",
    "    \"symbol\": \"AAPL\", \n",
    "    \"price\": 150.25, \n",
    "    \"quantity\": 100,\n",
    "    \"date\": \"2024-01-15\"\n",
    "}\n",
    "\n",
    "# Use ** to unpack the dictionary as keyword arguments\n",
    "summary = create_trade_summary(trade_data['symbol'], trade_data['price'], trade_data['quantity'], trade_data['date'])\n",
    "print(summary)\n",
    "\n",
    "summary = create_trade_summary(**trade_data)\n",
    "print(summary)\n",
    "print()\n",
    "\n",
    "# You can combine regular args, **kwargs\n",
    "def flexible_trade_summary(action, **details):\n",
    "    base = f\"Action: {action}\\n\"\n",
    "    for key, value in details.items():\n",
    "        base += f\"{key}: {value}\\n\"\n",
    "    return base\n",
    "\n",
    "trade_info = {\"symbol\": \"TSLA\", \"price\": 890.50, \"quantity\": 50}\n",
    "result = flexible_trade_summary(\"BUY\", **trade_info)\n",
    "print(result)"
   ]
  },
  {
   "cell_type": "markdown",
   "id": "063644a1-f69e-4017-9097-1bbf727080f0",
   "metadata": {},
   "source": [
    "# Functions that accept any combination of arguments\n",
    "def super_flexible_function(*args, **kwargs):\n",
    "    print(f\"Positional arguments: {args}\")\n",
    "    print(f\"Keyword arguments: {kwargs}\")\n",
    "    \n",
    "super_flexible_function(1, 2, 3, name=\"Alice\", age=30)\n",
    "print(\"-\"*30)\n",
    "\n",
    "# Practical example: logging function\n",
    "def log_trade(action, *details, **metadata):\n",
    "    print(f\"Trade Action: {action}\")\n",
    "    if details:\n",
    "        print(f\"Details: {details}\")\n",
    "    if metadata:\n",
    "        print(\"Metadata:\")\n",
    "        for key, value in metadata.items():\n",
    "            print(f\"  {key}: {value}\")\n",
    "    print(\"-\" * 30)\n",
    "\n",
    "log_trade(\"BUY\", \"AAPL\", 100, price=150.25, timestamp=\"10:30\", broker=\"TD\")\n",
    "log_trade(\"SELL\", quantity=50, symbol=\"GOOGL\", price=2800.00)"
   ]
  },
  {
   "cell_type": "markdown",
   "id": "3bec662a-54ea-4211-9f53-6b1ead5c93c6",
   "metadata": {},
   "source": [
    "**Positional arguments** are passed to functions in a specific order - the first value goes to the first parameter, second value to second parameter, and so on. When you call `create_trade_summary(\"AAPL\", 150.25, 100, \"2024-01-15\")`, Python matches these values by position: \"AAPL\" goes to `symbol`, 150.25 goes to `price`, etc. **Keyword arguments** let you explicitly specify which parameter gets which value by using the parameter name, like `create_trade_summary(symbol=\"AAPL\", price=150.25, quantity=100, date=\"2024-01-15\")`. The beauty of keyword arguments is that order doesn't matter - you could write `create_trade_summary(date=\"2024-01-15\", symbol=\"AAPL\", quantity=100, price=150.25)` and get the same result. The `**` operator takes this further by unpacking a dictionary's key-value pairs as keyword arguments, so `create_trade_summary(**trade_data)` automatically converts `{\"symbol\": \"AAPL\", \"price\": 150.25, ...}` into `create_trade_summary(symbol=\"AAPL\", price=150.25, ...)`."
   ]
  },
  {
   "cell_type": "markdown",
   "id": "4cc3856c-41d4-480e-b67d-5d0892461de3",
   "metadata": {},
   "source": [
    "## Part 1: Sets - The \"Membership Test\" Champions"
   ]
  },
  {
   "cell_type": "code",
   "execution_count": 39,
   "id": "d6fbd629-c4d2-4cba-bb41-2ff592efdfaa",
   "metadata": {},
   "outputs": [
    {
     "name": "stdout",
     "output_type": "stream",
     "text": [
      "We have 7 trades to analyze\n",
      "2024-01-15: 100 shares of AAPL at $150.25\n",
      "2024-01-15: 50 shares of GOOGL at $2750.8\n",
      "2024-01-16: 150 shares of AAPL at $155.5\n"
     ]
    }
   ],
   "source": [
    "# We're analyzing stock trading data\n",
    "# Starting with basic Python lists and tuples we already know\n",
    "trades: list[tuple]= [\n",
    "    (\"AAPL\", 150.25, 100, \"2024-01-15\"),\n",
    "    (\"GOOGL\", 2750.80, 50, \"2024-01-15\"), \n",
    "    (\"AAPL\", 155.50, 150, \"2024-01-16\"),\n",
    "    (\"MSFT\", 305.15, 75, \"2024-01-16\"),\n",
    "    (\"AAPL\", 148.90, 200, \"2024-01-17\"),\n",
    "    (\"TSLA\", 890.50, 80, \"2024-01-17\"),\n",
    "    (\"GOOGL\", 2800.00, 25, \"2024-01-18\")\n",
    "]\n",
    "\n",
    "print(f\"We have {len(trades)} trades to analyze\")\n",
    "for trade in trades[:3]:  # Show first 3\n",
    "    symbol, price, quantity, date = trade  # Using unpacking!\n",
    "    print(f\"{date}: {quantity} shares of {symbol} at ${price}\")"
   ]
  },
  {
   "cell_type": "code",
   "execution_count": 51,
   "id": "35d95b66-67a8-467c-8996-ff4867f3f8fb",
   "metadata": {},
   "outputs": [
    {
     "name": "stdout",
     "output_type": "stream",
     "text": [
      "Unique symbols: ['AAPL', 'GOOGL', 'MSFT', 'TSLA']\n",
      "Unique count: 4\n"
     ]
    }
   ],
   "source": [
    "# Question: What unique stocks did we trade?\n",
    "# Let's try the \"obvious\" approach first...\n",
    "\n",
    "unique_symbols = []\n",
    "for symbol, *_ in trades: # Unpack just the first element, ignore rest\n",
    "    if symbol not in unique_symbols:\n",
    "        unique_symbols.append(symbol)\n",
    "\n",
    "print(\"Unique symbols:\", unique_symbols)\n",
    "print(f\"Unique count: {len(unique_symbols)}\")"
   ]
  },
  {
   "cell_type": "code",
   "execution_count": 63,
   "id": "17c183ec-7f6f-4bbb-8a86-4aa019065f37",
   "metadata": {},
   "outputs": [
    {
     "name": "stdout",
     "output_type": "stream",
     "text": [
      "Using a set: {'MSFT', 'AAPL', 'GOOGL', 'TSLA'}\n",
      "Set comprehension result: {'MSFT', 'AAPL', 'GOOGL', 'TSLA'}\n",
      "From list conversion: {'MSFT', 'AAPL', 'GOOGL', 'TSLA'}\n"
     ]
    }
   ],
   "source": [
    "# There's a better way! Meet the SET\n",
    "traded_symbols_set = set()\n",
    "\n",
    "for symbol, *_ in trades:\n",
    "    traded_symbols_set.add(symbol)\n",
    "\n",
    "print(\"Using a set:\", traded_symbols_set)\n",
    "\n",
    "# https://www.w3schools.com/python/python_lists_comprehension.asp\n",
    "\n",
    "# Even simpler - set comprehension:\n",
    "symbols_simple = {symbol for symbol, *_ in trades}\n",
    "print(\"Set comprehension result:\", symbols_simple)\n",
    "\n",
    "# Or from a list:\n",
    "symbols_from_list = set([trade[0] for trade in trades])\n",
    "print(\"From list conversion:\", symbols_from_list)"
   ]
  },
  {
   "cell_type": "code",
   "execution_count": 64,
   "id": "7a79cd4c-8b3d-4640-9b3d-dcfddfc3df28",
   "metadata": {},
   "outputs": [
    {
     "data": {
      "text/html": [
       "<div>\n",
       "<style scoped>\n",
       "    .dataframe tbody tr th:only-of-type {\n",
       "        vertical-align: middle;\n",
       "    }\n",
       "\n",
       "    .dataframe tbody tr th {\n",
       "        vertical-align: top;\n",
       "    }\n",
       "\n",
       "    .dataframe thead th {\n",
       "        text-align: right;\n",
       "    }\n",
       "</style>\n",
       "<table border=\"1\" class=\"dataframe\">\n",
       "  <thead>\n",
       "    <tr style=\"text-align: right;\">\n",
       "      <th></th>\n",
       "      <th>symbol</th>\n",
       "      <th>price</th>\n",
       "      <th>quantity</th>\n",
       "      <th>date</th>\n",
       "    </tr>\n",
       "  </thead>\n",
       "  <tbody>\n",
       "    <tr>\n",
       "      <th>0</th>\n",
       "      <td>AAPL</td>\n",
       "      <td>150.25</td>\n",
       "      <td>100</td>\n",
       "      <td>2024-01-15</td>\n",
       "    </tr>\n",
       "    <tr>\n",
       "      <th>1</th>\n",
       "      <td>GOOGL</td>\n",
       "      <td>2750.80</td>\n",
       "      <td>50</td>\n",
       "      <td>2024-01-15</td>\n",
       "    </tr>\n",
       "    <tr>\n",
       "      <th>2</th>\n",
       "      <td>AAPL</td>\n",
       "      <td>155.50</td>\n",
       "      <td>150</td>\n",
       "      <td>2024-01-16</td>\n",
       "    </tr>\n",
       "    <tr>\n",
       "      <th>3</th>\n",
       "      <td>MSFT</td>\n",
       "      <td>305.15</td>\n",
       "      <td>75</td>\n",
       "      <td>2024-01-16</td>\n",
       "    </tr>\n",
       "    <tr>\n",
       "      <th>4</th>\n",
       "      <td>AAPL</td>\n",
       "      <td>148.90</td>\n",
       "      <td>200</td>\n",
       "      <td>2024-01-17</td>\n",
       "    </tr>\n",
       "    <tr>\n",
       "      <th>5</th>\n",
       "      <td>TSLA</td>\n",
       "      <td>890.50</td>\n",
       "      <td>80</td>\n",
       "      <td>2024-01-17</td>\n",
       "    </tr>\n",
       "    <tr>\n",
       "      <th>6</th>\n",
       "      <td>GOOGL</td>\n",
       "      <td>2800.00</td>\n",
       "      <td>25</td>\n",
       "      <td>2024-01-18</td>\n",
       "    </tr>\n",
       "  </tbody>\n",
       "</table>\n",
       "</div>"
      ],
      "text/plain": [
       "  symbol    price  quantity        date\n",
       "0   AAPL   150.25       100  2024-01-15\n",
       "1  GOOGL  2750.80        50  2024-01-15\n",
       "2   AAPL   155.50       150  2024-01-16\n",
       "3   MSFT   305.15        75  2024-01-16\n",
       "4   AAPL   148.90       200  2024-01-17\n",
       "5   TSLA   890.50        80  2024-01-17\n",
       "6  GOOGL  2800.00        25  2024-01-18"
      ]
     },
     "execution_count": 64,
     "metadata": {},
     "output_type": "execute_result"
    }
   ],
   "source": [
    "import pandas as pd\n",
    "df = pd.DataFrame(trades, columns=[\"symbol\", \"price\", \"quantity\", \"date\"])\n",
    "df"
   ]
  },
  {
   "cell_type": "code",
   "execution_count": 65,
   "id": "383595e5-60c0-415c-b52e-73e429e198b0",
   "metadata": {},
   "outputs": [
    {
     "data": {
      "text/plain": [
       "['AAPL', 'GOOGL', 'MSFT', 'TSLA']"
      ]
     },
     "execution_count": 65,
     "metadata": {},
     "output_type": "execute_result"
    }
   ],
   "source": [
    "# List of unique stock \n",
    "list(df['symbol'].unique())"
   ]
  },
  {
   "cell_type": "markdown",
   "id": "293c4f3f-1e61-428e-a78b-9f34396687a1",
   "metadata": {},
   "source": [
    "## Set Operations \n",
    "![venn](venn_diagram.png)"
   ]
  },
  {
   "cell_type": "code",
   "execution_count": 70,
   "id": "32e76d6e-fe10-4968-909c-d1d8db440865",
   "metadata": {},
   "outputs": [
    {
     "name": "stdout",
     "output_type": "stream",
     "text": [
      "Monday trades: {'MSFT', 'AAPL', 'GOOGL', 'TSLA'}\n",
      "Tuesday trades: {'MSFT', 'CRM', 'NVDA', 'AAPL', 'META'}\n",
      "\n",
      "Traded both days: {'MSFT', 'AAPL'}\n",
      "All stocks traded: {'MSFT', 'CRM', 'NVDA', 'TSLA', 'AAPL', 'GOOGL', 'META'}\n",
      "Only Monday: {'GOOGL', 'TSLA'}\n",
      "Only Tuesday: {'NVDA', 'META', 'CRM'}\n",
      "Traded exactly one day: {'CRM', 'NVDA', 'GOOGL', 'META', 'TSLA'}\n"
     ]
    }
   ],
   "source": [
    "# Let's say we have trading data from two different days\n",
    "monday_stocks = {\"AAPL\", \"GOOGL\", \"MSFT\", \"TSLA\"}\n",
    "tuesday_stocks = {\"AAPL\", \"MSFT\", \"NVDA\", \"META\", \"CRM\"}\n",
    "\n",
    "print(\"Monday trades:\", monday_stocks)\n",
    "print(\"Tuesday trades:\", tuesday_stocks)\n",
    "print()\n",
    "\n",
    "# Set operations - mathematical magic!\n",
    "both_days = monday_stocks & tuesday_stocks  # Intersection\n",
    "print(\"Traded both days:\", both_days)\n",
    "\n",
    "all_stocks = monday_stocks | tuesday_stocks  # Union\n",
    "print(\"All stocks traded:\", all_stocks)\n",
    "\n",
    "only_monday = monday_stocks - tuesday_stocks  # Difference\n",
    "print(\"Only Monday:\", only_monday)\n",
    "\n",
    "only_tuesday = tuesday_stocks - monday_stocks  # Difference  \n",
    "print(\"Only Tuesday:\", only_tuesday)\n",
    "\n",
    "either_day = monday_stocks ^ tuesday_stocks  # Symmetric difference\n",
    "print(\"Traded exactly one day:\", either_day)"
   ]
  },
  {
   "cell_type": "code",
   "execution_count": 71,
   "id": "91fc93a7-183b-48ce-a94d-c940ddc32612",
   "metadata": {},
   "outputs": [
    {
     "name": "stdout",
     "output_type": "stream",
     "text": [
      "Our portfolio: {'MSFT', 'NVDA', 'AAPL', 'GOOGL', 'TSLA'}\n",
      "\n",
      "Our stocks in S&P 500 top 10: {'MSFT', 'NVDA', 'TSLA', 'AAPL', 'GOOGL'}\n",
      "Overlap percentage: 100.0%\n",
      "\n",
      "Our tech stocks: {'NVDA', 'MSFT', 'AAPL', 'GOOGL'}\n",
      "Tech giants we're missing: {'AMZN', 'NFLX', 'META'}\n",
      "Our non-tech holdings: {'TSLA'}\n"
     ]
    }
   ],
   "source": [
    "# Real-world example: Portfolio overlap analysis\n",
    "our_portfolio = {\"AAPL\", \"GOOGL\", \"MSFT\", \"TSLA\", \"NVDA\"}\n",
    "sp500_top10 = {\"AAPL\", \"MSFT\", \"GOOGL\", \"AMZN\", \"NVDA\", \"META\", \"TSLA\", \"BRK.B\", \"UNH\", \"XOM\"}\n",
    "tech_giants = {\"AAPL\", \"GOOGL\", \"MSFT\", \"AMZN\", \"META\", \"NFLX\", \"NVDA\"}\n",
    "\n",
    "print(\"Our portfolio:\", our_portfolio)\n",
    "print()\n",
    "\n",
    "# Analysis using sets\n",
    "overlap_sp500 = our_portfolio & sp500_top10\n",
    "overlap_tech = our_portfolio & tech_giants\n",
    "missing_from_tech = tech_giants - our_portfolio\n",
    "\n",
    "print(f\"Our stocks in S&P 500 top 10: {overlap_sp500}\")\n",
    "print(f\"Overlap percentage: {len(overlap_sp500)/len(our_portfolio)*100:.1f}%\")\n",
    "print()\n",
    "print(f\"Our tech stocks: {overlap_tech}\")\n",
    "print(f\"Tech giants we're missing: {missing_from_tech}\")\n",
    "\n",
    "# Quick check: Are we diversified beyond tech?\n",
    "non_tech_holdings = our_portfolio - tech_giants\n",
    "print(f\"Our non-tech holdings: {non_tech_holdings}\")"
   ]
  },
  {
   "cell_type": "code",
   "execution_count": 73,
   "id": "b3c0b4bf-0a07-47ac-81de-cc74f445b630",
   "metadata": {},
   "outputs": [
    {
     "name": "stdout",
     "output_type": "stream",
     "text": [
      "Trade value: $15,025.00\n",
      "Trade value: $15,025.00\n",
      "Trade value: $15,025.00\n"
     ]
    }
   ],
   "source": [
    "# Our current trade data uses regular tuples\n",
    "sample_trade: tuple = (\"AAPL\", 150.25, 100, \"2024-01-15\")\n",
    "\n",
    "# To access data, we need to remember the positions:\n",
    "symbol, price, quantity, date = sample_trade  # Unpacking helps but...\n",
    "\n",
    "# What if we want to pass this to a function later?\n",
    "def calculate_trade_value(trade_tuple):\n",
    "    symbol = trade_tuple[0]     # What's index 0 again?\n",
    "    price = trade_tuple[1]      # Was this price or quantity?\n",
    "    quantity = trade_tuple[2]   # Easy to mix these up!\n",
    "    return price * quantity\n",
    "\n",
    "value = calculate_trade_value(sample_trade)\n",
    "print(f\"Trade value: ${value:,.2f}\")\n",
    "\n",
    "# You could do this - much better!\n",
    "def calculate_trade_value(trade_tuple):\n",
    "    symbol, price, quantity, date = trade_tuple  # Unpack it!\n",
    "    return price * quantity\n",
    "\n",
    "value = calculate_trade_value(sample_trade)\n",
    "print(f\"Trade value: ${value:,.2f}\")\n",
    "\n",
    "# Or even better - unpack in the parameter list:\n",
    "def calculate_trade_value_unpacked(symbol:str, price:float, quantity:int, date:str):\n",
    "    return price * quantity\n",
    "\n",
    "value = calculate_trade_value_unpacked(*sample_trade)\n",
    "print(f\"Trade value: ${value:,.2f}\")\n",
    "\n"
   ]
  },
  {
   "cell_type": "code",
   "execution_count": 75,
   "id": "d8de2520-3d38-47fe-aec0-bfac63ff9b52",
   "metadata": {},
   "outputs": [
    {
     "name": "stdout",
     "output_type": "stream",
     "text": [
      "Much clearer access:\n",
      "Symbol: AAPL\n",
      "Price: $150.25\n",
      "Quantity: 100\n",
      "Date: 2024-01-15\n",
      "\n",
      "Automatic nice string representation:\n",
      "Trade(symbol='AAPL', price=150.25, quantity=100, date='2024-01-15')\n"
     ]
    }
   ],
   "source": [
    "from dataclasses import dataclass\n",
    "\n",
    "# Create a Trade dataclass - like a blueprint for our data\n",
    "@dataclass\n",
    "class Trade:\n",
    "    symbol: str\n",
    "    price: float\n",
    "    quantity: int\n",
    "    date: str\n",
    "\n",
    "# Now create trades with named fields\n",
    "trade1 = Trade('AAPL', 150.25, 100, '2024-01-15')\n",
    "trade2 = Trade('GOOGL', 2750.80, 50, '2024-01-15')\n",
    "trade3 = Trade('MSFT', 305.15, 75, '2024-01-16')\n",
    "\n",
    "print(\"Much clearer access:\")\n",
    "print(f\"Symbol: {trade1.symbol}\")\n",
    "print(f\"Price: ${trade1.price}\")\n",
    "print(f\"Quantity: {trade1.quantity}\")\n",
    "print(f\"Date: {trade1.date}\")\n",
    "print()\n",
    "print(\"Automatic nice string representation:\")\n",
    "print(trade1)"
   ]
  },
  {
   "cell_type": "code",
   "execution_count": 77,
   "id": "da41650f-9b27-41b2-8374-bd5eddc6c2a5",
   "metadata": {},
   "outputs": [
    {
     "name": "stdout",
     "output_type": "stream",
     "text": [
      "Our structured trades:\n",
      "2024-01-15: 100 AAPL @ $150.25\n",
      "2024-01-15: 50 GOOGL @ $2750.8\n",
      "2024-01-16: 150 AAPL @ $155.5\n"
     ]
    }
   ],
   "source": [
    "# Convert all our trades to dataclass objects\n",
    "structured_trades: list[Trade] = []\n",
    "for symbol, price, quantity, date in trades:\n",
    "    structured_trades.append(Trade(symbol, price, quantity, date))\n",
    "\n",
    "# Or more concisely using unpacking:\n",
    "structured_trades_simple = [Trade(*trade) for trade in trades]\n",
    "\n",
    "print(\"Our structured trades:\")\n",
    "for trade in structured_trades_simple[:3]:\n",
    "    print(f\"{trade.date}: {trade.quantity} {trade.symbol} @ ${trade.price}\")"
   ]
  },
  {
   "cell_type": "code",
   "execution_count": 78,
   "id": "a9d999be-0b8a-46d8-843e-efaf99b64b0a",
   "metadata": {},
   "outputs": [
    {
     "data": {
      "text/plain": [
       "[Trade(symbol='AAPL', price=150.25, quantity=100, date='2024-01-15'),\n",
       " Trade(symbol='GOOGL', price=2750.8, quantity=50, date='2024-01-15'),\n",
       " Trade(symbol='AAPL', price=155.5, quantity=150, date='2024-01-16'),\n",
       " Trade(symbol='MSFT', price=305.15, quantity=75, date='2024-01-16'),\n",
       " Trade(symbol='AAPL', price=148.9, quantity=200, date='2024-01-17'),\n",
       " Trade(symbol='TSLA', price=890.5, quantity=80, date='2024-01-17'),\n",
       " Trade(symbol='GOOGL', price=2800.0, quantity=25, date='2024-01-18')]"
      ]
     },
     "execution_count": 78,
     "metadata": {},
     "output_type": "execute_result"
    }
   ],
   "source": [
    "structured_trades"
   ]
  },
  {
   "cell_type": "code",
   "execution_count": 79,
   "id": "901cd6dd-0b94-4877-aede-01ae07dd716b",
   "metadata": {},
   "outputs": [
    {
     "name": "stdout",
     "output_type": "stream",
     "text": [
      "AAPL trades: 3\n",
      "Total AAPL trade value: $68,130.00\n",
      "Trade dict: {'symbol': 'AAPL', 'price': 150.25, 'quantity': 100, 'date': '2024-01-15'}\n",
      "Trade dict: {'symbol': 'GOOGL', 'price': 2750.8, 'quantity': 50, 'date': '2024-01-15'}\n"
     ]
    }
   ],
   "source": [
    "# Functions become self-documenting\n",
    "def calculate_trade_value(trade: Trade) -> float:\n",
    "    return trade.price * trade.quantity  # Crystal clear what we're doing!\n",
    "\n",
    "\n",
    "def get_trades_by_symbol(trades: list[Trade], target_symbol: str) -> list[Trade]:\n",
    "    \"\"\"Retrieve all the trades for a given company \"\"\"\n",
    "    return [trade for trade in trades if trade.symbol == target_symbol]\n",
    "\n",
    "# Test our functions\n",
    "aapl_trades = get_trades_by_symbol(structured_trades_simple, 'AAPL')\n",
    "print(f\"AAPL trades: {len(aapl_trades)}\")\n"
   ]
  },
  {
   "cell_type": "code",
   "execution_count": 82,
   "id": "137dd996-adcb-44c1-b18d-df784ec910d8",
   "metadata": {},
   "outputs": [
    {
     "name": "stdout",
     "output_type": "stream",
     "text": [
      "EnhancedTrade(symbol='NVDA', price=890.5, quantity=100, date='2024-01-20', trade_type='BUY', commission=0.0, notes=None)\n",
      "\n"
     ]
    },
    {
     "data": {
      "text/plain": [
       "EnhancedTrade(symbol='TSLA', price=250.0, quantity=50, date='2024-01-21', trade_type='SELL', commission=9.99, notes='Profit taking')"
      ]
     },
     "execution_count": 82,
     "metadata": {},
     "output_type": "execute_result"
    }
   ],
   "source": [
    "from typing import Optional\n",
    "# dataclasses with default values and advanced features\n",
    "@dataclass\n",
    "class EnhancedTrade:\n",
    "    symbol: str\n",
    "    price: float\n",
    "    quantity: int\n",
    "    date: str\n",
    "    trade_type: str = \"BUY\"  # Default value\n",
    "    commission: float = 0.0\n",
    "    note: Optional[str] = None\n",
    "\n",
    "# Create trades with defaults\n",
    "trade_with_defaults = EnhancedTrade(\"NVDA\", 890.50, 100, \"2024-01-20\")\n",
    "print(trade_with_defaults)\n",
    "print()\n",
    "\n",
    "# Override defaults\n",
    "custom_trade = EnhancedTrade(\n",
    "    symbol=\"TSLA\", \n",
    "    price=250.00, \n",
    "    quantity=50, \n",
    "    date=\"2024-01-21\",\n",
    "    trade_type=\"SELL\",\n",
    "    commission=9.99,\n",
    "    note=\"Profit taking\",\n",
    ")\n",
    "custom_trade"
   ]
  },
  {
   "cell_type": "code",
   "execution_count": 86,
   "id": "6605ad9d-96b7-420e-8606-7a1ad68fab11",
   "metadata": {},
   "outputs": [
    {
     "name": "stdout",
     "output_type": "stream",
     "text": [
      "small_trade.total_value()=7500.0\n",
      "BUY 10 GOOGL @ $2800.0 = $28,000.00\n",
      "\n",
      "BUY 50 AAPL @ $150.0 = $7,500.00\n"
     ]
    }
   ],
   "source": [
    "from dataclasses import dataclass\n",
    "\n",
    "@dataclass\n",
    "class TradeWithMethods:\n",
    "    symbol: str\n",
    "    price: float\n",
    "    quantity: int\n",
    "    date: str\n",
    "    trade_type: str = \"BUY\"\n",
    "    \n",
    "    def total_value(self) -> float:\n",
    "        \"\"\"Calculate total trade value\"\"\"\n",
    "        return self.price * self.quantity\n",
    "    \n",
    "    \n",
    "    def summary(self) -> str:\n",
    "        \"\"\"Generate a human-readable summary\"\"\"\n",
    "        return f\"{self.trade_type} {self.quantity} {self.symbol} @ ${self.price} = ${self.total_value():,.2f}\"\n",
    "\n",
    "# Create and use trades with methods\n",
    "big_trade = TradeWithMethods(\"GOOGL\", 2800.00, 10, \"2024-01-22\")\n",
    "small_trade = TradeWithMethods(\"AAPL\", 150.00, 50, \"2024-01-22\")\n",
    "\n",
    "print(f\"{small_trade.total_value()=}\")\n",
    "\n",
    "print(big_trade.summary())\n",
    "print()\n",
    "print(small_trade.summary())\n"
   ]
  },
  {
   "cell_type": "code",
   "execution_count": 88,
   "id": "9f5f1bcd-6820-4c21-a113-f4357adf5af3",
   "metadata": {},
   "outputs": [
    {
     "name": "stdout",
     "output_type": "stream",
     "text": [
      "Is AAPL trade larger than GOOGL? False\n",
      "Is GOOGL trade larger than AAPL? True\n"
     ]
    }
   ],
   "source": [
    "from dataclasses import dataclass\n",
    "\n",
    "@dataclass\n",
    "class TradeWithMethods:\n",
    "    symbol: str\n",
    "    price: float\n",
    "    quantity: int\n",
    "    date: str\n",
    "    trade_type: str = \"BUY\"\n",
    "    \n",
    "    def total_value(self) -> float:\n",
    "        \"\"\"Calculate total trade value\"\"\"\n",
    "        return self.price * self.quantity\n",
    "    \n",
    "    \n",
    "    def summary(self) -> str:\n",
    "        \"\"\"Generate a human-readable summary\"\"\"\n",
    "        return f\"{self.trade_type} {self.quantity} {self.symbol} @ ${self.price} = ${self.total_value():,.2f}\"\n",
    "\n",
    "    def is_larger_than(self, other) -> bool:\n",
    "        \"\"\"Compare if this trade is larger by value than another trade\"\"\"\n",
    "        return self.total_value() > other.total_value()\n",
    "\n",
    "# Create trades for comparison\n",
    "apple = TradeWithMethods(\"AAPL\", 150.00, 100, \"2024-01-22\")  # $15,000\n",
    "google = TradeWithMethods(\"GOOGL\", 2800.00, 10, \"2024-01-22\") # $28,000\n",
    "\n",
    "\n",
    "print(f\"Is AAPL trade larger than GOOGL? {apple.is_larger_than(google)}\")\n",
    "print(f\"Is GOOGL trade larger than AAPL? {google.is_larger_than(apple)}\")"
   ]
  },
  {
   "cell_type": "code",
   "execution_count": 94,
   "id": "d8b6e70e-28ed-4ee5-adfe-43cbf58c6353",
   "metadata": {},
   "outputs": [
    {
     "name": "stdout",
     "output_type": "stream",
     "text": [
      "Using > and < operators:\n",
      "apple > google: False\n",
      "google > apple: True\n",
      "tesla > apple: True\n",
      "\n",
      "Finding max and min:\n",
      "Biggest trade: BUY 10 GOOGL @ $2800.0 = $28,000.00\n",
      "Smallest trade: BUY 100 AAPL @ $150.0 = $15,000.00\n",
      "\n",
      "Sorting trades by value:\n"
     ]
    },
    {
     "data": {
      "text/plain": [
       "[TradeWithMethods(symbol='AAPL', price=150.0, quantity=100, date='2024-01-22', trade_type='BUY'),\n",
       " TradeWithMethods(symbol='TSLA', price=250.0, quantity=80, date='2024-01-22', trade_type='BUY'),\n",
       " TradeWithMethods(symbol='GOOGL', price=2800.0, quantity=10, date='2024-01-22', trade_type='BUY')]"
      ]
     },
     "execution_count": 94,
     "metadata": {},
     "output_type": "execute_result"
    }
   ],
   "source": [
    "from dataclasses import dataclass\n",
    "\n",
    "@dataclass\n",
    "class TradeWithMethods:\n",
    "    symbol: str\n",
    "    price: float\n",
    "    quantity: int\n",
    "    date: str\n",
    "    trade_type: str = \"BUY\"\n",
    "    \n",
    "    def total_value(self) -> float:\n",
    "        \"\"\"Calculate total trade value\"\"\"\n",
    "        return self.price * self.quantity\n",
    "    \n",
    "    def summary(self) -> str:\n",
    "        \"\"\"Generate a human-readable summary\"\"\"\n",
    "        return f\"{self.trade_type} {self.quantity} {self.symbol} @ ${self.price} = ${self.total_value():,.2f}\"\n",
    "    # dunder methods\n",
    "    def __gt__(self, other):\n",
    "        \"\"\"Greater than comparison - enables sorting and max()\"\"\"\n",
    "        return self.total_value() > other.total_value()\n",
    "    \n",
    "    # dunder methods\n",
    "    def __lt__(self, other):\n",
    "        \"\"\"Less than comparison - enables sorting\"\"\"\n",
    "        return self.total_value() < other.total_value()\n",
    "\n",
    "# Create trades for comparison\n",
    "apple = TradeWithMethods(\"AAPL\", 150.00, 100, \"2024-01-22\")   # $15,000\n",
    "google = TradeWithMethods(\"GOOGL\", 2800.00, 10, \"2024-01-22\") # $28,000\n",
    "tesla = TradeWithMethods(\"TSLA\", 250.00, 80, \"2024-01-22\")    # $20,000\n",
    "\n",
    "\n",
    "print(\"Using > and < operators:\")\n",
    "print(f\"apple > google: {apple > google}\")\n",
    "print(f\"google > apple: {google > apple}\")\n",
    "print(f\"tesla > apple: {tesla > apple}\")\n",
    "print()\n",
    "\n",
    "# Now we can use built-in functions!\n",
    "trades: list[TradeWithMethods]= [apple, google, tesla]\n",
    "\n",
    "print(\"Finding max and min:\")\n",
    "biggest_trade = max(trades)\n",
    "smallest_trade = min(trades)\n",
    "print(f\"Biggest trade: {biggest_trade.summary()}\")\n",
    "print(f\"Smallest trade: {smallest_trade.summary()}\")\n",
    "print()\n",
    "\n",
    "print(\"Sorting trades by value:\")\n",
    "sorted_trades = sorted(trades)\n",
    "sorted_trades"
   ]
  },
  {
   "cell_type": "code",
   "execution_count": null,
   "id": "94044903-d351-4eaa-ae6b-089bb365e517",
   "metadata": {},
   "outputs": [],
   "source": []
  }
 ],
 "metadata": {
  "kernelspec": {
   "display_name": "Python 3 (ipykernel)",
   "language": "python",
   "name": "python3"
  },
  "language_info": {
   "codemirror_mode": {
    "name": "ipython",
    "version": 3
   },
   "file_extension": ".py",
   "mimetype": "text/x-python",
   "name": "python",
   "nbconvert_exporter": "python",
   "pygments_lexer": "ipython3",
   "version": "3.11.5"
  }
 },
 "nbformat": 4,
 "nbformat_minor": 5
}
