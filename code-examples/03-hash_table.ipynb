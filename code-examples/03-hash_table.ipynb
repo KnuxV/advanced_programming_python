{
 "cells": [
  {
   "cell_type": "markdown",
   "id": "629f88d21db9c3e8",
   "metadata": {
    "editable": true,
    "slideshow": {
     "slide_type": "slide"
    },
    "tags": []
   },
   "source": [
    "# Python Dictionary Hash Lookup: From Keys to Lightning Speed"
   ]
  },
  {
   "cell_type": "markdown",
   "id": "9319e506-484d-4344-8a25-d6ad69b3589f",
   "metadata": {
    "editable": true,
    "slideshow": {
     "slide_type": "slide"
    },
    "tags": []
   },
   "source": [
    "## Why is looking for a specific element in a dict so different than looking in a list?\n"
   ]
  },
  {
   "cell_type": "code",
   "execution_count": 3,
   "id": "6710c649-fd19-4d69-aeda-8f0d4327a687",
   "metadata": {
    "editable": true,
    "slideshow": {
     "slide_type": "slide"
    },
    "tags": []
   },
   "outputs": [
    {
     "name": "stdout",
     "output_type": "stream",
     "text": [
      "91745967\n"
     ]
    }
   ],
   "source": [
    "N = 100_000_000\n",
    "mylist = [i for i in range(N)]\n",
    "mydict = {i:1 for i in range(N)}\n",
    "\n",
    "import random\n",
    "rand_numb = random.randint(0,N)\n",
    "print(rand_numb)"
   ]
  },
  {
   "cell_type": "code",
   "execution_count": 4,
   "id": "d3195d21-fae5-45b7-9577-13ec8c70dee4",
   "metadata": {
    "editable": true,
    "slideshow": {
     "slide_type": "subslide"
    },
    "tags": []
   },
   "outputs": [
    {
     "name": "stdout",
     "output_type": "stream",
     "text": [
      "36.5 ns ± 0.521 ns per loop (mean ± std. dev. of 7 runs, 10,000,000 loops each)\n",
      "596 ms ± 6.58 ms per loop (mean ± std. dev. of 7 runs, 1 loop each)\n",
      "Dictionary is 16,469,160x faster!\n"
     ]
    },
    {
     "data": {
      "text/plain": [
       "50"
      ]
     },
     "execution_count": 4,
     "metadata": {},
     "output_type": "execute_result"
    }
   ],
   "source": [
    "# Capture the timing results\n",
    "dict_result = %timeit -o rand_numb in mydict\n",
    "list_result = %timeit -o rand_numb in mylist\n",
    "\n",
    "# Extract the best times\n",
    "dict_time = dict_result.best\n",
    "list_time = list_result.best\n",
    "\n",
    "# Calculate and display the difference\n",
    "speedup = list_time / dict_time\n",
    "print(f\"Dictionary is {speedup:,.0f}x faster!\")"
   ]
  },
  {
   "cell_type": "markdown",
   "id": "2606f2bf-125c-4260-9eae-40248bc3e07d",
   "metadata": {
    "editable": true,
    "slideshow": {
     "slide_type": "slide"
    },
    "tags": []
   },
   "source": [
    "### Now, let's try to find the intersection of two ensembles."
   ]
  },
  {
   "cell_type": "code",
   "execution_count": 23,
   "id": "0ff87056-e17f-4d92-a125-f3a184ca4bf4",
   "metadata": {
    "editable": true,
    "slideshow": {
     "slide_type": "slide"
    },
    "tags": []
   },
   "outputs": [
    {
     "name": "stdout",
     "output_type": "stream",
     "text": [
      "Finding intersection of two collections with 10,000 items each\n",
      "Items drawn from range 0 to 100,000\n",
      "List intersection (O(n²) - nested loops):\n",
      "709 ms ± 1.79 ms per loop (mean ± std. dev. of 7 runs, 1 loop each)\n",
      "Set intersection (O(n) - hash table magic):\n",
      "162 µs ± 992 ns per loop (mean ± std. dev. of 7 runs, 10,000 loops each)\n"
     ]
    }
   ],
   "source": [
    "# Example 2: Intersection of two collections\n",
    "import random\n",
    "\n",
    "# Create two lists with 10,000 random elements each from range 100,000\n",
    "N_items = 10_000\n",
    "N_range = 100_000\n",
    "\n",
    "# Generate unique random samples\n",
    "list1 = random.sample(range(N_range), N_items)  # No duplicates\n",
    "list2 = random.sample(range(N_range), N_items)  # No duplicates\n",
    "# Convert to sets, sets are similar to dictionary but without values\n",
    "set1 = set(list1)\n",
    "set2 = set(list2)\n",
    "\n",
    "print(f\"Finding intersection of two collections with {N_items:,} items each\")\n",
    "print(f\"Items drawn from range 0 to {N_range:,}\")\n",
    "\n",
    "# Method 1: List intersection (naive approach)\n",
    "def list_intersection(l1, l2):\n",
    "    results = []\n",
    "    for item in l1: \n",
    "        if item in l2:\n",
    "            results.append(item)\n",
    "    return results\n",
    "\n",
    "# Method 2: Set intersection (optimized)\n",
    "def set_intersection(s1, s2):\n",
    "    return s1 & s2\n",
    "\n",
    "print(\"List intersection (O(n²) - nested loops):\")\n",
    "list_result = %timeit -o list_intersection(list1, list2)\n",
    "\n",
    "print(\"Set intersection (O(n) - hash table magic):\")\n",
    "set_result = %timeit -o set_intersection(set1, set2)\n",
    "\n",
    "# Calculate speedup\n",
    "list_time = list_result.best\n",
    "set_time = set_result.best\n",
    "speedup = list_time / set_time"
   ]
  },
  {
   "cell_type": "code",
   "execution_count": 24,
   "id": "c57b18c6-e8ef-44b7-96fc-ee57a6bf3db6",
   "metadata": {
    "editable": true,
    "slideshow": {
     "slide_type": "slide"
    },
    "tags": []
   },
   "outputs": [
    {
     "name": "stdout",
     "output_type": "stream",
     "text": [
      "List intersection: 706.9 milliseconds\n",
      "Set intersection: 0.2 milliseconds\n",
      "Sets are 4,398x faster!\n",
      "==================================================\n",
      "Found 988 common items (list method)\n",
      "Found 988 common items (set method)\n"
     ]
    }
   ],
   "source": [
    "print(f\"List intersection: {list_time*1000:.1f} milliseconds\")\n",
    "print(f\"Set intersection: {set_time*1000:.1f} milliseconds\")\n",
    "print(f\"Sets are {speedup:,.0f}x faster!\")\n",
    "print(\"=\"*50)\n",
    "\n",
    "# Verify they give same results (just different order)\n",
    "list_result_actual = list_intersection(list1, list2)\n",
    "set_result_actual = set_intersection(set1, set2)\n",
    "print(f\"Found {len(list_result_actual)} common items (list method)\")\n",
    "print(f\"Found {len(set_result_actual)} common items (set method)\")"
   ]
  },
  {
   "cell_type": "markdown",
   "id": "b07d8dc6-dfe0-45c5-88ad-bc489559ac58",
   "metadata": {
    "editable": true,
    "slideshow": {
     "slide_type": "slide"
    },
    "tags": []
   },
   "source": [
    "## Why is it so much faster with Dictionaries or Sets\n",
    "## Answer: the hash map\n",
    "## But what is hashing ? \n",
    "Hashing is a mathematical function that takes any input (like a string or number) and converts it into a fixed-size integer that can be used as a direct address to instantly locate data in memory.\n",
    "\n",
    "- It's deterministic, meaning you always get the same results.\n",
    "- It tries to spread the results as much as possible (ideally, two inputs don't have the same hashed outputs)\n",
    "- There are many hash functions\n",
    "\n",
    "Basic polynomial hash:\n",
    "```python\n",
    "hash = 0\n",
    "for each character c in string:\n",
    "    hash = (hash * 31 + ascii_value(c)) % table_size\n",
    "\n",
    "hash = 0\n",
    "hash = (0 * 31 + 99) % 8 = 99 % 8 = 3    # 'c' = 99\n",
    "hash = (3 * 31 + 97) % 8 = 190 % 8 = 6   # 'a' = 97  \n",
    "hash = (6 * 31 + 116) % 8 = 302 % 8 = 6  # 't' = 116\n",
    "\n",
    "\"cat\" → position 6\n",
    "```"
   ]
  },
  {
   "cell_type": "code",
   "execution_count": 25,
   "id": "8f9f17db-43b4-46f7-aa0f-e264b0b700dc",
   "metadata": {
    "editable": true,
    "slideshow": {
     "slide_type": "slide"
    },
    "tags": []
   },
   "outputs": [
    {
     "name": "stdout",
     "output_type": "stream",
     "text": [
      "2252410359971589713\n",
      "-3206993190246825253\n",
      "42\n"
     ]
    },
    {
     "ename": "TypeError",
     "evalue": "unhashable type: 'list'",
     "output_type": "error",
     "traceback": [
      "\u001b[0;31m---------------------------------------------------------------------------\u001b[0m",
      "\u001b[0;31mTypeError\u001b[0m                                 Traceback (most recent call last)",
      "Cell \u001b[0;32mIn[25], line 4\u001b[0m\n\u001b[1;32m      2\u001b[0m \u001b[38;5;28mprint\u001b[39m(\u001b[38;5;28mhash\u001b[39m(\u001b[38;5;124m\"\u001b[39m\u001b[38;5;124mbanana\u001b[39m\u001b[38;5;124m\"\u001b[39m))  \n\u001b[1;32m      3\u001b[0m \u001b[38;5;28mprint\u001b[39m(\u001b[38;5;28mhash\u001b[39m(\u001b[38;5;241m42\u001b[39m))  \n\u001b[0;32m----> 4\u001b[0m \u001b[38;5;28mprint\u001b[39m(\u001b[38;5;28;43mhash\u001b[39;49m\u001b[43m(\u001b[49m\u001b[43m[\u001b[49m\u001b[38;5;241;43m1\u001b[39;49m\u001b[43m,\u001b[49m\u001b[38;5;241;43m2\u001b[39;49m\u001b[43m,\u001b[49m\u001b[38;5;241;43m3\u001b[39;49m\u001b[43m]\u001b[49m\u001b[43m)\u001b[49m) \u001b[38;5;66;03m# can't hash a list\u001b[39;00m\n",
      "\u001b[0;31mTypeError\u001b[0m: unhashable type: 'list'"
     ]
    }
   ],
   "source": [
    "print(hash(\"apple\"))\n",
    "print(hash(\"banana\"))  \n",
    "print(hash(42))  \n",
    "print(hash([1,2,3])) # can't hash a list"
   ]
  },
  {
   "cell_type": "markdown",
   "id": "c2ae7c08-ab9b-4fb8-b895-c690384f48a7",
   "metadata": {
    "editable": true,
    "slideshow": {
     "slide_type": "slide"
    },
    "tags": []
   },
   "source": [
    "## Internal Python logic (simplified)\n",
    "\n",
    "```python\n",
    "hash_value = hash(\"apple\")      # → 2252410359971589713\n",
    "array_size = 16                 # Current internal array size\n",
    "position = hash_value % array_size  # → 1847203847 % 16 = 7\n",
    "```\n",
    "\n",
    "- Python looks in array[7] for \"apple\"\n",
    "- Position 7 maps to a memory address\n",
    "- CPUs can access any memory address almost instantly through what's called **random access**.\n",
    "\n",
    "CPU: \"Give me the data at address 0x1000038\"  \n",
    "Memory Controller: *decodes address* → Row 1000, Column 38 of RAM chip #3  \n",
    "RAM: *sends back 8 bytes of data*  \n",
    "CPU: \"Got it!\" (stores in register) \n",
    "\n",
    "\n",
    "Random access: CPU calculates exact address → jumps directly there  \n",
    "Sequential access: CPU starts at beginning → reads address 0, then 1, then 2... until found  \n",
    "\n",
    "\n",
    "RAM access: \\~50\\-100 nanoseconds   \n",
    "But with CPU caches, often much faster (\\~1\\-10 nanoseconds)  "
   ]
  },
  {
   "cell_type": "markdown",
   "id": "5b96a817-16ca-4bb5-9f47-e2f8945a9955",
   "metadata": {
    "editable": true,
    "slideshow": {
     "slide_type": "slide"
    },
    "tags": []
   },
   "source": [
    "## What does this mean for looking up a value in a dict?\n",
    "When you create a dictionary in Python, **Python's hash table implementation** will compute the hash and take the modulo against the size of the internal array for each key. It will then store the **key-value pair** at this array position.\n",
    "\n",
    "So, when you want to retrieve a value by its key, Python computes `hash(key) % array_size` to find the array position, then looks at that position in memory.\n",
    "\n",
    "## What happens when searching in a list?\n",
    "It's different for a list - we have to work sequentially. **When searching for a specific value** (like `value in my_list`), Python must examine each element one by one until it either finds the target value or reaches the end of the list.\n"
   ]
  },
  {
   "cell_type": "markdown",
   "id": "02b9e9aa-5296-4777-9ad8-1fda56a1be32",
   "metadata": {
    "editable": true,
    "slideshow": {
     "slide_type": "slide"
    },
    "tags": []
   },
   "source": [
    "## Slide 16: What Happens When hash() % array_size Collides?\n",
    "**When Different Keys Map to the Same Position**\n",
    "\n",
    "```python\n",
    "hash(\"apple\") % 8   # → 3\n",
    "hash(\"grape\") % 8   # → 3  # Collision!\n",
    "```\n",
    "\n",
    "**Python's solution: Open Addressing with Probing**\n",
    "1. Check position 3 → occupied by \"apple\"\n",
    "2. Follow predetermined sequence: try positions 6, 1, 4...  \n",
    "3. Find empty slot at position 6 → store \"grape\" there\n",
    "4. **Remember this path for future lookups!**\n",
    "\n",
    "**When looking up \"grape\" later:**\n",
    "- Calculate: hash(\"grape\") % 8 = 3\n",
    "- Check position 3 → find \"apple\" (wrong key)\n",
    "- Follow same probing sequence → position 6 → find \"grape\"!\n",
    "\n",
    "\n",
    "\n"
   ]
  },
  {
   "cell_type": "markdown",
   "id": "0f29db87-1c9e-4950-90dd-f02645770c05",
   "metadata": {
    "editable": true,
    "slideshow": {
     "slide_type": "slide"
    },
    "tags": []
   },
   "source": [
    "## What Happens When We Increase the Array Size?\n",
    "**Dynamic Resizing: Keeping Performance Optimal**\n",
    "\n",
    "**When dictionary gets ~66% full, Python doubles the array size:**\n",
    "\n",
    "```python\n",
    "# Before: array_size = 8\n",
    "hash(\"apple\") % 8  = 3\n",
    "hash(\"grape\") % 8  = 3  # Collision!\n",
    "\n",
    "# After resize: array_size = 16  \n",
    "hash(\"apple\") % 16 = 11  # Different position!\n",
    "hash(\"grape\") % 16 = 3   # No more collision!\n",
    "```\n",
    "\n",
    "**The resizing process:**\n",
    "1. Create new, larger array (typically double size)\n",
    "2. Rehash every existing key with new array size\n",
    "3. Move all items to their new positions\n",
    "4. Delete old array\n",
    "\n",
    "**Result: Fewer collisions, faster lookups, maintained O(1) performance**\n",
    "\n"
   ]
  },
  {
   "cell_type": "markdown",
   "id": "66613a1d-7cd9-493a-831d-ac458b28a011",
   "metadata": {
    "editable": true,
    "slideshow": {
     "slide_type": "slide"
    },
    "tags": []
   },
   "source": [
    "## The Memory Trade-off\n",
    "**Speed Comes at a Cost**\n",
    "\n",
    "```python\n",
    "import sys\n",
    "print(f\"Set with 1,000 items: {sys.getsizeof(set1):,} bytes\")\n",
    "print(f\"List with 1,000 items: {sys.getsizeof(list1):,} bytes\")\n",
    "```\n",
    "```\n",
    "Set with 1,000 items: 524,504 bytes\n",
    "List with 1,000 items: 80,056 bytes\n",
    "```\n",
    "\n",
    "**Why hash tables use more memory:**\n",
    "- **Sparse arrays**: Keep ~33% empty slots to minimize collisions\n",
    "- **Hash caching**: Store hash values to avoid recalculation  \n",
    "- **Metadata overhead**: Bookkeeping for dynamic resizing\n",
    "- **Result: ~6x more memory for same data**\n",
    "\n",
    "**The fundamental trade-off: Memory for Speed**\n",
    "- Hash tables: More memory, O(1) operations\n",
    "- Lists: Less memory, O(n) search operations"
   ]
  },
  {
   "cell_type": "markdown",
   "id": "e191eb43-c885-4ffa-80bc-e79f42490c9e",
   "metadata": {
    "editable": true,
    "slideshow": {
     "slide_type": "slide"
    },
    "tags": []
   },
   "source": [
    "## Why Can't We Hash List Elements for Faster Retrieval?\n",
    "**\"Why don't we just hash each element in a list to make lookups O(1)?\"**\n",
    "\n",
    "This seems like an obvious optimization - if hashing works so well for dictionaries, why not apply it to lists?\n"
   ]
  },
  {
   "cell_type": "markdown",
   "id": "250e6925-7929-4e4b-9fd1-50f83a6adbf8",
   "metadata": {
    "editable": true,
    "slideshow": {
     "slide_type": "subslide"
    },
    "tags": []
   },
   "source": [
    "## Problem #1 - Not All Elements Are Hashable\n",
    "\n",
    "```python\n",
    "# These work fine in lists but CAN'T be hashed:\n",
    "my_list = [\n",
    "    [1, 2, 3],           # Nested list - mutable\n",
    "    {\"key\": \"value\"},    # Dictionary - mutable  \n",
    "    [[1, 2], [3, 4]],    # List of lists - mutable\n",
    "    {1, 2, 3}            # Set - mutable\n",
    "]\n",
    "\n",
    "# Trying to hash them fails:\n",
    "hash([1, 2, 3])        # TypeError: unhashable type: 'list'\n",
    "hash({\"key\": \"value\"}) # TypeError: unhashable type: 'dict'\n",
    "```\n",
    "\n",
    "**Hash tables require immutable, hashable keys:**\n",
    "- Lists can contain ANY Python object\n",
    "- Hash tables can only use hashable objects as keys\n",
    "- Many common list elements (nested lists, dicts, sets) can't be hashed\n"
   ]
  },
  {
   "cell_type": "markdown",
   "id": "50f12b66-985e-47f3-a6f6-712595b86d50",
   "metadata": {
    "editable": true,
    "slideshow": {
     "slide_type": "subslide"
    },
    "tags": []
   },
   "source": [
    "## Problem #2 - Lists Preserve Order and Position\n",
    "\n",
    "```python\n",
    "my_list = [\"apple\", \"banana\", \"cherry\", \"apple\"]\n",
    "print(my_list[0])  # → \"apple\" (first occurrence)\n",
    "print(my_list[3])  # → \"apple\" (second occurrence)\n",
    "print(my_list.index(\"apple\"))  # → 0 (finds FIRST occurrence)\n",
    "```\n",
    "\n",
    "**Hash tables destroy positional information:**\n",
    "- Hash(\"apple\") always maps to the same position\n",
    "- But \"apple\" appears at both index 0 AND index 3 in the list\n",
    "- A hash table can't tell you which occurrence you want\n"
   ]
  },
  {
   "cell_type": "markdown",
   "id": "4e5360e7-47ae-466d-8425-991ca4ee53be",
   "metadata": {
    "editable": true,
    "slideshow": {
     "slide_type": "slide"
    },
    "tags": []
   },
   "source": [
    "# Data Structures: Pros and Cons Summary\n",
    "\n",
    "## Lists\n",
    "**✅ Pros:**\n",
    "- **Ordered**: Maintains insertion order and position\n",
    "- **Duplicates allowed**: Can store the same value multiple times\n",
    "- **Index access**: Direct access to any position - `my_list[5]` is O(1)\n",
    "- **Flexible**: Can contain any Python object (mutable or immutable)\n",
    "- **Rich operations**: append, insert, pop, slice, reverse, sort\n",
    "- **Memory efficient**: Compact storage, only ~8 bytes per item reference\n",
    "\n",
    "**❌ Cons:**\n",
    "- **Slow search**: Finding an item is O(n) - must check each element\n",
    "- **Slow membership testing**: `item in my_list` is O(n)\n",
    "- **Slow operations on large lists**: remove(), index() are O(n)\n",
    "\n",
    "**💡 Best for:** Sequences, ordered data, when you need positional access\n"
   ]
  },
  {
   "cell_type": "markdown",
   "id": "1aeccadc-9b30-4c9f-bbb0-63b499134c34",
   "metadata": {
    "editable": true,
    "slideshow": {
     "slide_type": "subslide"
    },
    "tags": []
   },
   "source": [
    "## Sets\n",
    "**✅ Pros:**\n",
    "- **Lightning fast lookup**: `item in my_set` is O(1) \n",
    "- **Fast set operations**: union, intersection, difference all optimized\n",
    "- **Automatic deduplication**: No duplicate values\n",
    "- **Mathematical operations**: Natural for set theory operations\n",
    "\n",
    "**❌ Cons:**\n",
    "- **No order**: Items have no meaningful sequence (though Python 3.7+ preserves insertion order)\n",
    "- **No duplicates**: Can't store the same value twice\n",
    "- **No indexing**: Can't access \"the 3rd item\" - `my_set[2]` doesn't exist\n",
    "- **Memory hungry**: ~6x more memory than equivalent list\n",
    "- **Limited element types**: Only hashable (immutable) objects allowed\n",
    "\n",
    "**💡 Best for:** Membership testing, eliminating duplicates, set operations"
   ]
  },
  {
   "cell_type": "markdown",
   "id": "fb01708c-7e86-4008-8f62-3e68f69cdc88",
   "metadata": {
    "editable": true,
    "slideshow": {
     "slide_type": "subslide"
    },
    "tags": []
   },
   "source": [
    "## Dictionaries\n",
    "**✅ Pros:**\n",
    "- **Ultra-fast key lookup**: `my_dict[key]` is O(1)\n",
    "- **Key-value mapping**: Associate data with meaningful identifiers\n",
    "- **Ordered**: Maintains insertion order (Python 3.7+)\n",
    "- **Flexible values**: Values can be any Python object\n",
    "- **Rich operations**: get(), keys(), values(), items(), update()\n",
    "\n",
    "**❌ Cons:**\n",
    "- **Keys must be hashable**: No lists, sets, or dicts as keys\n",
    "- **No duplicate keys**: Each key can appear only once\n",
    "- **Memory overhead**: Significant memory usage for hash table structure\n",
    "- **No positional access**: Can't get \"the 3rd item\" without iteration\n",
    "- **Two-part structure**: More complex than simple sequences\n",
    "\n",
    "**💡 Best for:** Key-value relationships, fast lookup by identifier, caching"
   ]
  },
  {
   "cell_type": "markdown",
   "id": "7d0b0cc1-f6e1-4d08-a4d8-1118ea537c23",
   "metadata": {
    "editable": true,
    "slideshow": {
     "slide_type": "subslide"
    },
    "tags": []
   },
   "source": [
    "## The Bottom Line: Choose Your Tool\n",
    "\n",
    "**When to use each:**\n",
    "\n",
    "🔹 **List** → You need order, positions, or duplicates  \n",
    "🔹 **Set** → You need fast \"does this exist?\" checks  \n",
    "🔹 **Dict** → You need fast \"what's associated with this key?\" lookups\n",
    "\n",
    "**Memory vs Speed Trade-off:**\n",
    "- **Lists/Tuples**: Minimal memory, slower search\n",
    "- **Sets/Dicts**: More memory, lightning-fast access\n",
    "\n",
    "**The Golden Rule:** Pick the data structure that matches your primary access pattern. Don't try to force one structure to do everything!\n"
   ]
  },
  {
   "cell_type": "code",
   "execution_count": null,
   "id": "429add0a-27bf-479e-b665-646daa192af4",
   "metadata": {
    "editable": true,
    "slideshow": {
     "slide_type": ""
    },
    "tags": []
   },
   "outputs": [],
   "source": []
  }
 ],
 "metadata": {
  "kernelspec": {
   "display_name": "Python 3 (ipykernel)",
   "language": "python",
   "name": "python3"
  },
  "language_info": {
   "codemirror_mode": {
    "name": "ipython",
    "version": 3
   },
   "file_extension": ".py",
   "mimetype": "text/x-python",
   "name": "python",
   "nbconvert_exporter": "python",
   "pygments_lexer": "ipython3",
   "version": "3.9.12"
  }
 },
 "nbformat": 4,
 "nbformat_minor": 5
}
