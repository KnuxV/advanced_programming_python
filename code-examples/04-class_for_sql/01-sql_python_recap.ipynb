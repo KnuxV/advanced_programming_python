{
 "cells": [
  {
   "cell_type": "markdown",
   "id": "5029de41",
   "metadata": {},
   "source": [
    "# SQLite with Python - Quick Recap\n",
    "\n",
    "This is a reminder of working with SQL databases using Python's built-in `sqlite3` library. No classes, no ORM - just simple, direct database operations that are quick and efficient for basic tasks.\n",
    "\n",
    "## Setting up the Database Path with Pathlib\n",
    "\n",
    "First, let's understand the file structure and why we use `Path.cwd().parent.parent`:\n",
    "\n",
    "```\n",
    "Advanced_Programming/\n",
    "├── code-examples/\n",
    "│   ├── 04-class_for_sql/\n",
    "│   │   └── departement_example.ipynb  ← We are here\n",
    "│   └── 04-data_structures.ipynb\n",
    "├── exercices/\n",
    "│   ├── 01-architecture/\n",
    "│   ├── 02-shell/\n",
    "│   └── ...\n",
    "├── lessons/\n",
    "│   ├── 01-shell-intro.md\n",
    "│   └── ...\n",
    "└── data/\n",
    "    └── villes_france.db  ← We want to reach this\n",
    "```\n",
    "\n",
    "```python\n",
    "from pathlib import Path\n",
    "\n",
    "p_departement = Path.cwd().parent.parent / \"data\" / \"villes_france.db\" \n",
    "p_departement\n",
    "```\n",
    "\n",
    "**Path breakdown:**\n",
    "- `Path.cwd()` → Current working directory: `Advanced_Programming/code-examples/04-class_for_sql/`\n",
    "- `.parent` → Go up one level: `Advanced_Programming/code-examples/`\n",
    "- `.parent` → Go up another level: `Advanced_Programming/`\n",
    "- `/ \"data\" / \"villes_france.db\"` → Navigate to: `Advanced_Programming/data/villes_france.db`\n",
    "\n",
    "**Why Pathlib?** It's more readable than string concatenation and works across operating systems (Windows uses `\\`, Unix uses `/`).\n",
    "\n",
    "\n",
    "\n",
    "\n"
   ]
  },
  {
   "cell_type": "code",
   "execution_count": null,
   "id": "78bd0931",
   "metadata": {},
   "outputs": [],
   "source": []
  },
  {
   "cell_type": "code",
   "execution_count": 22,
   "id": "9f37d6d8",
   "metadata": {},
   "outputs": [
    {
     "data": {
      "text/plain": [
       "PosixPath('/home/kevin-desktop/Documents/Seafile/COURS/Advanced_Programming/data/villes_france.db')"
      ]
     },
     "execution_count": 22,
     "metadata": {},
     "output_type": "execute_result"
    }
   ],
   "source": [
    "from pathlib import Path\n",
    "\n",
    "p_departement = Path.cwd().parent.parent / \"data\" / \"villes_france.db\" \n",
    "p_departement"
   ]
  },
  {
   "cell_type": "code",
   "execution_count": 23,
   "id": "d68f028e",
   "metadata": {},
   "outputs": [
    {
     "name": "stdout",
     "output_type": "stream",
     "text": [
      "Database found!\n"
     ]
    }
   ],
   "source": [
    "# Check if file exists\n",
    "if p_departement.exists():\n",
    "    print(\"Database found!\")\n",
    "else:\n",
    "    print(f\"Database not found at: {p_departement.resolve()}\")"
   ]
  },
  {
   "cell_type": "code",
   "execution_count": 24,
   "id": "2ad05872",
   "metadata": {},
   "outputs": [
    {
     "name": "stdout",
     "output_type": "stream",
     "text": [
      "Connected to database: /home/kevin-desktop/Documents/Seafile/COURS/Advanced_Programming/data/villes_france.db\n"
     ]
    }
   ],
   "source": [
    "import sqlite3\n",
    "conn = sqlite3.connect(p_departement)\n",
    "cursor = conn.cursor()\n",
    "print(f\"Connected to database: {p_departement}\")"
   ]
  },
  {
   "cell_type": "markdown",
   "id": "58f7f8ad",
   "metadata": {},
   "source": [
    "**Key concepts:**\n",
    "- **Connection (`conn`)**: Represents the database connection\n",
    "- **Cursor (`cursor`)**: Used to execute SQL commands and fetch results\n",
    "- Always close connections when done: `conn.close()`"
   ]
  },
  {
   "cell_type": "code",
   "execution_count": 16,
   "id": "bc62f711",
   "metadata": {},
   "outputs": [
    {
     "name": "stdout",
     "output_type": "stream",
     "text": [
      "  • villes\n",
      "  • sqlite_sequence\n",
      "  • departement\n"
     ]
    }
   ],
   "source": [
    "# Get all table names\n",
    "cursor.execute(\"SELECT name FROM sqlite_master WHERE type='table';\")\n",
    "tables = cursor.fetchall()\n",
    "\n",
    "for table in tables:\n",
    "    print(f\"  • {table[0]}\")"
   ]
  },
  {
   "cell_type": "markdown",
   "id": "3e675e05",
   "metadata": {},
   "source": [
    "**What's happening:**\n",
    "- `sqlite_master` is SQLite's system table containing metadata\n",
    "- `WHERE type='table'` filters to show only tables (not indexes, views, etc.)\n",
    "- `fetchall()` returns all results as a list of tuples"
   ]
  },
  {
   "cell_type": "code",
   "execution_count": null,
   "id": "68e4817f",
   "metadata": {},
   "outputs": [
    {
     "data": {
      "text/plain": [
       "[(1, '01', 'Ain', 'AIN', 'ain', 'A500'),\n",
       " (2, '02', 'Aisne', 'AISNE', 'aisne', 'A250'),\n",
       " (3, '03', 'Allier', 'ALLIER', 'allier', 'A460'),\n",
       " (4,\n",
       "  '04',\n",
       "  'Alpes-de-Haute-Provence',\n",
       "  'ALPES-DE-HAUTE-PROVENCE',\n",
       "  'alpes-de-haute-provence',\n",
       "  'A412316152'),\n",
       " (5, '05', 'Hautes-Alpes', 'HAUTES-ALPES', 'hautes-alpes', 'H32412')]"
      ]
     },
     "execution_count": 29,
     "metadata": {},
     "output_type": "execute_result"
    }
   ],
   "source": [
    "cursor.execute(\"select * FROM departement LIMIT 5;\")\n",
    "# Ugly list of dict, no column names\n",
    "ans = cursor.fetchall()\n",
    "ans"
   ]
  },
  {
   "cell_type": "markdown",
   "id": "6d7b17fe",
   "metadata": {},
   "source": [
    "\n",
    "**When to use each:**\n",
    "- `fetchall()`: Small result sets, when you need all data\n",
    "- `fetchone()`: Processing results one by one, or just checking if results exist\n",
    "- `fetchmany(size)`: Large datasets, memory management"
   ]
  },
  {
   "cell_type": "code",
   "execution_count": 41,
   "id": "2ad33275",
   "metadata": {},
   "outputs": [
    {
     "data": {
      "text/html": [
       "<div>\n",
       "<style scoped>\n",
       "    .dataframe tbody tr th:only-of-type {\n",
       "        vertical-align: middle;\n",
       "    }\n",
       "\n",
       "    .dataframe tbody tr th {\n",
       "        vertical-align: top;\n",
       "    }\n",
       "\n",
       "    .dataframe thead th {\n",
       "        text-align: right;\n",
       "    }\n",
       "</style>\n",
       "<table border=\"1\" class=\"dataframe\">\n",
       "  <thead>\n",
       "    <tr style=\"text-align: right;\">\n",
       "      <th></th>\n",
       "      <th>departement_id</th>\n",
       "      <th>departement_code</th>\n",
       "      <th>departement_nom</th>\n",
       "      <th>departement_nom_uppercase</th>\n",
       "      <th>departement_slug</th>\n",
       "      <th>departement_nom_soundex</th>\n",
       "    </tr>\n",
       "  </thead>\n",
       "  <tbody>\n",
       "    <tr>\n",
       "      <th>0</th>\n",
       "      <td>1</td>\n",
       "      <td>01</td>\n",
       "      <td>Ain</td>\n",
       "      <td>AIN</td>\n",
       "      <td>ain</td>\n",
       "      <td>A500</td>\n",
       "    </tr>\n",
       "    <tr>\n",
       "      <th>1</th>\n",
       "      <td>2</td>\n",
       "      <td>02</td>\n",
       "      <td>Aisne</td>\n",
       "      <td>AISNE</td>\n",
       "      <td>aisne</td>\n",
       "      <td>A250</td>\n",
       "    </tr>\n",
       "    <tr>\n",
       "      <th>2</th>\n",
       "      <td>3</td>\n",
       "      <td>03</td>\n",
       "      <td>Allier</td>\n",
       "      <td>ALLIER</td>\n",
       "      <td>allier</td>\n",
       "      <td>A460</td>\n",
       "    </tr>\n",
       "    <tr>\n",
       "      <th>3</th>\n",
       "      <td>4</td>\n",
       "      <td>04</td>\n",
       "      <td>Alpes-de-Haute-Provence</td>\n",
       "      <td>ALPES-DE-HAUTE-PROVENCE</td>\n",
       "      <td>alpes-de-haute-provence</td>\n",
       "      <td>A412316152</td>\n",
       "    </tr>\n",
       "    <tr>\n",
       "      <th>4</th>\n",
       "      <td>5</td>\n",
       "      <td>05</td>\n",
       "      <td>Hautes-Alpes</td>\n",
       "      <td>HAUTES-ALPES</td>\n",
       "      <td>hautes-alpes</td>\n",
       "      <td>H32412</td>\n",
       "    </tr>\n",
       "  </tbody>\n",
       "</table>\n",
       "</div>"
      ],
      "text/plain": [
       "   departement_id departement_code          departement_nom  \\\n",
       "0               1               01                      Ain   \n",
       "1               2               02                    Aisne   \n",
       "2               3               03                   Allier   \n",
       "3               4               04  Alpes-de-Haute-Provence   \n",
       "4               5               05             Hautes-Alpes   \n",
       "\n",
       "  departement_nom_uppercase         departement_slug departement_nom_soundex  \n",
       "0                       AIN                      ain                    A500  \n",
       "1                     AISNE                    aisne                    A250  \n",
       "2                    ALLIER                   allier                    A460  \n",
       "3   ALPES-DE-HAUTE-PROVENCE  alpes-de-haute-provence              A412316152  \n",
       "4              HAUTES-ALPES             hautes-alpes                  H32412  "
      ]
     },
     "execution_count": 41,
     "metadata": {},
     "output_type": "execute_result"
    }
   ],
   "source": [
    "import pandas as pd\n",
    "df = pd.DataFrame(ans, columns=[col_name[0] for col_name in cursor.description])\n",
    "df"
   ]
  },
  {
   "cell_type": "code",
   "execution_count": null,
   "id": "a5b052bc",
   "metadata": {},
   "outputs": [],
   "source": []
  },
  {
   "cell_type": "code",
   "execution_count": 42,
   "id": "dfcf9c2a",
   "metadata": {},
   "outputs": [
    {
     "data": {
      "text/html": [
       "<div>\n",
       "<style scoped>\n",
       "    .dataframe tbody tr th:only-of-type {\n",
       "        vertical-align: middle;\n",
       "    }\n",
       "\n",
       "    .dataframe tbody tr th {\n",
       "        vertical-align: top;\n",
       "    }\n",
       "\n",
       "    .dataframe thead th {\n",
       "        text-align: right;\n",
       "    }\n",
       "</style>\n",
       "<table border=\"1\" class=\"dataframe\">\n",
       "  <thead>\n",
       "    <tr style=\"text-align: right;\">\n",
       "      <th></th>\n",
       "      <th>departement_id</th>\n",
       "      <th>departement_code</th>\n",
       "      <th>departement_nom</th>\n",
       "      <th>departement_nom_uppercase</th>\n",
       "      <th>departement_slug</th>\n",
       "      <th>departement_nom_soundex</th>\n",
       "    </tr>\n",
       "  </thead>\n",
       "  <tbody>\n",
       "    <tr>\n",
       "      <th>0</th>\n",
       "      <td>1</td>\n",
       "      <td>01</td>\n",
       "      <td>Ain</td>\n",
       "      <td>AIN</td>\n",
       "      <td>ain</td>\n",
       "      <td>A500</td>\n",
       "    </tr>\n",
       "    <tr>\n",
       "      <th>1</th>\n",
       "      <td>2</td>\n",
       "      <td>02</td>\n",
       "      <td>Aisne</td>\n",
       "      <td>AISNE</td>\n",
       "      <td>aisne</td>\n",
       "      <td>A250</td>\n",
       "    </tr>\n",
       "    <tr>\n",
       "      <th>2</th>\n",
       "      <td>3</td>\n",
       "      <td>03</td>\n",
       "      <td>Allier</td>\n",
       "      <td>ALLIER</td>\n",
       "      <td>allier</td>\n",
       "      <td>A460</td>\n",
       "    </tr>\n",
       "    <tr>\n",
       "      <th>3</th>\n",
       "      <td>4</td>\n",
       "      <td>04</td>\n",
       "      <td>Alpes-de-Haute-Provence</td>\n",
       "      <td>ALPES-DE-HAUTE-PROVENCE</td>\n",
       "      <td>alpes-de-haute-provence</td>\n",
       "      <td>A412316152</td>\n",
       "    </tr>\n",
       "    <tr>\n",
       "      <th>4</th>\n",
       "      <td>5</td>\n",
       "      <td>05</td>\n",
       "      <td>Hautes-Alpes</td>\n",
       "      <td>HAUTES-ALPES</td>\n",
       "      <td>hautes-alpes</td>\n",
       "      <td>H32412</td>\n",
       "    </tr>\n",
       "  </tbody>\n",
       "</table>\n",
       "</div>"
      ],
      "text/plain": [
       "   departement_id departement_code          departement_nom  \\\n",
       "0               1               01                      Ain   \n",
       "1               2               02                    Aisne   \n",
       "2               3               03                   Allier   \n",
       "3               4               04  Alpes-de-Haute-Provence   \n",
       "4               5               05             Hautes-Alpes   \n",
       "\n",
       "  departement_nom_uppercase         departement_slug departement_nom_soundex  \n",
       "0                       AIN                      ain                    A500  \n",
       "1                     AISNE                    aisne                    A250  \n",
       "2                    ALLIER                   allier                    A460  \n",
       "3   ALPES-DE-HAUTE-PROVENCE  alpes-de-haute-provence              A412316152  \n",
       "4              HAUTES-ALPES             hautes-alpes                  H32412  "
      ]
     },
     "execution_count": 42,
     "metadata": {},
     "output_type": "execute_result"
    }
   ],
   "source": [
    "# Or even simpler with the built in function in pandas\n",
    "df = pd.read_sql_query(\"SELECT * FROM departement LIMIT 5\", conn)\n",
    "df"
   ]
  },
  {
   "cell_type": "code",
   "execution_count": null,
   "id": "90ec864b",
   "metadata": {},
   "outputs": [],
   "source": []
  }
 ],
 "metadata": {
  "kernelspec": {
   "display_name": "venv",
   "language": "python",
   "name": "python3"
  },
  "language_info": {
   "codemirror_mode": {
    "name": "ipython",
    "version": 3
   },
   "file_extension": ".py",
   "mimetype": "text/x-python",
   "name": "python",
   "nbconvert_exporter": "python",
   "pygments_lexer": "ipython3",
   "version": "3.11.5"
  }
 },
 "nbformat": 4,
 "nbformat_minor": 5
}
