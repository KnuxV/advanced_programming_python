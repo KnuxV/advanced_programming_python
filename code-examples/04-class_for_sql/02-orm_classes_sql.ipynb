{
 "cells": [
  {
   "metadata": {},
   "cell_type": "markdown",
   "source": [
    "# SQLAlchemy ORM with French Cities & Departments\n",
    "\n",
    "This notebook demonstrates SQLAlchemy's Object-Relational Mapping (ORM) using a real dataset of French cities and departments.\n",
    "\n",
    "## Database Connection Setup\n",
    "\n",
    "We connect to a SQLite database containing French geographical data:\n",
    "- **SQLite**: File-based database, perfect for learning and prototyping\n",
    "- **echo=True**: Shows all SQL queries SQLAlchemy generates (educational!)\n",
    "- **Engine**: SQLAlchemy's \"factory\" for database connections\n"
   ],
   "id": "9431d84978e8279d"
  },
  {
   "metadata": {
    "ExecuteTime": {
     "end_time": "2025-09-03T13:26:09.270903Z",
     "start_time": "2025-09-03T13:26:09.266680Z"
    }
   },
   "cell_type": "code",
   "source": [
    "from sqlalchemy import create_engine\n",
    "from pathlib import Path\n",
    "\n",
    "\n",
    "p_departement = Path.cwd() / \"data\" / \"villes_france.db\"\n",
    "engine = create_engine(f\"sqlite:///{p_departement}\")\n",
    "\n",
    "engine"
   ],
   "id": "abdd18b20cb630e7",
   "outputs": [
    {
     "data": {
      "text/plain": [
       "Engine(sqlite:////home/kevin-work/Documents/Seafile/COURS/Advanced_Programming/code-examples/04-class_for_sql/data/villes_france.db)"
      ]
     },
     "execution_count": 11,
     "metadata": {},
     "output_type": "execute_result"
    }
   ],
   "execution_count": 11
  },
  {
   "metadata": {},
   "cell_type": "markdown",
   "source": [
    "## ORM Class Definitions\n",
    "\n",
    "**Object-Relational Mapping (ORM)** lets us work with database tables as Python classes:\n",
    "\n",
    "### Key Concepts:\n",
    "- **DeclarativeBase**: All ORM classes inherit from this\n",
    "- **Mapped[type]**: Type hints that SQLAlchemy understands\n",
    "- **mapped_column()**: Defines database column properties\n",
    "- **ForeignKey**: Creates relationships between tables\n",
    "\n",
    "### Table Relationships:\n",
    "- `Ville.department` → `Departement.departement_code` (many-to-one)\n",
    "- Each city belongs to exactly one department\n",
    "- Each department can have many cities\n"
   ],
   "id": "3c5d7ae8a0633ed3"
  },
  {
   "metadata": {
    "ExecuteTime": {
     "end_time": "2025-09-03T13:26:11.686810Z",
     "start_time": "2025-09-03T13:26:11.675531Z"
    }
   },
   "cell_type": "code",
   "source": [
    "# SQLAlchemy ORM Imports - Essential building blocks\n",
    "from sqlalchemy import ForeignKey      # Creates relationships between tables\n",
    "from sqlalchemy import String, Text    # Column data types (String = VARCHAR, Text = unlimited text)\n",
    "from sqlalchemy.orm import DeclarativeBase  # Base class for all ORM models\n",
    "from sqlalchemy.orm import Mapped       # Type annotation that tells SQLAlchemy about column types\n",
    "from sqlalchemy.orm import mapped_column # Defines actual database columns with constraints\n",
    "from sqlalchemy.orm import relationship  # Defines object-level relationships (not used here but imported)\n",
    "\n",
    "# Base class - ALL your ORM classes must inherit from this\n",
    "# Think of it as the \"blueprint maker\" for database tables\n",
    "class Base(DeclarativeBase):\n",
    "    pass\n",
    "\n",
    "# Departement class = \"departement\" table in database\n",
    "class Departement(Base):\n",
    "    # __tablename__ tells SQLAlchemy which database table this class represents\n",
    "    __tablename__ = \"departement\"\n",
    "\n",
    "    # Column definitions using modern SQLAlchemy 2.0 syntax:\n",
    "    # Mapped[type] = type hint for Python + SQLAlchemy\n",
    "    # mapped_column() = actual database column configuration\n",
    "\n",
    "    # Primary key: unique identifier for each row\n",
    "    # SQLAlchemy automatically makes this AUTOINCREMENT in SQLite\n",
    "    departement_id: Mapped[int] = mapped_column(primary_key=True)\n",
    "\n",
    "    # Text columns: unlimited length strings\n",
    "    # In other databases, Text = CLOB/LONGTEXT, String(50) = VARCHAR(50)\n",
    "    departement_code: Mapped[str] = mapped_column(Text)  # e.g., \"75\", \"971\"\n",
    "    departement_nom: Mapped[str] = mapped_column(Text)   # e.g., \"Paris\", \"Guadeloupe\"\n",
    "\n",
    "    def is_outremer(self) -> bool:\n",
    "        \"\"\"\n",
    "        Custom Python method - this is NOT a database column!\n",
    "        Business logic: French overseas departments have 3-digit codes (971, 972, etc.)\n",
    "        Metropolitan departments have 2-digit codes (01, 02, ..., 95)\n",
    "        \"\"\"\n",
    "        return len(self.departement_code) == 3\n",
    "\n",
    "# Ville class = \"villes\" table in database\n",
    "class Ville(Base):\n",
    "    __tablename__ = \"villes\"\n",
    "    \n",
    "    # Primary key column - unique ID for each city\n",
    "    id: Mapped[int] = mapped_column(primary_key=True)\n",
    "    # Note: AUTOINCREMENT is automatic for integer primary keys in SQLAlchemy\n",
    "\n",
    "    # FOREIGN KEY RELATIONSHIP - This is how tables connect!\n",
    "    # This column stores department codes and references departement.departement_code\n",
    "    # Creates SQL: FOREIGN KEY (department) REFERENCES departement(departement_code)\n",
    "    department: Mapped[str] = mapped_column(ForeignKey(\"departement.departement_code\"))\n",
    "\n",
    "    # Regular data columns with different types:\n",
    "    name: Mapped[str] = mapped_column(Text)              # City name (unlimited text)\n",
    "    population_2012: Mapped[int] = mapped_column()       # Integer (SQL: INTEGER)\n",
    "    surface: Mapped[float] = mapped_column()             # Decimal number (SQL: REAL)\n",
    "\n",
    "    # Unique constraint: no two cities can have the same commune code\n",
    "    # Creates SQL: UNIQUE(commune_code)\n",
    "    commune_code: Mapped[str] = mapped_column(Text, unique=True)\n",
    "    \n",
    "    def __repr__(self) -> str:\n",
    "        \"\"\"\n",
    "        String representation for debugging/printing\n",
    "        When you print(ville_object), this is what you'll see\n",
    "        Very useful for debugging queries!\n",
    "        \"\"\"\n",
    "        return f\"Ville(name={self.name}, department={self.department}, pop={self.population_2012})\"\n",
    "\n"
   ],
   "id": "ada159d1c9a7ba44",
   "outputs": [],
   "execution_count": 12
  },
  {
   "metadata": {
    "ExecuteTime": {
     "end_time": "2025-09-03T13:26:23.888079Z",
     "start_time": "2025-09-03T13:26:23.884054Z"
    }
   },
   "cell_type": "code",
   "source": [
    "from sqlalchemy.orm import Session\n",
    "from sqlalchemy import select\n",
    "\n",
    "session = Session(engine)\n",
    "\n"
   ],
   "id": "784e144f5dbccdb0",
   "outputs": [],
   "execution_count": 16
  },
  {
   "metadata": {},
   "cell_type": "markdown",
   "source": [
    "The **Session** is your main interface to the database:\n",
    "\n",
    "- **Tracks objects**: Knows which objects are new, modified, or deleted\n",
    "- **Manages transactions**: Groups operations together\n",
    "- **Identity map**: Ensures one Python object per database row\n",
    "- **Lazy loading**: Can fetch related data automatically\n",
    "\n",
    "Think of it as your \"conversation\" with the database."
   ],
   "id": "93ebfa83a8ebed0d"
  },
  {
   "metadata": {
    "ExecuteTime": {
     "end_time": "2025-09-03T13:27:42.832637Z",
     "start_time": "2025-09-03T13:27:42.827562Z"
    }
   },
   "cell_type": "code",
   "source": [
    "stmt = (\n",
    "    select(Departement)\n",
    "    .where(Departement.departement_code.startswith(\"9\")) # All the departemenens starting with 6\n",
    ")\n",
    "ans = session.execute(stmt) # Returns Result object\n",
    "ans"
   ],
   "id": "55c9a7f9c44413a2",
   "outputs": [
    {
     "data": {
      "text/plain": [
       "<sqlalchemy.engine.result.ChunkedIteratorResult at 0x7480f5e78cc0>"
      ]
     },
     "execution_count": 25,
     "metadata": {},
     "output_type": "execute_result"
    }
   ],
   "execution_count": 25
  },
  {
   "metadata": {},
   "cell_type": "markdown",
   "source": [
    "This is **class-level attribute access**:\n",
    "\n",
    "- `Departement.departement_code` → References the column definition in your class\n",
    "- `.startswith(\"6\")` → SQLAlchemy translates this to SQL: `WHERE departement_code LIKE '6%'`\n",
    "- **No SQL strings needed!** Pure Python expressions"
   ],
   "id": "97139de276b3ead1"
  },
  {
   "metadata": {
    "ExecuteTime": {
     "end_time": "2025-09-03T13:27:40.595293Z",
     "start_time": "2025-09-03T13:27:40.592882Z"
    }
   },
   "cell_type": "code",
   "source": [
    "\n",
    "for dept in ans.scalars():\n",
    "    # dept is now a full Python object with all your class methods/attributes\n",
    "    print(dept.departement_nom, dept.departement_code) # Access database columns, As Python attributes\n"
   ],
   "id": "29d6e117b6aee619",
   "outputs": [],
   "execution_count": 24
  },
  {
   "metadata": {
    "ExecuteTime": {
     "end_time": "2025-09-03T13:28:01.135960Z",
     "start_time": "2025-09-03T13:28:01.131916Z"
    }
   },
   "cell_type": "code",
   "source": [
    "ans = session.execute(stmt) # Returns Result object\n",
    "for dept in ans.scalars():\n",
    "    # If you had methods in your class, you could call them here too!\n",
    "    print(f\"The department {dept.departement_nom} is {'not ' if not dept.is_outremer() else ''}overseas.\")"
   ],
   "id": "a2cf8d8def0ba451",
   "outputs": [
    {
     "name": "stdout",
     "output_type": "stream",
     "text": [
      "The department Territoire de Belfort is not overseas.\n",
      "The department Essonne is not overseas.\n",
      "The department Hauts-de-Seine is not overseas.\n",
      "The department Seine-Saint-Denis is not overseas.\n",
      "The department Val-de-Marne is not overseas.\n",
      "The department Val-d'oise is not overseas.\n",
      "The department Mayotte is overseas.\n",
      "The department Guadeloupe is overseas.\n",
      "The department Guyane is overseas.\n",
      "The department Martinique is overseas.\n",
      "The department Réunion is overseas.\n"
     ]
    }
   ],
   "execution_count": 26
  },
  {
   "metadata": {},
   "cell_type": "markdown",
   "source": [
    "**What scalars() does:**\n",
    "\n",
    "- **Input**: `Row(Departement(...))` - wrapped objects\n",
    "- **Output**: `Departement(...)` - direct objects\n",
    "- **Why**: Makes iteration cleaner and more Pythonic\n",
    "The scalars() method unwraps these Row objects so you get your actual model objects directly:\n",
    "Bottom line: scalars() removes the Row wrapper so you can work with your Python objects directly instead of having to use row[0] everywhere."
   ],
   "id": "581da59ad44542dc"
  },
  {
   "metadata": {},
   "cell_type": "markdown",
   "source": [
    "## Complex Query Example: Joins + Aggregations\n",
    "\n",
    "Let's answer: **\"Which overseas department has the most cities with population > 500?\"**\n",
    "\n",
    "### Query Building Blocks:\n",
    "\n",
    "**1. SELECT clause:**\n",
    "- `Departement` → Full department object  \n",
    "- `func.count(Ville.id).label('total_cities')` → Count cities per department\n",
    "\n",
    "**2. JOIN:**\n",
    "- Links tables: `Ville.department == Departement.departement_code`\n",
    "- Now we can filter/group across both tables\n",
    "\n",
    "**3. WHERE clauses:**\n",
    "- `Ville.population_2012 > 500` → Only substantial cities\n",
    "- `Departement.departement_code.startswith(\"97\")` → Only overseas (97x codes)\n",
    "\n",
    "**4. Aggregation:**\n",
    "- `group_by(Departement.departement_id)` → One result per department\n",
    "- `func.count()` → Count cities within each group\n",
    "\n",
    "**5. Ordering & Limiting:**\n",
    "- `order_by(...desc())` → Highest count first\n",
    "- `limit(1)` → Just the winner\n"
   ],
   "id": "6b84f6bb47bcd5da"
  },
  {
   "metadata": {
    "ExecuteTime": {
     "end_time": "2025-09-03T13:29:14.705381Z",
     "start_time": "2025-09-03T13:29:14.700926Z"
    }
   },
   "cell_type": "code",
   "source": [
    "from sqlalchemy import func\n",
    "#Let's say we want to know which overseas departement\n",
    "# has the most cities of more than 500 inhabitants.\n",
    "# why not...\n",
    "\n",
    "stmt = (\n",
    "    select(\n",
    "        Departement,\n",
    "        func.count(Ville.id)\n",
    "        )\n",
    "    .join(Departement, Ville.department == Departement.departement_code)    \n",
    "    .where(Ville.population_2012 > 500)\n",
    "    .where(Departement.departement_code.startswith(\"97\"))\n",
    "    .group_by(Departement.departement_id)\n",
    "    .order_by(func.count(Ville.id).desc())\n",
    "    .limit(5)\n",
    "    )"
   ],
   "id": "f2827b397d4558c3",
   "outputs": [],
   "execution_count": 30
  },
  {
   "metadata": {},
   "cell_type": "markdown",
   "source": [
    "### Query Execution & Result Handling\n",
    "\n",
    "When your SELECT includes multiple items, SQLAlchemy returns **tuples**:\n",
    "- `(Departement_object, count_value)`\n",
    "- Use tuple unpacking: `dept, count = row`\n",
    "\n",
    "**Two patterns:**\n",
    "- `fetchall()` → Returns list of all rows (good for iteration)\n",
    "- `fetchone()` → Returns just the first row (good for single results)\n"
   ],
   "id": "52b0b74ee44f8"
  },
  {
   "cell_type": "code",
   "id": "73a36f4c",
   "metadata": {
    "ExecuteTime": {
     "end_time": "2025-09-03T13:30:33.384593Z",
     "start_time": "2025-09-03T13:30:33.372551Z"
    }
   },
   "source": [
    "results = session.execute(stmt).fetchall()"
   ],
   "outputs": [],
   "execution_count": 35
  },
  {
   "cell_type": "code",
   "id": "c3ff1838",
   "metadata": {
    "ExecuteTime": {
     "end_time": "2025-09-03T13:30:44.235611Z",
     "start_time": "2025-09-03T13:30:44.232800Z"
    }
   },
   "source": [
    "for row in results:\n",
    "    dept, count = row  # Unpack the tuple\n",
    "    print(f\"Department: {dept.departement_nom}, Cities > 500: {count}\")\n",
    "\n"
   ],
   "outputs": [
    {
     "name": "stdout",
     "output_type": "stream",
     "text": [
      "Department: Guadeloupe, Cities > 500: 34\n",
      "Department: Martinique, Cities > 500: 34\n",
      "Department: Réunion, Cities > 500: 24\n",
      "Department: Guyane, Cities > 500: 20\n",
      "Department: Mayotte, Cities > 500: 17\n"
     ]
    }
   ],
   "execution_count": 37
  },
  {
   "cell_type": "code",
   "id": "9a8fd100",
   "metadata": {
    "ExecuteTime": {
     "end_time": "2025-09-03T13:31:36.286023Z",
     "start_time": "2025-09-03T13:31:36.274669Z"
    }
   },
   "source": [
    "# Or just the first result since we know we do limit 1:\n",
    "dept, count = session.execute(stmt).fetchone()\n",
    "print(f\"Winner: {dept.departement_nom} with {count} cities\")"
   ],
   "outputs": [
    {
     "name": "stdout",
     "output_type": "stream",
     "text": [
      "Winner: Guadeloupe with 34 cities\n"
     ]
    }
   ],
   "execution_count": 38
  },
  {
   "metadata": {},
   "cell_type": "code",
   "outputs": [],
   "execution_count": null,
   "source": "",
   "id": "abe350798793505a"
  }
 ],
 "metadata": {
  "kernelspec": {
   "display_name": "venv",
   "language": "python",
   "name": "python3"
  },
  "language_info": {
   "codemirror_mode": {
    "name": "ipython",
    "version": 3
   },
   "file_extension": ".py",
   "mimetype": "text/x-python",
   "name": "python",
   "nbconvert_exporter": "python",
   "pygments_lexer": "ipython3",
   "version": "3.11.5"
  }
 },
 "nbformat": 4,
 "nbformat_minor": 5
}
