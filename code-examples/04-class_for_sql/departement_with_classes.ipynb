{
 "cells": [
  {
   "metadata": {},
   "cell_type": "markdown",
   "source": [
    "# SQLAlchemy ORM with French Cities & Departments\n",
    "\n",
    "This notebook demonstrates SQLAlchemy's Object-Relational Mapping (ORM) using a real dataset of French cities and departments.\n",
    "\n",
    "## Database Connection Setup\n",
    "\n",
    "We connect to a SQLite database containing French geographical data:\n",
    "- **SQLite**: File-based database, perfect for learning and prototyping\n",
    "- **echo=True**: Shows all SQL queries SQLAlchemy generates (educational!)\n",
    "- **Engine**: SQLAlchemy's \"factory\" for database connections\n"
   ],
   "id": "9431d84978e8279d"
  },
  {
   "metadata": {},
   "cell_type": "code",
   "outputs": [],
   "execution_count": null,
   "source": [
    "from sqlalchemy import create_engine\n",
    "from pathlib import Path\n",
    "\n",
    "\n",
    "p_departement = Path.cwd().parent.parent / \"data\" / \"villes_france.db\" \n",
    "engine = create_engine(f\"sqlite:///{p_departement}\", echo=True)\n",
    "\n",
    "engine"
   ],
   "id": "abdd18b20cb630e7"
  },
  {
   "metadata": {},
   "cell_type": "markdown",
   "source": [
    "## ORM Class Definitions\n",
    "\n",
    "**Object-Relational Mapping (ORM)** lets us work with database tables as Python classes:\n",
    "\n",
    "### Key Concepts:\n",
    "- **DeclarativeBase**: All ORM classes inherit from this\n",
    "- **Mapped[type]**: Type hints that SQLAlchemy understands\n",
    "- **mapped_column()**: Defines database column properties\n",
    "- **ForeignKey**: Creates relationships between tables\n",
    "\n",
    "### Table Relationships:\n",
    "- `Ville.department` → `Departement.departement_code` (many-to-one)\n",
    "- Each city belongs to exactly one department\n",
    "- Each department can have many cities\n"
   ],
   "id": "3c5d7ae8a0633ed3"
  },
  {
   "metadata": {},
   "cell_type": "code",
   "outputs": [],
   "execution_count": null,
   "source": [
    "from sqlalchemy import ForeignKey\n",
    "from sqlalchemy import String, Text\n",
    "from sqlalchemy.orm import DeclarativeBase\n",
    "from sqlalchemy.orm import Mapped\n",
    "from sqlalchemy.orm import mapped_column\n",
    "from sqlalchemy.orm import relationship\n",
    "\n",
    "class Base(DeclarativeBase):\n",
    "    pass\n",
    "\n",
    "class Departement(Base):\n",
    "    __tablename__ = \"departement\"\n",
    "    departement_id: Mapped[int] = mapped_column(primary_key=True)\n",
    "    departement_code: Mapped[str] = mapped_column(Text)\n",
    "    departement_nom: Mapped[str] = mapped_column(Text)\n",
    "\n",
    "    def is_outremer(self) -> bool:\n",
    "        \"\"\"Custom method: Overseas departments have 3-digit codes (97x)\"\"\"\n",
    "        return len(self.departement_code) == 3\n",
    "\n",
    "class Ville(Base):\n",
    "    __tablename__ = \"villes\"\n",
    "    \n",
    "    id: Mapped[int] = mapped_column(primary_key=True)  # AUTOINCREMENT handled automatically\n",
    "    department: Mapped[str] = mapped_column(ForeignKey(\"departement.departement_code\"))  # Add FK\n",
    "    name: Mapped[str] = mapped_column(Text)\n",
    "    population_2012: Mapped[int] = mapped_column()\n",
    "    surface: Mapped[float] = mapped_column()  # REAL maps to float\n",
    "    commune_code: Mapped[str] = mapped_column(Text, unique=True)\n",
    "    \n",
    "    def __repr__(self) -> str:\n",
    "        return f\"Ville(name={self.name}, department={self.department}, pop={self.population_2012})\"\n",
    "\n"
   ],
   "id": "ada159d1c9a7ba44"
  },
  {
   "metadata": {},
   "cell_type": "code",
   "outputs": [],
   "execution_count": null,
   "source": [
    "from sqlalchemy.orm import Session\n",
    "from sqlalchemy import select\n",
    "\n",
    "session = Session(engine)\n"
   ],
   "id": "784e144f5dbccdb0"
  },
  {
   "metadata": {},
   "cell_type": "markdown",
   "source": [
    "The **Session** is your main interface to the database:\n",
    "\n",
    "- **Tracks objects**: Knows which objects are new, modified, or deleted\n",
    "- **Manages transactions**: Groups operations together\n",
    "- **Identity map**: Ensures one Python object per database row\n",
    "- **Lazy loading**: Can fetch related data automatically\n",
    "\n",
    "Think of it as your \"conversation\" with the database."
   ],
   "id": "93ebfa83a8ebed0d"
  },
  {
   "metadata": {},
   "cell_type": "code",
   "outputs": [],
   "execution_count": null,
   "source": [
    "stmt = (\n",
    "    select(Departement)\n",
    "    .where(Departement.departement_code.startswith(\"9\")) # All the departemens starting with 6\n",
    ")\n"
   ],
   "id": "55c9a7f9c44413a2"
  },
  {
   "metadata": {},
   "cell_type": "markdown",
   "source": [
    "This is **class-level attribute access**:\n",
    "\n",
    "- `Departement.departement_code` → References the column definition in your class\n",
    "- `.startswith(\"6\")` → SQLAlchemy translates this to SQL: `WHERE departement_code LIKE '6%'`\n",
    "- **No SQL strings needed!** Pure Python expressions"
   ],
   "id": "97139de276b3ead1"
  },
  {
   "metadata": {},
   "cell_type": "code",
   "outputs": [],
   "execution_count": null,
   "source": [
    "ans = session.execute(stmt) # Returns Result object\n",
    "\n",
    "for dept in ans.scalars():\n",
    "    # dept is now a full Python object with all your class methods/attributes\n",
    "    print(dept.departement_nom, dept.departement_code) # Access database columns, As Python attributes\n",
    "    # If you had methods in your class, you could call them here too!\n",
    "    print(f\"The department {dept.departement_nom} is {'not ' if not dept.is_outremer() else ''}overseas.\")"
   ],
   "id": "29d6e117b6aee619"
  },
  {
   "metadata": {},
   "cell_type": "markdown",
   "source": [
    "**What scalars() does:**\n",
    "\n",
    "- **Input**: `Row(Departement(...))` - wrapped objects\n",
    "- **Output**: `Departement(...)` - direct objects\n",
    "- **Why**: Makes iteration cleaner and more Pythonic\n",
    "The scalars() method unwraps these Row objects so you get your actual model objects directly:\n",
    "Bottom line: scalars() removes the Row wrapper so you can work with your Python objects directly instead of having to use row[0] everywhere."
   ],
   "id": "581da59ad44542dc"
  },
  {
   "metadata": {},
   "cell_type": "markdown",
   "source": [
    "## Complex Query Example: Joins + Aggregations\n",
    "\n",
    "Let's answer: **\"Which overseas department has the most cities with population > 500?\"**\n",
    "\n",
    "### Query Building Blocks:\n",
    "\n",
    "**1. SELECT clause:**\n",
    "- `Departement` → Full department object  \n",
    "- `func.count(Ville.id).label('total_cities')` → Count cities per department\n",
    "\n",
    "**2. JOIN:**\n",
    "- Links tables: `Ville.department == Departement.departement_code`\n",
    "- Now we can filter/group across both tables\n",
    "\n",
    "**3. WHERE clauses:**\n",
    "- `Ville.population_2012 > 500` → Only substantial cities\n",
    "- `Departement.departement_code.startswith(\"97\")` → Only overseas (97x codes)\n",
    "\n",
    "**4. Aggregation:**\n",
    "- `group_by(Departement.departement_id)` → One result per department\n",
    "- `func.count()` → Count cities within each group\n",
    "\n",
    "**5. Ordering & Limiting:**\n",
    "- `order_by(...desc())` → Highest count first\n",
    "- `limit(1)` → Just the winner\n"
   ],
   "id": "6b84f6bb47bcd5da"
  },
  {
   "metadata": {},
   "cell_type": "code",
   "outputs": [],
   "execution_count": null,
   "source": [
    "from sqlalchemy import func\n",
    "#Let's say we want to know which overseas departement\n",
    "# has the most cities of more than 500 inhabitants.\n",
    "# why not...\n",
    "\n",
    "stmt = (\n",
    "    select(\n",
    "        Departement,\n",
    "        func.count(Ville.id).label('total_cities')\n",
    "        )\n",
    "    .join(Departement, Ville.department == Departement.departement_code)    \n",
    "    .where(Ville.population_2012 > 500)\n",
    "    .where(Departement.departement_code.startswith(\"97\"))\n",
    "    .group_by(Departement.departement_id)\n",
    "    .order_by(func.count(Ville.id).desc())\n",
    "    .limit(1)\n",
    "    )"
   ],
   "id": "f2827b397d4558c3"
  },
  {
   "metadata": {},
   "cell_type": "markdown",
   "source": [
    "### Query Execution & Result Handling\n",
    "\n",
    "When your SELECT includes multiple items, SQLAlchemy returns **tuples**:\n",
    "- `(Departement_object, count_value)`\n",
    "- Use tuple unpacking: `dept, count = row`\n",
    "\n",
    "**Two patterns:**\n",
    "- `fetchall()` → Returns list of all rows (good for iteration)\n",
    "- `fetchone()` → Returns just the first row (good for single results)\n"
   ],
   "id": "52b0b74ee44f8"
  },
  {
   "cell_type": "code",
   "id": "73a36f4c",
   "metadata": {
    "ExecuteTime": {
     "end_time": "2025-08-29T20:56:29.387063Z",
     "start_time": "2025-08-29T20:56:29.373350Z"
    }
   },
   "source": [
    "results = session.execute(stmt).fetchall()"
   ],
   "outputs": [
    {
     "name": "stdout",
     "output_type": "stream",
     "text": [
      "2025-08-29 22:56:29,376 INFO sqlalchemy.engine.Engine SELECT departement.departement_id, departement.departement_code, departement.departement_nom, count(villes.id) AS total_cities \n",
      "FROM villes JOIN departement ON villes.department = departement.departement_code \n",
      "WHERE villes.population_2012 > ? AND (departement.departement_code LIKE ? || '%') GROUP BY departement.departement_id ORDER BY count(villes.id) DESC\n",
      " LIMIT ? OFFSET ?\n",
      "2025-08-29 22:56:29,376 INFO sqlalchemy.engine.Engine [generated in 0.00059s] (500, '97', 1, 0)\n"
     ]
    }
   ],
   "execution_count": 8
  },
  {
   "cell_type": "code",
   "id": "c3ff1838",
   "metadata": {
    "ExecuteTime": {
     "end_time": "2025-08-29T20:56:29.903202Z",
     "start_time": "2025-08-29T20:56:29.900950Z"
    }
   },
   "source": [
    "for row in results:\n",
    "    dept, count = row  # Unpack the tuple\n",
    "    print(f\"Department: {dept.departement_nom}, Cities > 500: {count}\")\n",
    "\n"
   ],
   "outputs": [
    {
     "name": "stdout",
     "output_type": "stream",
     "text": [
      "Department: Guadeloupe, Cities > 500: 34\n"
     ]
    }
   ],
   "execution_count": 9
  },
  {
   "cell_type": "code",
   "id": "9a8fd100",
   "metadata": {
    "ExecuteTime": {
     "end_time": "2025-08-29T20:56:30.787929Z",
     "start_time": "2025-08-29T20:56:30.778255Z"
    }
   },
   "source": [
    "# Or just the first result since we know we do limit 1:\n",
    "dept, count = session.execute(stmt).fetchone()\n",
    "print(f\"Winner: {dept.departement_nom} with {count} cities\")"
   ],
   "outputs": [
    {
     "name": "stdout",
     "output_type": "stream",
     "text": [
      "2025-08-29 22:56:30,779 INFO sqlalchemy.engine.Engine SELECT departement.departement_id, departement.departement_code, departement.departement_nom, count(villes.id) AS total_cities \n",
      "FROM villes JOIN departement ON villes.department = departement.departement_code \n",
      "WHERE villes.population_2012 > ? AND (departement.departement_code LIKE ? || '%') GROUP BY departement.departement_id ORDER BY count(villes.id) DESC\n",
      " LIMIT ? OFFSET ?\n",
      "2025-08-29 22:56:30,779 INFO sqlalchemy.engine.Engine [cached since 1.404s ago] (500, '97', 1, 0)\n",
      "Winner: Guadeloupe with 34 cities\n"
     ]
    }
   ],
   "execution_count": 10
  }
 ],
 "metadata": {
  "kernelspec": {
   "display_name": "venv",
   "language": "python",
   "name": "python3"
  },
  "language_info": {
   "codemirror_mode": {
    "name": "ipython",
    "version": 3
   },
   "file_extension": ".py",
   "mimetype": "text/x-python",
   "name": "python",
   "nbconvert_exporter": "python",
   "pygments_lexer": "ipython3",
   "version": "3.11.5"
  }
 },
 "nbformat": 4,
 "nbformat_minor": 5
}
