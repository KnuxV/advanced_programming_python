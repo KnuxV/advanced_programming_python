{
 "cells": [
  {
   "cell_type": "code",
   "id": "144f4a52",
   "metadata": {
    "ExecuteTime": {
     "end_time": "2025-08-29T20:56:19.587990Z",
     "start_time": "2025-08-29T20:56:19.478727Z"
    }
   },
   "source": [
    "from sqlalchemy import create_engine\n",
    "from pathlib import Path\n",
    "\n",
    "\n",
    "p_departement = Path.cwd().parent.parent / \"data\" / \"villes_france.db\" \n",
    "engine = create_engine(f\"sqlite:///{p_departement}\", echo=True)\n",
    "\n",
    "engine"
   ],
   "outputs": [
    {
     "data": {
      "text/plain": [
       "Engine(sqlite:////home/kevin-desktop/Documents/Seafile/COURS/Advanced_Programming/data/villes_france.db)"
      ]
     },
     "execution_count": 1,
     "metadata": {},
     "output_type": "execute_result"
    }
   ],
   "execution_count": 1
  },
  {
   "cell_type": "code",
   "id": "58956b5e",
   "metadata": {
    "ExecuteTime": {
     "end_time": "2025-08-29T20:56:19.739442Z",
     "start_time": "2025-08-29T20:56:19.638326Z"
    }
   },
   "source": [
    "from sqlalchemy import ForeignKey\n",
    "from sqlalchemy import String, Text\n",
    "from sqlalchemy.orm import DeclarativeBase\n",
    "from sqlalchemy.orm import Mapped\n",
    "from sqlalchemy.orm import mapped_column\n",
    "from sqlalchemy.orm import relationship\n",
    "\n",
    "class Base(DeclarativeBase):\n",
    "    pass\n",
    "\n",
    "class Departement(Base):\n",
    "    __tablename__ = \"departement\"\n",
    "    departement_id: Mapped[int] = mapped_column(primary_key=True)\n",
    "    departement_code: Mapped[str] = mapped_column(Text)\n",
    "    departement_nom: Mapped[str] = mapped_column(Text)\n",
    "\n",
    "    def is_outremer(self) -> bool:\n",
    "        return len(self.departement_code) == 3\n",
    "\n",
    "class Ville(Base):\n",
    "    __tablename__ = \"villes\"\n",
    "    \n",
    "    id: Mapped[int] = mapped_column(primary_key=True)  # AUTOINCREMENT handled automatically\n",
    "    department: Mapped[str] = mapped_column(ForeignKey(\"departement.departement_code\"))  # Add FK\n",
    "    name: Mapped[str] = mapped_column(Text)\n",
    "    population_2012: Mapped[int] = mapped_column()\n",
    "    surface: Mapped[float] = mapped_column()  # REAL maps to float\n",
    "    commune_code: Mapped[str] = mapped_column(Text, unique=True)\n",
    "    \n",
    "    def __repr__(self) -> str:\n",
    "        return f\"Ville(name={self.name}, department={self.department}, pop={self.population_2012})\"\n",
    "\n"
   ],
   "outputs": [],
   "execution_count": 2
  },
  {
   "cell_type": "code",
   "id": "912e69b5",
   "metadata": {
    "ExecuteTime": {
     "end_time": "2025-08-29T20:56:19.853522Z",
     "start_time": "2025-08-29T20:56:19.849286Z"
    }
   },
   "source": [
    "from sqlalchemy.orm import Session\n",
    "from sqlalchemy import select\n",
    "\n",
    "session = Session(engine)\n"
   ],
   "outputs": [],
   "execution_count": 3
  },
  {
   "cell_type": "markdown",
   "id": "1ad57bf3",
   "metadata": {},
   "source": [
    "The **Session** is your main interface to the database:\n",
    "\n",
    "- **Tracks objects**: Knows which objects are new, modified, or deleted\n",
    "- **Manages transactions**: Groups operations together\n",
    "- **Identity map**: Ensures one Python object per database row\n",
    "- **Lazy loading**: Can fetch related data automatically\n",
    "\n",
    "Think of it as your \"conversation\" with the database."
   ]
  },
  {
   "cell_type": "code",
   "id": "c6771ae8",
   "metadata": {
    "ExecuteTime": {
     "end_time": "2025-08-29T20:56:19.902427Z",
     "start_time": "2025-08-29T20:56:19.899586Z"
    }
   },
   "source": [
    "stmt = (\n",
    "    select(Departement)\n",
    "    .where(Departement.departement_code.startswith(\"9\")) # All the departemens starting with 6\n",
    ")\n"
   ],
   "outputs": [],
   "execution_count": 4
  },
  {
   "cell_type": "markdown",
   "id": "034aabd5",
   "metadata": {},
   "source": [
    "This is **class-level attribute access**:\n",
    "\n",
    "- `Departement.departement_code` → References the column definition in your class\n",
    "- `.startswith(\"6\")` → SQLAlchemy translates this to SQL: `WHERE departement_code LIKE '6%'`\n",
    "- **No SQL strings needed!** Pure Python expressions"
   ]
  },
  {
   "cell_type": "code",
   "id": "611f39fc",
   "metadata": {
    "ExecuteTime": {
     "end_time": "2025-08-29T20:56:19.988660Z",
     "start_time": "2025-08-29T20:56:19.977484Z"
    }
   },
   "source": [
    "ans = session.execute(stmt) # Returns Result object\n",
    "\n",
    "for dept in ans.scalars():\n",
    "    # dept is now a full Python object with all your class methods/attributes\n",
    "    print(dept.departement_nom, dept.departement_code) # Access database columns, As Python attributes\n",
    "    # If you had methods in your class, you could call them here too!\n",
    "    print(f\"The department {dept.departement_nom} is {'not ' if not dept.is_outremer() else ''}overseas.\")"
   ],
   "outputs": [
    {
     "name": "stdout",
     "output_type": "stream",
     "text": [
      "2025-08-29 22:56:19,981 INFO sqlalchemy.engine.Engine BEGIN (implicit)\n",
      "2025-08-29 22:56:19,984 INFO sqlalchemy.engine.Engine SELECT departement.departement_id, departement.departement_code, departement.departement_nom \n",
      "FROM departement \n",
      "WHERE (departement.departement_code LIKE ? || '%')\n",
      "2025-08-29 22:56:19,985 INFO sqlalchemy.engine.Engine [generated in 0.00111s] ('9',)\n",
      "Territoire de Belfort 90\n",
      "The department Territoire de Belfort is not overseas.\n",
      "Essonne 91\n",
      "The department Essonne is not overseas.\n",
      "Hauts-de-Seine 92\n",
      "The department Hauts-de-Seine is not overseas.\n",
      "Seine-Saint-Denis 93\n",
      "The department Seine-Saint-Denis is not overseas.\n",
      "Val-de-Marne 94\n",
      "The department Val-de-Marne is not overseas.\n",
      "Val-d'oise 95\n",
      "The department Val-d'oise is not overseas.\n",
      "Mayotte 976\n",
      "The department Mayotte is overseas.\n",
      "Guadeloupe 971\n",
      "The department Guadeloupe is overseas.\n",
      "Guyane 973\n",
      "The department Guyane is overseas.\n",
      "Martinique 972\n",
      "The department Martinique is overseas.\n",
      "Réunion 974\n",
      "The department Réunion is overseas.\n"
     ]
    }
   ],
   "execution_count": 5
  },
  {
   "cell_type": "markdown",
   "id": "abdcf62f",
   "metadata": {},
   "source": [
    "**What scalars() does:**\n",
    "\n",
    "- **Input**: `Row(Departement(...))` - wrapped objects\n",
    "- **Output**: `Departement(...)` - direct objects\n",
    "- **Why**: Makes iteration cleaner and more Pythonic\n",
    "The scalars() method unwraps these Row objects so you get your actual model objects directly:\n",
    "Bottom line: scalars() removes the Row wrapper so you can work with your Python objects directly instead of having to use row[0] everywhere."
   ]
  },
  {
   "cell_type": "code",
   "id": "d9d1c564",
   "metadata": {
    "ExecuteTime": {
     "end_time": "2025-08-29T20:56:28.462258Z",
     "start_time": "2025-08-29T20:56:28.459364Z"
    }
   },
   "source": [
    "from sqlalchemy import func\n",
    "#Let's say we want to know which overseas departement\n",
    "# has the most cities of more than 500 inhabitants.\n",
    "# why not...\n",
    "\n",
    "stmt = (\n",
    "    select(\n",
    "        Departement,\n",
    "        func.count(Ville.id).label('total_cities')\n",
    "        )\n",
    "    .join(Departement, Ville.department == Departement.departement_code)    \n",
    "    .where(Ville.population_2012 > 500)\n",
    "    .where(Departement.departement_code.startswith(\"97\"))\n",
    "    .group_by(Departement.departement_id)\n",
    "    .order_by(func.count(Ville.id).desc())\n",
    "    .limit(1)\n",
    "    )"
   ],
   "outputs": [],
   "execution_count": 7
  },
  {
   "cell_type": "code",
   "id": "73a36f4c",
   "metadata": {
    "ExecuteTime": {
     "end_time": "2025-08-29T20:56:29.387063Z",
     "start_time": "2025-08-29T20:56:29.373350Z"
    }
   },
   "source": [
    "results = session.execute(stmt).fetchall()"
   ],
   "outputs": [
    {
     "name": "stdout",
     "output_type": "stream",
     "text": [
      "2025-08-29 22:56:29,376 INFO sqlalchemy.engine.Engine SELECT departement.departement_id, departement.departement_code, departement.departement_nom, count(villes.id) AS total_cities \n",
      "FROM villes JOIN departement ON villes.department = departement.departement_code \n",
      "WHERE villes.population_2012 > ? AND (departement.departement_code LIKE ? || '%') GROUP BY departement.departement_id ORDER BY count(villes.id) DESC\n",
      " LIMIT ? OFFSET ?\n",
      "2025-08-29 22:56:29,376 INFO sqlalchemy.engine.Engine [generated in 0.00059s] (500, '97', 1, 0)\n"
     ]
    }
   ],
   "execution_count": 8
  },
  {
   "cell_type": "code",
   "id": "c3ff1838",
   "metadata": {
    "ExecuteTime": {
     "end_time": "2025-08-29T20:56:29.903202Z",
     "start_time": "2025-08-29T20:56:29.900950Z"
    }
   },
   "source": [
    "for row in results:\n",
    "    dept, count = row  # Unpack the tuple\n",
    "    print(f\"Department: {dept.departement_nom}, Cities > 500: {count}\")\n",
    "\n"
   ],
   "outputs": [
    {
     "name": "stdout",
     "output_type": "stream",
     "text": [
      "Department: Guadeloupe, Cities > 500: 34\n"
     ]
    }
   ],
   "execution_count": 9
  },
  {
   "cell_type": "code",
   "id": "9a8fd100",
   "metadata": {
    "ExecuteTime": {
     "end_time": "2025-08-29T20:56:30.787929Z",
     "start_time": "2025-08-29T20:56:30.778255Z"
    }
   },
   "source": [
    "# Or just the first result since we know we do limit 1:\n",
    "dept, count = session.execute(stmt).fetchone()\n",
    "print(f\"Winner: {dept.departement_nom} with {count} cities\")"
   ],
   "outputs": [
    {
     "name": "stdout",
     "output_type": "stream",
     "text": [
      "2025-08-29 22:56:30,779 INFO sqlalchemy.engine.Engine SELECT departement.departement_id, departement.departement_code, departement.departement_nom, count(villes.id) AS total_cities \n",
      "FROM villes JOIN departement ON villes.department = departement.departement_code \n",
      "WHERE villes.population_2012 > ? AND (departement.departement_code LIKE ? || '%') GROUP BY departement.departement_id ORDER BY count(villes.id) DESC\n",
      " LIMIT ? OFFSET ?\n",
      "2025-08-29 22:56:30,779 INFO sqlalchemy.engine.Engine [cached since 1.404s ago] (500, '97', 1, 0)\n",
      "Winner: Guadeloupe with 34 cities\n"
     ]
    }
   ],
   "execution_count": 10
  },
  {
   "metadata": {
    "ExecuteTime": {
     "end_time": "2025-08-29T21:17:42.708923Z",
     "start_time": "2025-08-29T21:17:42.689683Z"
    }
   },
   "cell_type": "code",
   "source": [
    "pop_dep = func.sum(Ville.population_2012)\n",
    "square_pop = func.sum(Ville.population_2012*Ville.population_2012)\n",
    "hhi_expr = 10000*square_pop/(pop_dep*pop_dep)\n",
    "\n",
    "stmt = (\n",
    "    select(\n",
    "        Departement,\n",
    "        hhi_expr.label(\"hhi\")\n",
    "    )\n",
    "    .join(Departement, Ville.department == Departement.departement_code)\n",
    "    .group_by(Departement.departement_id)\n",
    "    .order_by(hhi_expr.desc())  # ← Réutiliser l'expression\n",
    "    .limit(5)\n",
    ")\n",
    "res = session.execute(stmt).fetchall()\n"
   ],
   "id": "8ed41fb0f9f0ec74",
   "outputs": [
    {
     "name": "stdout",
     "output_type": "stream",
     "text": [
      "2025-08-29 23:17:42,691 INFO sqlalchemy.engine.Engine SELECT departement.departement_id, departement.departement_code, departement.departement_nom, (? * sum(villes.population_2012 * villes.population_2012)) / ((sum(villes.population_2012) * sum(villes.population_2012)) + 0.0) AS hhi \n",
      "FROM villes JOIN departement ON villes.department = departement.departement_code GROUP BY departement.departement_id ORDER BY (? * sum(villes.population_2012 * villes.population_2012)) / ((sum(villes.population_2012) * sum(villes.population_2012)) + 0.0) DESC\n",
      " LIMIT ? OFFSET ?\n",
      "2025-08-29 23:17:42,692 INFO sqlalchemy.engine.Engine [cached since 56.74s ago] (10000, 10000, 5, 0)\n"
     ]
    }
   ],
   "execution_count": 28
  },
  {
   "metadata": {
    "ExecuteTime": {
     "end_time": "2025-08-29T21:18:47.329351Z",
     "start_time": "2025-08-29T21:18:47.327276Z"
    }
   },
   "cell_type": "code",
   "source": [
    "for dep, hhi in res:\n",
    "    print(f\"Le département de {dep.departement_nom} à un hhi de {hhi:.0f}.\")"
   ],
   "id": "934c1a226d46cbe1",
   "outputs": [
    {
     "name": "stdout",
     "output_type": "stream",
     "text": [
      "Le département de Paris à un hhi de 10000.\n",
      "Le département de Bouches-du-Rhône à un hhi de 1982.\n",
      "Le département de Haute-Vienne à un hhi de 1465.\n",
      "Le département de Territoire de Belfort à un hhi de 1364.\n",
      "Le département de Haute-Garonne à un hhi de 1343.\n"
     ]
    }
   ],
   "execution_count": 34
  },
  {
   "metadata": {},
   "cell_type": "code",
   "outputs": [],
   "execution_count": null,
   "source": "",
   "id": "ad18771585af242b"
  }
 ],
 "metadata": {
  "kernelspec": {
   "display_name": "venv",
   "language": "python",
   "name": "python3"
  },
  "language_info": {
   "codemirror_mode": {
    "name": "ipython",
    "version": 3
   },
   "file_extension": ".py",
   "mimetype": "text/x-python",
   "name": "python",
   "nbconvert_exporter": "python",
   "pygments_lexer": "ipython3",
   "version": "3.11.5"
  }
 },
 "nbformat": 4,
 "nbformat_minor": 5
}
