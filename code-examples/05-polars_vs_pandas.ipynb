{
 "cells": [
  {
   "cell_type": "markdown",
   "id": "d22f39c3",
   "metadata": {},
   "source": [
    "# 🚀 Live Coding: Polars\n",
    "\n",
    "## Setup"
   ]
  },
  {
   "cell_type": "code",
   "id": "4ab3bee8",
   "metadata": {
    "ExecuteTime": {
     "end_time": "2025-09-03T13:35:11.305470Z",
     "start_time": "2025-09-03T13:35:11.302709Z"
    }
   },
   "source": [
    "import polars as pl\n",
    "from pathlib import Path\n",
    "import time\n",
    "\n",
    "# Your database path\n",
    "p_departement = Path.cwd().parent / \"data\" / \"villes_france.db\"\n",
    "connection_string = f\"sqlite:///{p_departement}\""
   ],
   "outputs": [],
   "execution_count": 2
  },
  {
   "cell_type": "markdown",
   "id": "66204522",
   "metadata": {},
   "source": []
  },
  {
   "cell_type": "code",
   "id": "65ddc308",
   "metadata": {
    "ExecuteTime": {
     "end_time": "2025-09-03T13:37:23.557686Z",
     "start_time": "2025-09-03T13:37:23.463853Z"
    }
   },
   "source": [
    "# Loading DATA with SQL\n",
    "from sqlalchemy import create_engine\n",
    "\n",
    "# Create SQLAlchemy engine\n",
    "engine = create_engine(connection_string)\n",
    "\n",
    "\n",
    "start = time.time()\n",
    "df_villes = pl.read_database(\"\"\"\n",
    "    SELECT v.*, d.departement_nom \n",
    "    FROM villes v\n",
    "    LEFT JOIN departement d ON v.department = d.departement_code\n",
    "\"\"\", engine)\n",
    "df_villes"
   ],
   "outputs": [
    {
     "data": {
      "text/plain": [
       "shape: (36_700, 8)\n",
       "┌───────┬────────────┬─────────────┬─────────────┬─────────────┬─────────┬────────────┬────────────┐\n",
       "│ id    ┆ department ┆ name        ┆ simple_name ┆ population_ ┆ surface ┆ commune_co ┆ departemen │\n",
       "│ ---   ┆ ---        ┆ ---         ┆ ---         ┆ 2012        ┆ ---     ┆ de         ┆ t_nom      │\n",
       "│ i64   ┆ str        ┆ str         ┆ str         ┆ ---         ┆ f64     ┆ ---        ┆ ---        │\n",
       "│       ┆            ┆             ┆             ┆ i64         ┆         ┆ str        ┆ str        │\n",
       "╞═══════╪════════════╪═════════════╪═════════════╪═════════════╪═════════╪════════════╪════════════╡\n",
       "│ 1     ┆ 01         ┆ OZAN        ┆ ozan        ┆ 500         ┆ 6.6     ┆ 01284      ┆ Ain        │\n",
       "│ 2     ┆ 01         ┆ CORMORANCHE ┆ cormoranche ┆ 1000        ┆ 9.85    ┆ 01123      ┆ Ain        │\n",
       "│       ┆            ┆ -SUR-SAONE  ┆ sur saone   ┆             ┆         ┆            ┆            │\n",
       "│ 3     ┆ 01         ┆ PLAGNE      ┆ plagne      ┆ 100         ┆ 6.2     ┆ 01298      ┆ Ain        │\n",
       "│ 4     ┆ 01         ┆ TOSSIAT     ┆ tossiat     ┆ 1400        ┆ 10.17   ┆ 01422      ┆ Ain        │\n",
       "│ 5     ┆ 01         ┆ POUILLAT    ┆ pouillat    ┆ 100         ┆ 6.23    ┆ 01309      ┆ Ain        │\n",
       "│ …     ┆ …          ┆ …           ┆ …           ┆ …           ┆ …       ┆ …          ┆ …          │\n",
       "│ 36825 ┆ 976        ┆ SADA        ┆ sada        ┆ 10195       ┆ 10.92   ┆ 97616      ┆ Mayotte    │\n",
       "│ 36826 ┆ 976        ┆ TSINGONI    ┆ tsingoni    ┆ 10454       ┆ 34.76   ┆ 97617      ┆ Mayotte    │\n",
       "│ 36827 ┆ 971        ┆ SAINT       ┆ st          ┆ 8938        ┆ 24.0    ┆ 97123      ┆ Guadeloupe │\n",
       "│       ┆            ┆ BARTHELEMY  ┆ barthelemy  ┆             ┆         ┆            ┆            │\n",
       "│ 36828 ┆ 971        ┆ SAINT       ┆ st martin   ┆ 36979       ┆ 53.2    ┆ 97127      ┆ Guadeloupe │\n",
       "│       ┆            ┆ MARTIN      ┆             ┆             ┆         ┆            ┆            │\n",
       "│ 36830 ┆ 975        ┆ SAINT       ┆ st pierre   ┆ 6080        ┆ 242.0   ┆ 97501      ┆ null       │\n",
       "│       ┆            ┆ PIERRE ET   ┆ et miquelon ┆             ┆         ┆            ┆            │\n",
       "│       ┆            ┆ MIQUELON    ┆             ┆             ┆         ┆            ┆            │\n",
       "└───────┴────────────┴─────────────┴─────────────┴─────────────┴─────────┴────────────┴────────────┘"
      ],
      "text/html": [
       "<div><style>\n",
       ".dataframe > thead > tr,\n",
       ".dataframe > tbody > tr {\n",
       "  text-align: right;\n",
       "  white-space: pre-wrap;\n",
       "}\n",
       "</style>\n",
       "<small>shape: (36_700, 8)</small><table border=\"1\" class=\"dataframe\"><thead><tr><th>id</th><th>department</th><th>name</th><th>simple_name</th><th>population_2012</th><th>surface</th><th>commune_code</th><th>departement_nom</th></tr><tr><td>i64</td><td>str</td><td>str</td><td>str</td><td>i64</td><td>f64</td><td>str</td><td>str</td></tr></thead><tbody><tr><td>1</td><td>&quot;01&quot;</td><td>&quot;OZAN&quot;</td><td>&quot;ozan&quot;</td><td>500</td><td>6.6</td><td>&quot;01284&quot;</td><td>&quot;Ain&quot;</td></tr><tr><td>2</td><td>&quot;01&quot;</td><td>&quot;CORMORANCHE-SUR-SAONE&quot;</td><td>&quot;cormoranche sur saone&quot;</td><td>1000</td><td>9.85</td><td>&quot;01123&quot;</td><td>&quot;Ain&quot;</td></tr><tr><td>3</td><td>&quot;01&quot;</td><td>&quot;PLAGNE&quot;</td><td>&quot;plagne&quot;</td><td>100</td><td>6.2</td><td>&quot;01298&quot;</td><td>&quot;Ain&quot;</td></tr><tr><td>4</td><td>&quot;01&quot;</td><td>&quot;TOSSIAT&quot;</td><td>&quot;tossiat&quot;</td><td>1400</td><td>10.17</td><td>&quot;01422&quot;</td><td>&quot;Ain&quot;</td></tr><tr><td>5</td><td>&quot;01&quot;</td><td>&quot;POUILLAT&quot;</td><td>&quot;pouillat&quot;</td><td>100</td><td>6.23</td><td>&quot;01309&quot;</td><td>&quot;Ain&quot;</td></tr><tr><td>&hellip;</td><td>&hellip;</td><td>&hellip;</td><td>&hellip;</td><td>&hellip;</td><td>&hellip;</td><td>&hellip;</td><td>&hellip;</td></tr><tr><td>36825</td><td>&quot;976&quot;</td><td>&quot;SADA&quot;</td><td>&quot;sada&quot;</td><td>10195</td><td>10.92</td><td>&quot;97616&quot;</td><td>&quot;Mayotte&quot;</td></tr><tr><td>36826</td><td>&quot;976&quot;</td><td>&quot;TSINGONI&quot;</td><td>&quot;tsingoni&quot;</td><td>10454</td><td>34.76</td><td>&quot;97617&quot;</td><td>&quot;Mayotte&quot;</td></tr><tr><td>36827</td><td>&quot;971&quot;</td><td>&quot;SAINT BARTHELEMY&quot;</td><td>&quot;st barthelemy&quot;</td><td>8938</td><td>24.0</td><td>&quot;97123&quot;</td><td>&quot;Guadeloupe&quot;</td></tr><tr><td>36828</td><td>&quot;971&quot;</td><td>&quot;SAINT MARTIN&quot;</td><td>&quot;st martin&quot;</td><td>36979</td><td>53.2</td><td>&quot;97127&quot;</td><td>&quot;Guadeloupe&quot;</td></tr><tr><td>36830</td><td>&quot;975&quot;</td><td>&quot;SAINT PIERRE ET MIQUELON&quot;</td><td>&quot;st pierre et miquelon&quot;</td><td>6080</td><td>242.0</td><td>&quot;97501&quot;</td><td>null</td></tr></tbody></table></div>"
      ]
     },
     "execution_count": 4,
     "metadata": {},
     "output_type": "execute_result"
    }
   ],
   "execution_count": 4
  },
  {
   "metadata": {
    "ExecuteTime": {
     "end_time": "2025-09-03T14:03:12.389860Z",
     "start_time": "2025-09-03T14:03:12.147368Z"
    }
   },
   "cell_type": "code",
   "source": [
    "# We can obviously load csv very easily,\n",
    "# Read csv accept url\n",
    "df_titanic = pl.read_csv(\"https://raw.githubusercontent.com/pandas-dev/pandas/master/doc/data/titanic.csv\")\n",
    "df_titanic"
   ],
   "id": "facec8e86556fe12",
   "outputs": [
    {
     "data": {
      "text/plain": [
       "shape: (891, 12)\n",
       "┌─────────────┬──────────┬────────┬──────────────────┬───┬────────────┬─────────┬───────┬──────────┐\n",
       "│ PassengerId ┆ Survived ┆ Pclass ┆ Name             ┆ … ┆ Ticket     ┆ Fare    ┆ Cabin ┆ Embarked │\n",
       "│ ---         ┆ ---      ┆ ---    ┆ ---              ┆   ┆ ---        ┆ ---     ┆ ---   ┆ ---      │\n",
       "│ i64         ┆ i64      ┆ i64    ┆ str              ┆   ┆ str        ┆ f64     ┆ str   ┆ str      │\n",
       "╞═════════════╪══════════╪════════╪══════════════════╪═══╪════════════╪═════════╪═══════╪══════════╡\n",
       "│ 1           ┆ 0        ┆ 3      ┆ Braund, Mr. Owen ┆ … ┆ A/5 21171  ┆ 7.25    ┆ null  ┆ S        │\n",
       "│             ┆          ┆        ┆ Harris           ┆   ┆            ┆         ┆       ┆          │\n",
       "│ 2           ┆ 1        ┆ 1      ┆ Cumings, Mrs.    ┆ … ┆ PC 17599   ┆ 71.2833 ┆ C85   ┆ C        │\n",
       "│             ┆          ┆        ┆ John Bradley     ┆   ┆            ┆         ┆       ┆          │\n",
       "│             ┆          ┆        ┆ (Fl…             ┆   ┆            ┆         ┆       ┆          │\n",
       "│ 3           ┆ 1        ┆ 3      ┆ Heikkinen, Miss  ┆ … ┆ STON/O2.   ┆ 7.925   ┆ null  ┆ S        │\n",
       "│             ┆          ┆        ┆ Laina            ┆   ┆ 3101282    ┆         ┆       ┆          │\n",
       "│ 4           ┆ 1        ┆ 1      ┆ Futrelle, Mrs.   ┆ … ┆ 113803     ┆ 53.1    ┆ C123  ┆ S        │\n",
       "│             ┆          ┆        ┆ Jacques Heath (… ┆   ┆            ┆         ┆       ┆          │\n",
       "│ 5           ┆ 0        ┆ 3      ┆ Allen, Mr.       ┆ … ┆ 373450     ┆ 8.05    ┆ null  ┆ S        │\n",
       "│             ┆          ┆        ┆ William Henry    ┆   ┆            ┆         ┆       ┆          │\n",
       "│ …           ┆ …        ┆ …      ┆ …                ┆ … ┆ …          ┆ …       ┆ …     ┆ …        │\n",
       "│ 887         ┆ 0        ┆ 2      ┆ Montvila, Rev.   ┆ … ┆ 211536     ┆ 13.0    ┆ null  ┆ S        │\n",
       "│             ┆          ┆        ┆ Juozas           ┆   ┆            ┆         ┆       ┆          │\n",
       "│ 888         ┆ 1        ┆ 1      ┆ Graham, Miss     ┆ … ┆ 112053     ┆ 30.0    ┆ B42   ┆ S        │\n",
       "│             ┆          ┆        ┆ Margaret Edith   ┆   ┆            ┆         ┆       ┆          │\n",
       "│ 889         ┆ 0        ┆ 3      ┆ Johnston, Miss   ┆ … ┆ W./C. 6607 ┆ 23.45   ┆ null  ┆ S        │\n",
       "│             ┆          ┆        ┆ Catherine Helen… ┆   ┆            ┆         ┆       ┆          │\n",
       "│ 890         ┆ 1        ┆ 1      ┆ Behr, Mr. Karl   ┆ … ┆ 111369     ┆ 30.0    ┆ C148  ┆ C        │\n",
       "│             ┆          ┆        ┆ Howell           ┆   ┆            ┆         ┆       ┆          │\n",
       "│ 891         ┆ 0        ┆ 3      ┆ Dooley, Mr.      ┆ … ┆ 370376     ┆ 7.75    ┆ null  ┆ Q        │\n",
       "│             ┆          ┆        ┆ Patrick          ┆   ┆            ┆         ┆       ┆          │\n",
       "└─────────────┴──────────┴────────┴──────────────────┴───┴────────────┴─────────┴───────┴──────────┘"
      ],
      "text/html": [
       "<div><style>\n",
       ".dataframe > thead > tr,\n",
       ".dataframe > tbody > tr {\n",
       "  text-align: right;\n",
       "  white-space: pre-wrap;\n",
       "}\n",
       "</style>\n",
       "<small>shape: (891, 12)</small><table border=\"1\" class=\"dataframe\"><thead><tr><th>PassengerId</th><th>Survived</th><th>Pclass</th><th>Name</th><th>Sex</th><th>Age</th><th>SibSp</th><th>Parch</th><th>Ticket</th><th>Fare</th><th>Cabin</th><th>Embarked</th></tr><tr><td>i64</td><td>i64</td><td>i64</td><td>str</td><td>str</td><td>f64</td><td>i64</td><td>i64</td><td>str</td><td>f64</td><td>str</td><td>str</td></tr></thead><tbody><tr><td>1</td><td>0</td><td>3</td><td>&quot;Braund, Mr. Owen Harris&quot;</td><td>&quot;male&quot;</td><td>22.0</td><td>1</td><td>0</td><td>&quot;A/5 21171&quot;</td><td>7.25</td><td>null</td><td>&quot;S&quot;</td></tr><tr><td>2</td><td>1</td><td>1</td><td>&quot;Cumings, Mrs. John Bradley (Fl…</td><td>&quot;female&quot;</td><td>38.0</td><td>1</td><td>0</td><td>&quot;PC 17599&quot;</td><td>71.2833</td><td>&quot;C85&quot;</td><td>&quot;C&quot;</td></tr><tr><td>3</td><td>1</td><td>3</td><td>&quot;Heikkinen, Miss Laina&quot;</td><td>&quot;female&quot;</td><td>26.0</td><td>0</td><td>0</td><td>&quot;STON/O2. 3101282&quot;</td><td>7.925</td><td>null</td><td>&quot;S&quot;</td></tr><tr><td>4</td><td>1</td><td>1</td><td>&quot;Futrelle, Mrs. Jacques Heath (…</td><td>&quot;female&quot;</td><td>35.0</td><td>1</td><td>0</td><td>&quot;113803&quot;</td><td>53.1</td><td>&quot;C123&quot;</td><td>&quot;S&quot;</td></tr><tr><td>5</td><td>0</td><td>3</td><td>&quot;Allen, Mr. William Henry&quot;</td><td>&quot;male&quot;</td><td>35.0</td><td>0</td><td>0</td><td>&quot;373450&quot;</td><td>8.05</td><td>null</td><td>&quot;S&quot;</td></tr><tr><td>&hellip;</td><td>&hellip;</td><td>&hellip;</td><td>&hellip;</td><td>&hellip;</td><td>&hellip;</td><td>&hellip;</td><td>&hellip;</td><td>&hellip;</td><td>&hellip;</td><td>&hellip;</td><td>&hellip;</td></tr><tr><td>887</td><td>0</td><td>2</td><td>&quot;Montvila, Rev. Juozas&quot;</td><td>&quot;male&quot;</td><td>27.0</td><td>0</td><td>0</td><td>&quot;211536&quot;</td><td>13.0</td><td>null</td><td>&quot;S&quot;</td></tr><tr><td>888</td><td>1</td><td>1</td><td>&quot;Graham, Miss Margaret Edith&quot;</td><td>&quot;female&quot;</td><td>19.0</td><td>0</td><td>0</td><td>&quot;112053&quot;</td><td>30.0</td><td>&quot;B42&quot;</td><td>&quot;S&quot;</td></tr><tr><td>889</td><td>0</td><td>3</td><td>&quot;Johnston, Miss Catherine Helen…</td><td>&quot;female&quot;</td><td>null</td><td>1</td><td>2</td><td>&quot;W./C. 6607&quot;</td><td>23.45</td><td>null</td><td>&quot;S&quot;</td></tr><tr><td>890</td><td>1</td><td>1</td><td>&quot;Behr, Mr. Karl Howell&quot;</td><td>&quot;male&quot;</td><td>26.0</td><td>0</td><td>0</td><td>&quot;111369&quot;</td><td>30.0</td><td>&quot;C148&quot;</td><td>&quot;C&quot;</td></tr><tr><td>891</td><td>0</td><td>3</td><td>&quot;Dooley, Mr. Patrick&quot;</td><td>&quot;male&quot;</td><td>32.0</td><td>0</td><td>0</td><td>&quot;370376&quot;</td><td>7.75</td><td>null</td><td>&quot;Q&quot;</td></tr></tbody></table></div>"
      ]
     },
     "execution_count": 22,
     "metadata": {},
     "output_type": "execute_result"
    }
   ],
   "execution_count": 22
  },
  {
   "cell_type": "markdown",
   "id": "0b7cbbaf",
   "metadata": {},
   "source": [
    "## Data Exploration - Cleaner Syntax\n",
    "\n",
    "### Quick peek at our data"
   ]
  },
  {
   "metadata": {
    "ExecuteTime": {
     "end_time": "2025-09-03T13:38:55.581917Z",
     "start_time": "2025-09-03T13:38:55.578136Z"
    }
   },
   "cell_type": "code",
   "source": "print(f\"\\nSchema: {df_titanic.schema}\")",
   "id": "150fc639be29e388",
   "outputs": [
    {
     "name": "stdout",
     "output_type": "stream",
     "text": [
      "\n",
      "Schema: Schema([('PassengerId', Int64), ('Survived', Int64), ('Pclass', Int64), ('Name', String), ('Sex', String), ('Age', Float64), ('SibSp', Int64), ('Parch', Int64), ('Ticket', String), ('Fare', Float64), ('Cabin', String), ('Embarked', String)])\n"
     ]
    }
   ],
   "execution_count": 7
  },
  {
   "cell_type": "code",
   "id": "5d50647c",
   "metadata": {
    "ExecuteTime": {
     "end_time": "2025-09-03T13:50:54.116671Z",
     "start_time": "2025-09-03T13:50:54.111493Z"
    }
   },
   "source": [
    "# SQL-like expression\n",
    "\n",
    "# Let's get the people with the most expensive tickets\n",
    "biggest_polars = (\n",
    "    df_titanic\n",
    "    .sort('Fare', descending=True)\n",
    "    .head(10)\n",
    "    .select(['Name', 'Sex', 'Age', 'Fare'])\n",
    ")\n",
    "\n",
    "biggest_polars"
   ],
   "outputs": [
    {
     "data": {
      "text/plain": [
       "shape: (10, 4)\n",
       "┌─────────────────────────────────┬────────┬──────┬──────────┐\n",
       "│ Name                            ┆ Sex    ┆ Age  ┆ Fare     │\n",
       "│ ---                             ┆ ---    ┆ ---  ┆ ---      │\n",
       "│ str                             ┆ str    ┆ f64  ┆ f64      │\n",
       "╞═════════════════════════════════╪════════╪══════╪══════════╡\n",
       "│ Ward, Miss Anna                 ┆ female ┆ 35.0 ┆ 512.3292 │\n",
       "│ Cardeza, Mr. Thomas Drake Mart… ┆ male   ┆ 36.0 ┆ 512.3292 │\n",
       "│ Lesurer, Mr. Gustave J          ┆ male   ┆ 35.0 ┆ 512.3292 │\n",
       "│ Fortune, Mr. Charles Alexander  ┆ male   ┆ 19.0 ┆ 263.0    │\n",
       "│ Fortune, Miss Mabel Helen       ┆ female ┆ 23.0 ┆ 263.0    │\n",
       "│ Fortune, Miss Alice Elizabeth   ┆ female ┆ 24.0 ┆ 263.0    │\n",
       "│ Fortune, Mr. Mark               ┆ male   ┆ 64.0 ┆ 263.0    │\n",
       "│ Ryerson, Miss Emily Borie       ┆ female ┆ 18.0 ┆ 262.375  │\n",
       "│ Ryerson, Miss Susan Parker \"Su… ┆ female ┆ 21.0 ┆ 262.375  │\n",
       "│ Baxter, Mr. Quigg Edmond        ┆ male   ┆ 24.0 ┆ 247.5208 │\n",
       "└─────────────────────────────────┴────────┴──────┴──────────┘"
      ],
      "text/html": [
       "<div><style>\n",
       ".dataframe > thead > tr,\n",
       ".dataframe > tbody > tr {\n",
       "  text-align: right;\n",
       "  white-space: pre-wrap;\n",
       "}\n",
       "</style>\n",
       "<small>shape: (10, 4)</small><table border=\"1\" class=\"dataframe\"><thead><tr><th>Name</th><th>Sex</th><th>Age</th><th>Fare</th></tr><tr><td>str</td><td>str</td><td>f64</td><td>f64</td></tr></thead><tbody><tr><td>&quot;Ward, Miss Anna&quot;</td><td>&quot;female&quot;</td><td>35.0</td><td>512.3292</td></tr><tr><td>&quot;Cardeza, Mr. Thomas Drake Mart…</td><td>&quot;male&quot;</td><td>36.0</td><td>512.3292</td></tr><tr><td>&quot;Lesurer, Mr. Gustave J&quot;</td><td>&quot;male&quot;</td><td>35.0</td><td>512.3292</td></tr><tr><td>&quot;Fortune, Mr. Charles Alexander&quot;</td><td>&quot;male&quot;</td><td>19.0</td><td>263.0</td></tr><tr><td>&quot;Fortune, Miss Mabel Helen&quot;</td><td>&quot;female&quot;</td><td>23.0</td><td>263.0</td></tr><tr><td>&quot;Fortune, Miss Alice Elizabeth&quot;</td><td>&quot;female&quot;</td><td>24.0</td><td>263.0</td></tr><tr><td>&quot;Fortune, Mr. Mark&quot;</td><td>&quot;male&quot;</td><td>64.0</td><td>263.0</td></tr><tr><td>&quot;Ryerson, Miss Emily Borie&quot;</td><td>&quot;female&quot;</td><td>18.0</td><td>262.375</td></tr><tr><td>&quot;Ryerson, Miss Susan Parker &quot;Su…</td><td>&quot;female&quot;</td><td>21.0</td><td>262.375</td></tr><tr><td>&quot;Baxter, Mr. Quigg Edmond&quot;</td><td>&quot;male&quot;</td><td>24.0</td><td>247.5208</td></tr></tbody></table></div>"
      ]
     },
     "execution_count": 13,
     "metadata": {},
     "output_type": "execute_result"
    }
   ],
   "execution_count": 13
  },
  {
   "metadata": {
    "ExecuteTime": {
     "end_time": "2025-09-03T13:58:25.213380Z",
     "start_time": "2025-09-03T13:58:25.208160Z"
    }
   },
   "cell_type": "code",
   "source": [
    "# Adding today_fare\n",
    "# fare_2025 = fare_1912 * 145.97\n",
    "today_fare = (\n",
    "    df_titanic\n",
    "    .with_columns(\n",
    "        Today_fare = (pl.col('Fare') * 145.97).round(0)\n",
    "    )\n",
    "    .select(['Fare', 'Today_fare'])\n",
    "    .sort('Today_fare', descending=True)\n",
    ")\n",
    "today_fare"
   ],
   "id": "28de63c2a98ee3eb",
   "outputs": [
    {
     "data": {
      "text/plain": [
       "shape: (891, 2)\n",
       "┌──────────┬────────────┐\n",
       "│ Fare     ┆ Today_fare │\n",
       "│ ---      ┆ ---        │\n",
       "│ f64      ┆ f64        │\n",
       "╞══════════╪════════════╡\n",
       "│ 512.3292 ┆ 74785.0    │\n",
       "│ 512.3292 ┆ 74785.0    │\n",
       "│ 512.3292 ┆ 74785.0    │\n",
       "│ 263.0    ┆ 38390.0    │\n",
       "│ 263.0    ┆ 38390.0    │\n",
       "│ …        ┆ …          │\n",
       "│ 0.0      ┆ 0.0        │\n",
       "│ 0.0      ┆ 0.0        │\n",
       "│ 0.0      ┆ 0.0        │\n",
       "│ 0.0      ┆ 0.0        │\n",
       "│ 0.0      ┆ 0.0        │\n",
       "└──────────┴────────────┘"
      ],
      "text/html": [
       "<div><style>\n",
       ".dataframe > thead > tr,\n",
       ".dataframe > tbody > tr {\n",
       "  text-align: right;\n",
       "  white-space: pre-wrap;\n",
       "}\n",
       "</style>\n",
       "<small>shape: (891, 2)</small><table border=\"1\" class=\"dataframe\"><thead><tr><th>Fare</th><th>Today_fare</th></tr><tr><td>f64</td><td>f64</td></tr></thead><tbody><tr><td>512.3292</td><td>74785.0</td></tr><tr><td>512.3292</td><td>74785.0</td></tr><tr><td>512.3292</td><td>74785.0</td></tr><tr><td>263.0</td><td>38390.0</td></tr><tr><td>263.0</td><td>38390.0</td></tr><tr><td>&hellip;</td><td>&hellip;</td></tr><tr><td>0.0</td><td>0.0</td></tr><tr><td>0.0</td><td>0.0</td></tr><tr><td>0.0</td><td>0.0</td></tr><tr><td>0.0</td><td>0.0</td></tr><tr><td>0.0</td><td>0.0</td></tr></tbody></table></div>"
      ]
     },
     "execution_count": 18,
     "metadata": {},
     "output_type": "execute_result"
    }
   ],
   "execution_count": 18
  },
  {
   "cell_type": "code",
   "id": "9a90424d",
   "metadata": {
    "ExecuteTime": {
     "end_time": "2025-09-03T14:03:15.722446Z",
     "start_time": "2025-09-03T14:03:15.715375Z"
    }
   },
   "source": [
    "# Creating new column based on if/then statement\n",
    "df_titanic = df_titanic.with_columns(\n",
    "    pl.when(pl.col('Age') < 3)\n",
    "    .then(pl.lit(\"infant\"))\n",
    "    .when(pl.col(\"Age\") < 18)\n",
    "    .then(pl.lit(\"children\"))\n",
    "    .when(pl.col('Age')< 60)\n",
    "    .then(pl.lit(\"adult\"))\n",
    "    .when(pl.col('Age')> 60)\n",
    "    .then(pl.lit(\"elderly\"))\n",
    "    .otherwise(pl.lit(\"Unknown\"))\n",
    "    .alias('age_group')\n",
    ")\n",
    "df_titanic"
   ],
   "outputs": [
    {
     "data": {
      "text/plain": [
       "shape: (891, 13)\n",
       "┌─────────────┬──────────┬────────┬───────────────────┬───┬─────────┬───────┬──────────┬───────────┐\n",
       "│ PassengerId ┆ Survived ┆ Pclass ┆ Name              ┆ … ┆ Fare    ┆ Cabin ┆ Embarked ┆ age_group │\n",
       "│ ---         ┆ ---      ┆ ---    ┆ ---               ┆   ┆ ---     ┆ ---   ┆ ---      ┆ ---       │\n",
       "│ i64         ┆ i64      ┆ i64    ┆ str               ┆   ┆ f64     ┆ str   ┆ str      ┆ str       │\n",
       "╞═════════════╪══════════╪════════╪═══════════════════╪═══╪═════════╪═══════╪══════════╪═══════════╡\n",
       "│ 1           ┆ 0        ┆ 3      ┆ Braund, Mr. Owen  ┆ … ┆ 7.25    ┆ null  ┆ S        ┆ adult     │\n",
       "│             ┆          ┆        ┆ Harris            ┆   ┆         ┆       ┆          ┆           │\n",
       "│ 2           ┆ 1        ┆ 1      ┆ Cumings, Mrs.     ┆ … ┆ 71.2833 ┆ C85   ┆ C        ┆ adult     │\n",
       "│             ┆          ┆        ┆ John Bradley (Fl… ┆   ┆         ┆       ┆          ┆           │\n",
       "│ 3           ┆ 1        ┆ 3      ┆ Heikkinen, Miss   ┆ … ┆ 7.925   ┆ null  ┆ S        ┆ adult     │\n",
       "│             ┆          ┆        ┆ Laina             ┆   ┆         ┆       ┆          ┆           │\n",
       "│ 4           ┆ 1        ┆ 1      ┆ Futrelle, Mrs.    ┆ … ┆ 53.1    ┆ C123  ┆ S        ┆ adult     │\n",
       "│             ┆          ┆        ┆ Jacques Heath (…  ┆   ┆         ┆       ┆          ┆           │\n",
       "│ 5           ┆ 0        ┆ 3      ┆ Allen, Mr.        ┆ … ┆ 8.05    ┆ null  ┆ S        ┆ adult     │\n",
       "│             ┆          ┆        ┆ William Henry     ┆   ┆         ┆       ┆          ┆           │\n",
       "│ …           ┆ …        ┆ …      ┆ …                 ┆ … ┆ …       ┆ …     ┆ …        ┆ …         │\n",
       "│ 887         ┆ 0        ┆ 2      ┆ Montvila, Rev.    ┆ … ┆ 13.0    ┆ null  ┆ S        ┆ adult     │\n",
       "│             ┆          ┆        ┆ Juozas            ┆   ┆         ┆       ┆          ┆           │\n",
       "│ 888         ┆ 1        ┆ 1      ┆ Graham, Miss      ┆ … ┆ 30.0    ┆ B42   ┆ S        ┆ adult     │\n",
       "│             ┆          ┆        ┆ Margaret Edith    ┆   ┆         ┆       ┆          ┆           │\n",
       "│ 889         ┆ 0        ┆ 3      ┆ Johnston, Miss    ┆ … ┆ 23.45   ┆ null  ┆ S        ┆ Unknown   │\n",
       "│             ┆          ┆        ┆ Catherine Helen…  ┆   ┆         ┆       ┆          ┆           │\n",
       "│ 890         ┆ 1        ┆ 1      ┆ Behr, Mr. Karl    ┆ … ┆ 30.0    ┆ C148  ┆ C        ┆ adult     │\n",
       "│             ┆          ┆        ┆ Howell            ┆   ┆         ┆       ┆          ┆           │\n",
       "│ 891         ┆ 0        ┆ 3      ┆ Dooley, Mr.       ┆ … ┆ 7.75    ┆ null  ┆ Q        ┆ adult     │\n",
       "│             ┆          ┆        ┆ Patrick           ┆   ┆         ┆       ┆          ┆           │\n",
       "└─────────────┴──────────┴────────┴───────────────────┴───┴─────────┴───────┴──────────┴───────────┘"
      ],
      "text/html": [
       "<div><style>\n",
       ".dataframe > thead > tr,\n",
       ".dataframe > tbody > tr {\n",
       "  text-align: right;\n",
       "  white-space: pre-wrap;\n",
       "}\n",
       "</style>\n",
       "<small>shape: (891, 13)</small><table border=\"1\" class=\"dataframe\"><thead><tr><th>PassengerId</th><th>Survived</th><th>Pclass</th><th>Name</th><th>Sex</th><th>Age</th><th>SibSp</th><th>Parch</th><th>Ticket</th><th>Fare</th><th>Cabin</th><th>Embarked</th><th>age_group</th></tr><tr><td>i64</td><td>i64</td><td>i64</td><td>str</td><td>str</td><td>f64</td><td>i64</td><td>i64</td><td>str</td><td>f64</td><td>str</td><td>str</td><td>str</td></tr></thead><tbody><tr><td>1</td><td>0</td><td>3</td><td>&quot;Braund, Mr. Owen Harris&quot;</td><td>&quot;male&quot;</td><td>22.0</td><td>1</td><td>0</td><td>&quot;A/5 21171&quot;</td><td>7.25</td><td>null</td><td>&quot;S&quot;</td><td>&quot;adult&quot;</td></tr><tr><td>2</td><td>1</td><td>1</td><td>&quot;Cumings, Mrs. John Bradley (Fl…</td><td>&quot;female&quot;</td><td>38.0</td><td>1</td><td>0</td><td>&quot;PC 17599&quot;</td><td>71.2833</td><td>&quot;C85&quot;</td><td>&quot;C&quot;</td><td>&quot;adult&quot;</td></tr><tr><td>3</td><td>1</td><td>3</td><td>&quot;Heikkinen, Miss Laina&quot;</td><td>&quot;female&quot;</td><td>26.0</td><td>0</td><td>0</td><td>&quot;STON/O2. 3101282&quot;</td><td>7.925</td><td>null</td><td>&quot;S&quot;</td><td>&quot;adult&quot;</td></tr><tr><td>4</td><td>1</td><td>1</td><td>&quot;Futrelle, Mrs. Jacques Heath (…</td><td>&quot;female&quot;</td><td>35.0</td><td>1</td><td>0</td><td>&quot;113803&quot;</td><td>53.1</td><td>&quot;C123&quot;</td><td>&quot;S&quot;</td><td>&quot;adult&quot;</td></tr><tr><td>5</td><td>0</td><td>3</td><td>&quot;Allen, Mr. William Henry&quot;</td><td>&quot;male&quot;</td><td>35.0</td><td>0</td><td>0</td><td>&quot;373450&quot;</td><td>8.05</td><td>null</td><td>&quot;S&quot;</td><td>&quot;adult&quot;</td></tr><tr><td>&hellip;</td><td>&hellip;</td><td>&hellip;</td><td>&hellip;</td><td>&hellip;</td><td>&hellip;</td><td>&hellip;</td><td>&hellip;</td><td>&hellip;</td><td>&hellip;</td><td>&hellip;</td><td>&hellip;</td><td>&hellip;</td></tr><tr><td>887</td><td>0</td><td>2</td><td>&quot;Montvila, Rev. Juozas&quot;</td><td>&quot;male&quot;</td><td>27.0</td><td>0</td><td>0</td><td>&quot;211536&quot;</td><td>13.0</td><td>null</td><td>&quot;S&quot;</td><td>&quot;adult&quot;</td></tr><tr><td>888</td><td>1</td><td>1</td><td>&quot;Graham, Miss Margaret Edith&quot;</td><td>&quot;female&quot;</td><td>19.0</td><td>0</td><td>0</td><td>&quot;112053&quot;</td><td>30.0</td><td>&quot;B42&quot;</td><td>&quot;S&quot;</td><td>&quot;adult&quot;</td></tr><tr><td>889</td><td>0</td><td>3</td><td>&quot;Johnston, Miss Catherine Helen…</td><td>&quot;female&quot;</td><td>null</td><td>1</td><td>2</td><td>&quot;W./C. 6607&quot;</td><td>23.45</td><td>null</td><td>&quot;S&quot;</td><td>&quot;Unknown&quot;</td></tr><tr><td>890</td><td>1</td><td>1</td><td>&quot;Behr, Mr. Karl Howell&quot;</td><td>&quot;male&quot;</td><td>26.0</td><td>0</td><td>0</td><td>&quot;111369&quot;</td><td>30.0</td><td>&quot;C148&quot;</td><td>&quot;C&quot;</td><td>&quot;adult&quot;</td></tr><tr><td>891</td><td>0</td><td>3</td><td>&quot;Dooley, Mr. Patrick&quot;</td><td>&quot;male&quot;</td><td>32.0</td><td>0</td><td>0</td><td>&quot;370376&quot;</td><td>7.75</td><td>null</td><td>&quot;Q&quot;</td><td>&quot;adult&quot;</td></tr></tbody></table></div>"
      ]
     },
     "execution_count": 23,
     "metadata": {},
     "output_type": "execute_result"
    }
   ],
   "execution_count": 23
  },
  {
   "cell_type": "markdown",
   "id": "6d7f9b56",
   "metadata": {},
   "source": [
    "---\n",
    "\n",
    "## Round 4: Window Functions - SQL Power in Python 💪\n"
   ]
  },
  {
   "cell_type": "code",
   "id": "ed840007",
   "metadata": {
    "ExecuteTime": {
     "end_time": "2025-09-03T14:04:47.183210Z",
     "start_time": "2025-09-03T14:04:47.178405Z"
    }
   },
   "source": [
    "# Averaging by age group\n",
    "\n",
    "df_group = df_titanic.group_by('age_group').agg(\n",
    "    pl.len(),\n",
    "    pl.col('Age').mean(),\n",
    "    pl.col('Fare').mean(),\n",
    "    (pl.col('Survived').mean()*100).round(0)\n",
    ")\n",
    "df_group"
   ],
   "outputs": [
    {
     "data": {
      "text/plain": [
       "shape: (5, 5)\n",
       "┌───────────┬─────┬───────────┬───────────┬──────────┐\n",
       "│ age_group ┆ len ┆ Age       ┆ Fare      ┆ Survived │\n",
       "│ ---       ┆ --- ┆ ---       ┆ ---       ┆ ---      │\n",
       "│ str       ┆ u32 ┆ f64       ┆ f64       ┆ f64      │\n",
       "╞═══════════╪═════╪═══════════╪═══════════╪══════════╡\n",
       "│ children  ┆ 89  ┆ 11.117978 ┆ 30.131603 ┆ 52.0     │\n",
       "│ Unknown   ┆ 181 ┆ 60.0      ┆ 22.884344 ┆ 30.0     │\n",
       "│ adult     ┆ 575 ┆ 32.158261 ┆ 34.980463 ┆ 39.0     │\n",
       "│ infant    ┆ 24  ┆ 1.340417  ┆ 35.259896 ┆ 62.0     │\n",
       "│ elderly   ┆ 22  ┆ 66.022727 ┆ 41.371214 ┆ 23.0     │\n",
       "└───────────┴─────┴───────────┴───────────┴──────────┘"
      ],
      "text/html": [
       "<div><style>\n",
       ".dataframe > thead > tr,\n",
       ".dataframe > tbody > tr {\n",
       "  text-align: right;\n",
       "  white-space: pre-wrap;\n",
       "}\n",
       "</style>\n",
       "<small>shape: (5, 5)</small><table border=\"1\" class=\"dataframe\"><thead><tr><th>age_group</th><th>len</th><th>Age</th><th>Fare</th><th>Survived</th></tr><tr><td>str</td><td>u32</td><td>f64</td><td>f64</td><td>f64</td></tr></thead><tbody><tr><td>&quot;children&quot;</td><td>89</td><td>11.117978</td><td>30.131603</td><td>52.0</td></tr><tr><td>&quot;Unknown&quot;</td><td>181</td><td>60.0</td><td>22.884344</td><td>30.0</td></tr><tr><td>&quot;adult&quot;</td><td>575</td><td>32.158261</td><td>34.980463</td><td>39.0</td></tr><tr><td>&quot;infant&quot;</td><td>24</td><td>1.340417</td><td>35.259896</td><td>62.0</td></tr><tr><td>&quot;elderly&quot;</td><td>22</td><td>66.022727</td><td>41.371214</td><td>23.0</td></tr></tbody></table></div>"
      ]
     },
     "execution_count": 30,
     "metadata": {},
     "output_type": "execute_result"
    }
   ],
   "execution_count": 30
  },
  {
   "metadata": {
    "ExecuteTime": {
     "end_time": "2025-09-03T14:27:05.247286Z",
     "start_time": "2025-09-03T14:27:05.239Z"
    }
   },
   "cell_type": "code",
   "source": [
    "# Analysis by Title Extraction Analysis\n",
    "# Mr, Miss, Mrs, Master ...\n",
    "# we can remove everything before the first comma to see clearer\n",
    "# https://docs.pola.rs/api/python/stable/reference/expressions/api/polars.Expr.str.strip_prefix.html#polars.Expr.str.strip_prefix\n",
    "df_title = (df_titanic\n",
    "    .with_columns(\n",
    "        pl.col('Name').str.split(', ').list.get(1).str.split(\" \").list.get(0).alias(\"title\")\n",
    "    )\n",
    "    .with_columns(\n",
    "        pl.col(\"Name\").str.extract(r\", (\\w+\\.?)\").alias(\"title_regex\") )\n",
    "    .select(['Name', 'title', \"title_regex\"]))\n",
    "\n",
    "print(df_title['title'].unique().to_list())\n",
    "df_title"
   ],
   "id": "abda7ae9a3573375",
   "outputs": [
    {
     "name": "stdout",
     "output_type": "stream",
     "text": [
      "['Master', 'Miss', 'Mlle.', 'Mme.', 'Dr.', 'Ms.', 'Don.', 'Mrs.', 'Rev.', 'Mr.', 'Capt.', 'Sir.', 'Col.', 'the', 'Lady.', 'Major.', 'Jonkheer.']\n"
     ]
    },
    {
     "data": {
      "text/plain": [
       "shape: (891, 3)\n",
       "┌─────────────────────────────────┬───────┬─────────────┐\n",
       "│ Name                            ┆ title ┆ title_regex │\n",
       "│ ---                             ┆ ---   ┆ ---         │\n",
       "│ str                             ┆ str   ┆ str         │\n",
       "╞═════════════════════════════════╪═══════╪═════════════╡\n",
       "│ Braund, Mr. Owen Harris         ┆ Mr.   ┆ Mr.         │\n",
       "│ Cumings, Mrs. John Bradley (Fl… ┆ Mrs.  ┆ Mrs.        │\n",
       "│ Heikkinen, Miss Laina           ┆ Miss  ┆ Miss        │\n",
       "│ Futrelle, Mrs. Jacques Heath (… ┆ Mrs.  ┆ Mrs.        │\n",
       "│ Allen, Mr. William Henry        ┆ Mr.   ┆ Mr.         │\n",
       "│ …                               ┆ …     ┆ …           │\n",
       "│ Montvila, Rev. Juozas           ┆ Rev.  ┆ Rev.        │\n",
       "│ Graham, Miss Margaret Edith     ┆ Miss  ┆ Miss        │\n",
       "│ Johnston, Miss Catherine Helen… ┆ Miss  ┆ Miss        │\n",
       "│ Behr, Mr. Karl Howell           ┆ Mr.   ┆ Mr.         │\n",
       "│ Dooley, Mr. Patrick             ┆ Mr.   ┆ Mr.         │\n",
       "└─────────────────────────────────┴───────┴─────────────┘"
      ],
      "text/html": [
       "<div><style>\n",
       ".dataframe > thead > tr,\n",
       ".dataframe > tbody > tr {\n",
       "  text-align: right;\n",
       "  white-space: pre-wrap;\n",
       "}\n",
       "</style>\n",
       "<small>shape: (891, 3)</small><table border=\"1\" class=\"dataframe\"><thead><tr><th>Name</th><th>title</th><th>title_regex</th></tr><tr><td>str</td><td>str</td><td>str</td></tr></thead><tbody><tr><td>&quot;Braund, Mr. Owen Harris&quot;</td><td>&quot;Mr.&quot;</td><td>&quot;Mr.&quot;</td></tr><tr><td>&quot;Cumings, Mrs. John Bradley (Fl…</td><td>&quot;Mrs.&quot;</td><td>&quot;Mrs.&quot;</td></tr><tr><td>&quot;Heikkinen, Miss Laina&quot;</td><td>&quot;Miss&quot;</td><td>&quot;Miss&quot;</td></tr><tr><td>&quot;Futrelle, Mrs. Jacques Heath (…</td><td>&quot;Mrs.&quot;</td><td>&quot;Mrs.&quot;</td></tr><tr><td>&quot;Allen, Mr. William Henry&quot;</td><td>&quot;Mr.&quot;</td><td>&quot;Mr.&quot;</td></tr><tr><td>&hellip;</td><td>&hellip;</td><td>&hellip;</td></tr><tr><td>&quot;Montvila, Rev. Juozas&quot;</td><td>&quot;Rev.&quot;</td><td>&quot;Rev.&quot;</td></tr><tr><td>&quot;Graham, Miss Margaret Edith&quot;</td><td>&quot;Miss&quot;</td><td>&quot;Miss&quot;</td></tr><tr><td>&quot;Johnston, Miss Catherine Helen…</td><td>&quot;Miss&quot;</td><td>&quot;Miss&quot;</td></tr><tr><td>&quot;Behr, Mr. Karl Howell&quot;</td><td>&quot;Mr.&quot;</td><td>&quot;Mr.&quot;</td></tr><tr><td>&quot;Dooley, Mr. Patrick&quot;</td><td>&quot;Mr.&quot;</td><td>&quot;Mr.&quot;</td></tr></tbody></table></div>"
      ]
     },
     "execution_count": 55,
     "metadata": {},
     "output_type": "execute_result"
    }
   ],
   "execution_count": 55
  },
  {
   "metadata": {},
   "cell_type": "code",
   "outputs": [],
   "execution_count": null,
   "source": [
    "# Joining back to the main table\n",
    "df_titanic = df_titanic.join(df_title.select(['Name', 'title']), on='Name')"
   ],
   "id": "d110582ef24c6d4b"
  },
  {
   "cell_type": "code",
   "id": "f79234b3",
   "metadata": {
    "ExecuteTime": {
     "end_time": "2025-09-03T14:30:59.800422Z",
     "start_time": "2025-09-03T14:30:59.793677Z"
    }
   },
   "source": [
    "df_group_title = df_titanic.group_by('title').agg(\n",
    "    pl.len().alias('count'),\n",
    "    pl.col('Age').mean(),\n",
    "    pl.col('Fare').mean(),\n",
    "    (pl.col('Survived').mean()*100).round(0),\n",
    ").sort('count', descending=True)\n",
    "df_group_title"
   ],
   "outputs": [
    {
     "data": {
      "text/plain": [
       "shape: (17, 5)\n",
       "┌────────┬───────┬───────────┬───────────┬──────────┐\n",
       "│ title  ┆ count ┆ Age       ┆ Fare      ┆ Survived │\n",
       "│ ---    ┆ ---   ┆ ---       ┆ ---       ┆ ---      │\n",
       "│ str    ┆ u32   ┆ f64       ┆ f64       ┆ f64      │\n",
       "╞════════╪═══════╪═══════════╪═══════════╪══════════╡\n",
       "│ Mr.    ┆ 517   ┆ 32.36809  ┆ 24.44156  ┆ 16.0     │\n",
       "│ Miss   ┆ 182   ┆ 21.773973 ┆ 43.797873 ┆ 70.0     │\n",
       "│ Mrs.   ┆ 125   ┆ 35.898148 ┆ 45.138533 ┆ 79.0     │\n",
       "│ Master ┆ 40    ┆ 4.574167  ┆ 34.703125 ┆ 57.0     │\n",
       "│ Dr.    ┆ 7     ┆ 42.0      ┆ 49.168457 ┆ 43.0     │\n",
       "│ …      ┆ …     ┆ …         ┆ …         ┆ …        │\n",
       "│ the    ┆ 1     ┆ 33.0      ┆ 86.5      ┆ 100.0    │\n",
       "│ Lady.  ┆ 1     ┆ 48.0      ┆ 39.6      ┆ 100.0    │\n",
       "│ Mme.   ┆ 1     ┆ 24.0      ┆ 69.3      ┆ 100.0    │\n",
       "│ Don.   ┆ 1     ┆ 40.0      ┆ 27.7208   ┆ 0.0      │\n",
       "│ Capt.  ┆ 1     ┆ 70.0      ┆ 71.0      ┆ 0.0      │\n",
       "└────────┴───────┴───────────┴───────────┴──────────┘"
      ],
      "text/html": [
       "<div><style>\n",
       ".dataframe > thead > tr,\n",
       ".dataframe > tbody > tr {\n",
       "  text-align: right;\n",
       "  white-space: pre-wrap;\n",
       "}\n",
       "</style>\n",
       "<small>shape: (17, 5)</small><table border=\"1\" class=\"dataframe\"><thead><tr><th>title</th><th>count</th><th>Age</th><th>Fare</th><th>Survived</th></tr><tr><td>str</td><td>u32</td><td>f64</td><td>f64</td><td>f64</td></tr></thead><tbody><tr><td>&quot;Mr.&quot;</td><td>517</td><td>32.36809</td><td>24.44156</td><td>16.0</td></tr><tr><td>&quot;Miss&quot;</td><td>182</td><td>21.773973</td><td>43.797873</td><td>70.0</td></tr><tr><td>&quot;Mrs.&quot;</td><td>125</td><td>35.898148</td><td>45.138533</td><td>79.0</td></tr><tr><td>&quot;Master&quot;</td><td>40</td><td>4.574167</td><td>34.703125</td><td>57.0</td></tr><tr><td>&quot;Dr.&quot;</td><td>7</td><td>42.0</td><td>49.168457</td><td>43.0</td></tr><tr><td>&hellip;</td><td>&hellip;</td><td>&hellip;</td><td>&hellip;</td><td>&hellip;</td></tr><tr><td>&quot;the&quot;</td><td>1</td><td>33.0</td><td>86.5</td><td>100.0</td></tr><tr><td>&quot;Lady.&quot;</td><td>1</td><td>48.0</td><td>39.6</td><td>100.0</td></tr><tr><td>&quot;Mme.&quot;</td><td>1</td><td>24.0</td><td>69.3</td><td>100.0</td></tr><tr><td>&quot;Don.&quot;</td><td>1</td><td>40.0</td><td>27.7208</td><td>0.0</td></tr><tr><td>&quot;Capt.&quot;</td><td>1</td><td>70.0</td><td>71.0</td><td>0.0</td></tr></tbody></table></div>"
      ]
     },
     "execution_count": 59,
     "metadata": {},
     "output_type": "execute_result"
    }
   ],
   "execution_count": 59
  },
  {
   "cell_type": "markdown",
   "id": "c06baef1",
   "metadata": {},
   "source": [
    "---\n",
    "\n",
    "## Round 6: Lazy Evaluation - The Game Changer 🎮\n",
    "\n",
    "### Building a complex query without executing"
   ]
  },
  {
   "cell_type": "code",
   "id": "c75e8c01",
   "metadata": {
    "ExecuteTime": {
     "end_time": "2025-09-03T14:37:18.454616Z",
     "start_time": "2025-09-03T14:37:18.447762Z"
    }
   },
   "source": [
    "# BUILD THE LAZY PIPELINE - Nothing executes yet!\n",
    "lazy_analysis = (\n",
    "    df_titanic\n",
    "    .lazy()  # Make it lazy\n",
    "    .filter(pl.col('Embarked').is_not_null())  # Filter 1\n",
    "    .filter(pl.col('Age').is_not_null())       # Filter 2\n",
    "    .filter(pl.col('Fare') > 0)                # Filter 3\n",
    "    .with_columns([\n",
    "        (pl.col('SibSp') + pl.col('Parch')).alias('family_members'),\n",
    "        pl.col('Sex').map_elements(lambda x: 1 if x == 'female' else 0).alias('is_female')\n",
    "    ])\n",
    "    .group_by(['Embarked', 'Pclass'])\n",
    "    .agg([\n",
    "        pl.len().alias('passenger_count'),\n",
    "        pl.col('Survived').mean().alias('survival_rate'),\n",
    "        pl.col('Fare').mean().alias('avg_fare'),\n",
    "        pl.col('family_members').mean().alias('avg_family_size'),\n",
    "        pl.col('is_female').mean().alias('female_ratio')\n",
    "    ])\n",
    "    .sort('survival_rate', descending=True)\n",
    ")\n",
    "\n",
    "\n",
    "print(lazy_analysis.explain())\n",
    "# Only NOW does the computation happen!\n",
    "result = lazy_analysis.collect()\n",
    "result"
   ],
   "outputs": [
    {
     "name": "stdout",
     "output_type": "stream",
     "text": [
      "SORT BY [col(\"survival_rate\")]\n",
      "  AGGREGATE[maintain_order: false]\n",
      "    [len().alias(\"passenger_count\"), col(\"Survived\").mean().alias(\"survival_rate\"), col(\"Fare\").mean().alias(\"avg_fare\"), col(\"family_members\").mean().alias(\"avg_family_size\"), col(\"is_female\").mean().alias(\"female_ratio\")] BY [col(\"Embarked\"), col(\"Pclass\")]\n",
      "    FROM\n",
      "     WITH_COLUMNS:\n",
      "     [[(col(\"SibSp\")) + (col(\"Parch\"))].alias(\"family_members\"), col(\"Sex\").python_udf().alias(\"is_female\")] \n",
      "      FILTER [([(col(\"Age\").is_not_null()) & ([(col(\"Fare\")) > (0.0)])]) & (col(\"Embarked\").is_not_null())]\n",
      "      FROM\n",
      "        DF [\"PassengerId\", \"Survived\", \"Pclass\", \"Name\", ...]; PROJECT[\"Survived\", \"Fare\", \"Embarked\", \"Pclass\", ...] 8/15 COLUMNS\n",
      "shape: (9, 7)\n",
      "┌──────────┬────────┬─────────────────┬───────────────┬────────────┬────────────────┬──────────────┐\n",
      "│ Embarked ┆ Pclass ┆ passenger_count ┆ survival_rate ┆ avg_fare   ┆ avg_family_siz ┆ female_ratio │\n",
      "│ ---      ┆ ---    ┆ ---             ┆ ---           ┆ ---        ┆ e              ┆ ---          │\n",
      "│ str      ┆ i64    ┆ u32             ┆ f64           ┆ f64        ┆ ---            ┆ f64          │\n",
      "│          ┆        ┆                 ┆               ┆            ┆ f64            ┆              │\n",
      "╞══════════╪════════╪═════════════════╪═══════════════╪════════════╪════════════════╪══════════════╡\n",
      "│ C        ┆ 1      ┆ 74              ┆ 0.716216      ┆ 108.246399 ┆ 0.756757       ┆ 0.513514     │\n",
      "│ S        ┆ 1      ┆ 105             ┆ 0.628571      ┆ 76.291627  ┆ 0.961905       ┆ 0.419048     │\n",
      "│ C        ┆ 2      ┆ 15              ┆ 0.533333      ┆ 26.811947  ┆ 1.266667       ┆ 0.466667     │\n",
      "│ Q        ┆ 2      ┆ 2               ┆ 0.5           ┆ 12.35      ┆ 0.0            ┆ 0.5          │\n",
      "│ Q        ┆ 1      ┆ 2               ┆ 0.5           ┆ 90.0       ┆ 1.5            ┆ 0.5          │\n",
      "│ S        ┆ 2      ┆ 156             ┆ 0.474359      ┆ 21.075     ┆ 0.801282       ┆ 0.423077     │\n",
      "│ C        ┆ 3      ┆ 41              ┆ 0.439024      ┆ 11.369927  ┆ 0.829268       ┆ 0.390244     │\n",
      "│ Q        ┆ 3      ┆ 24              ┆ 0.25          ┆ 12.780904  ┆ 1.208333       ┆ 0.416667     │\n",
      "│ S        ┆ 3      ┆ 286             ┆ 0.20979       ┆ 13.718674  ┆ 1.073427       ┆ 0.265734     │\n",
      "└──────────┴────────┴─────────────────┴───────────────┴────────────┴────────────────┴──────────────┘\n"
     ]
    }
   ],
   "execution_count": 61
  },
  {
   "cell_type": "markdown",
   "id": "2a6501b8",
   "metadata": {},
   "source": []
  },
  {
   "cell_type": "code",
   "execution_count": null,
   "id": "412d927a",
   "metadata": {},
   "outputs": [],
   "source": [
    "# Common patterns to remember:\n",
    "\n",
    "# SELECTING\n",
    "# Pandas: df[['col1', 'col2']]\n",
    "# Polars: df.select(['col1', 'col2'])\n",
    "\n",
    "# FILTERING\n",
    "# Pandas: df[df['col'] > 5]\n",
    "# Polars: df.filter(pl.col('col') > 5)\n",
    "\n",
    "# ADDING COLUMNS\n",
    "# Pandas: df['new'] = df['old'] * 2\n",
    "# Polars: df.with_columns((pl.col('old') * 2).alias('new'))\n",
    "\n",
    "# GROUPING\n",
    "# Pandas: df.groupby('x').agg({'y': 'sum'})\n",
    "# Polars: df.group_by('x').agg(pl.col('y').sum())\n",
    "\n",
    "# JOINING\n",
    "# Pandas: pd.merge(df1, df2, on='key')\n",
    "# Polars: df1.join(df2, on='key')"
   ]
  }
 ],
 "metadata": {
  "language": "python",
  "kernelspec": {
   "name": "python3",
   "language": "python",
   "display_name": "Python 3 (ipykernel)"
  }
 },
 "nbformat": 4,
 "nbformat_minor": 5
}
