{
 "cells": [
  {
   "cell_type": "markdown",
   "id": "d22f39c3",
   "metadata": {},
   "source": [
    "# 🚀 Live Coding: Polars vs Pandas with Real French Cities Data\n",
    "\n",
    "## Setup: The Database Connection Battle"
   ]
  },
  {
   "cell_type": "code",
   "id": "4ab3bee8",
   "metadata": {
    "ExecuteTime": {
     "end_time": "2025-08-30T16:53:00.855923Z",
     "start_time": "2025-08-30T16:53:00.853636Z"
    }
   },
   "source": [
    "# First, let's see the traditional pandas way\n",
    "import pandas as pd\n",
    "import polars as pl\n",
    "from pathlib import Path\n",
    "import time\n",
    "\n",
    "# Your database path\n",
    "p_departement = Path.cwd().parent / \"data\" / \"villes_france.db\"\n",
    "connection_string = f\"sqlite:///{p_departement}\"\n",
    "\n",
    "# Let's time both approaches!"
   ],
   "outputs": [],
   "execution_count": 3
  },
  {
   "cell_type": "markdown",
   "id": "3940d127",
   "metadata": {},
   "source": [
    "---\n",
    "\n",
    "## Round 1: Loading Data - Who's Faster? ⚡"
   ]
  },
  {
   "cell_type": "code",
   "id": "0f5e7dea",
   "metadata": {
    "ExecuteTime": {
     "end_time": "2025-08-30T16:56:06.322260Z",
     "start_time": "2025-08-30T16:56:06.200913Z"
    }
   },
   "source": [
    "# PANDAS: The old reliable\n",
    "start = time.time()\n",
    "df_pandas = pd.read_sql(\"\"\"\n",
    "    SELECT v.*, d.departement_nom \n",
    "    FROM villes v\n",
    "    LEFT JOIN departement d ON v.department = d.departement_code\n",
    "\"\"\", connection_string)\n",
    "pandas_load_time = time.time() - start\n",
    "print(f\"🐼 Pandas load time: {pandas_load_time:.3f}s\")\n",
    "print(f\"Shape: {df_pandas.shape}\")"
   ],
   "outputs": [
    {
     "name": "stdout",
     "output_type": "stream",
     "text": [
      "🐼 Pandas load time: 0.119s\n",
      "Shape: (36700, 8)\n"
     ]
    }
   ],
   "execution_count": 8
  },
  {
   "cell_type": "markdown",
   "id": "66204522",
   "metadata": {},
   "source": []
  },
  {
   "cell_type": "code",
   "id": "65ddc308",
   "metadata": {
    "ExecuteTime": {
     "end_time": "2025-08-30T16:56:07.371869Z",
     "start_time": "2025-08-30T16:56:07.302269Z"
    }
   },
   "source": [
    "# POLARS: The challenger\n",
    "\n",
    "from sqlalchemy import create_engine\n",
    "\n",
    "# Create SQLAlchemy engine\n",
    "engine = create_engine(connection_string)\n",
    "\n",
    "\n",
    "start = time.time()\n",
    "df_polars = pl.read_database(\"\"\"\n",
    "    SELECT v.*, d.departement_nom \n",
    "    FROM villes v\n",
    "    LEFT JOIN departement d ON v.department = d.departement_code\n",
    "\"\"\", engine)\n",
    "polars_load_time = time.time() - start\n",
    "print(f\"🦀 Polars load time: {polars_load_time:.3f}s\")\n",
    "print(f\"Shape: {df_polars.shape}\")\n",
    "print(f\"\\n⚡ Polars is {pandas_load_time/polars_load_time:.1f}x faster!\")"
   ],
   "outputs": [
    {
     "name": "stdout",
     "output_type": "stream",
     "text": [
      "🦀 Polars load time: 0.066s\n",
      "Shape: (36700, 8)\n",
      "\n",
      "⚡ Polars is 1.8x faster!\n"
     ]
    }
   ],
   "execution_count": 9
  },
  {
   "cell_type": "markdown",
   "id": "0b7cbbaf",
   "metadata": {},
   "source": [
    "---\n",
    "\n",
    "## Round 2: Data Exploration - Cleaner Syntax Wins 🎯\n",
    "\n",
    "### Quick peek at our data"
   ]
  },
  {
   "cell_type": "code",
   "id": "f8333e3b",
   "metadata": {
    "ExecuteTime": {
     "end_time": "2025-08-30T16:56:25.722969Z",
     "start_time": "2025-08-30T16:56:25.715712Z"
    }
   },
   "source": [
    "# PANDAS way\n",
    "print(\"PANDAS APPROACH:\")\n",
    "df_pandas.head()\n"
   ],
   "outputs": [
    {
     "name": "stdout",
     "output_type": "stream",
     "text": [
      "PANDAS APPROACH:\n"
     ]
    },
    {
     "data": {
      "text/plain": [
       "   id department                   name            simple_name  \\\n",
       "0   1         01                   OZAN                   ozan   \n",
       "1   2         01  CORMORANCHE-SUR-SAONE  cormoranche sur saone   \n",
       "2   3         01                 PLAGNE                 plagne   \n",
       "3   4         01                TOSSIAT                tossiat   \n",
       "4   5         01               POUILLAT               pouillat   \n",
       "\n",
       "   population_2012  surface commune_code departement_nom  \n",
       "0              500     6.60        01284             Ain  \n",
       "1             1000     9.85        01123             Ain  \n",
       "2              100     6.20        01298             Ain  \n",
       "3             1400    10.17        01422             Ain  \n",
       "4              100     6.23        01309             Ain  "
      ],
      "text/html": [
       "<div>\n",
       "<style scoped>\n",
       "    .dataframe tbody tr th:only-of-type {\n",
       "        vertical-align: middle;\n",
       "    }\n",
       "\n",
       "    .dataframe tbody tr th {\n",
       "        vertical-align: top;\n",
       "    }\n",
       "\n",
       "    .dataframe thead th {\n",
       "        text-align: right;\n",
       "    }\n",
       "</style>\n",
       "<table border=\"1\" class=\"dataframe\">\n",
       "  <thead>\n",
       "    <tr style=\"text-align: right;\">\n",
       "      <th></th>\n",
       "      <th>id</th>\n",
       "      <th>department</th>\n",
       "      <th>name</th>\n",
       "      <th>simple_name</th>\n",
       "      <th>population_2012</th>\n",
       "      <th>surface</th>\n",
       "      <th>commune_code</th>\n",
       "      <th>departement_nom</th>\n",
       "    </tr>\n",
       "  </thead>\n",
       "  <tbody>\n",
       "    <tr>\n",
       "      <th>0</th>\n",
       "      <td>1</td>\n",
       "      <td>01</td>\n",
       "      <td>OZAN</td>\n",
       "      <td>ozan</td>\n",
       "      <td>500</td>\n",
       "      <td>6.60</td>\n",
       "      <td>01284</td>\n",
       "      <td>Ain</td>\n",
       "    </tr>\n",
       "    <tr>\n",
       "      <th>1</th>\n",
       "      <td>2</td>\n",
       "      <td>01</td>\n",
       "      <td>CORMORANCHE-SUR-SAONE</td>\n",
       "      <td>cormoranche sur saone</td>\n",
       "      <td>1000</td>\n",
       "      <td>9.85</td>\n",
       "      <td>01123</td>\n",
       "      <td>Ain</td>\n",
       "    </tr>\n",
       "    <tr>\n",
       "      <th>2</th>\n",
       "      <td>3</td>\n",
       "      <td>01</td>\n",
       "      <td>PLAGNE</td>\n",
       "      <td>plagne</td>\n",
       "      <td>100</td>\n",
       "      <td>6.20</td>\n",
       "      <td>01298</td>\n",
       "      <td>Ain</td>\n",
       "    </tr>\n",
       "    <tr>\n",
       "      <th>3</th>\n",
       "      <td>4</td>\n",
       "      <td>01</td>\n",
       "      <td>TOSSIAT</td>\n",
       "      <td>tossiat</td>\n",
       "      <td>1400</td>\n",
       "      <td>10.17</td>\n",
       "      <td>01422</td>\n",
       "      <td>Ain</td>\n",
       "    </tr>\n",
       "    <tr>\n",
       "      <th>4</th>\n",
       "      <td>5</td>\n",
       "      <td>01</td>\n",
       "      <td>POUILLAT</td>\n",
       "      <td>pouillat</td>\n",
       "      <td>100</td>\n",
       "      <td>6.23</td>\n",
       "      <td>01309</td>\n",
       "      <td>Ain</td>\n",
       "    </tr>\n",
       "  </tbody>\n",
       "</table>\n",
       "</div>"
      ]
     },
     "execution_count": 11,
     "metadata": {},
     "output_type": "execute_result"
    }
   ],
   "execution_count": 11
  },
  {
   "cell_type": "markdown",
   "id": "d3ec2d15",
   "metadata": {},
   "source": []
  },
  {
   "cell_type": "code",
   "id": "c4f11997",
   "metadata": {
    "ExecuteTime": {
     "end_time": "2025-08-30T16:56:36.085553Z",
     "start_time": "2025-08-30T16:56:36.082314Z"
    }
   },
   "source": [
    "# POLARS way - notice the better display!\n",
    "print(\"POLARS APPROACH:\")\n",
    "df_polars.head()\n"
   ],
   "outputs": [
    {
     "name": "stdout",
     "output_type": "stream",
     "text": [
      "POLARS APPROACH:\n"
     ]
    },
    {
     "data": {
      "text/plain": [
       "shape: (5, 8)\n",
       "┌─────┬────────────┬─────────────┬─────────────┬─────────────┬─────────┬─────────────┬─────────────┐\n",
       "│ id  ┆ department ┆ name        ┆ simple_name ┆ population_ ┆ surface ┆ commune_cod ┆ departement │\n",
       "│ --- ┆ ---        ┆ ---         ┆ ---         ┆ 2012        ┆ ---     ┆ e           ┆ _nom        │\n",
       "│ i64 ┆ str        ┆ str         ┆ str         ┆ ---         ┆ f64     ┆ ---         ┆ ---         │\n",
       "│     ┆            ┆             ┆             ┆ i64         ┆         ┆ str         ┆ str         │\n",
       "╞═════╪════════════╪═════════════╪═════════════╪═════════════╪═════════╪═════════════╪═════════════╡\n",
       "│ 1   ┆ 01         ┆ OZAN        ┆ ozan        ┆ 500         ┆ 6.6     ┆ 01284       ┆ Ain         │\n",
       "│ 2   ┆ 01         ┆ CORMORANCHE ┆ cormoranche ┆ 1000        ┆ 9.85    ┆ 01123       ┆ Ain         │\n",
       "│     ┆            ┆ -SUR-SAONE  ┆ sur saone   ┆             ┆         ┆             ┆             │\n",
       "│ 3   ┆ 01         ┆ PLAGNE      ┆ plagne      ┆ 100         ┆ 6.2     ┆ 01298       ┆ Ain         │\n",
       "│ 4   ┆ 01         ┆ TOSSIAT     ┆ tossiat     ┆ 1400        ┆ 10.17   ┆ 01422       ┆ Ain         │\n",
       "│ 5   ┆ 01         ┆ POUILLAT    ┆ pouillat    ┆ 100         ┆ 6.23    ┆ 01309       ┆ Ain         │\n",
       "└─────┴────────────┴─────────────┴─────────────┴─────────────┴─────────┴─────────────┴─────────────┘"
      ],
      "text/html": [
       "<div><style>\n",
       ".dataframe > thead > tr,\n",
       ".dataframe > tbody > tr {\n",
       "  text-align: right;\n",
       "  white-space: pre-wrap;\n",
       "}\n",
       "</style>\n",
       "<small>shape: (5, 8)</small><table border=\"1\" class=\"dataframe\"><thead><tr><th>id</th><th>department</th><th>name</th><th>simple_name</th><th>population_2012</th><th>surface</th><th>commune_code</th><th>departement_nom</th></tr><tr><td>i64</td><td>str</td><td>str</td><td>str</td><td>i64</td><td>f64</td><td>str</td><td>str</td></tr></thead><tbody><tr><td>1</td><td>&quot;01&quot;</td><td>&quot;OZAN&quot;</td><td>&quot;ozan&quot;</td><td>500</td><td>6.6</td><td>&quot;01284&quot;</td><td>&quot;Ain&quot;</td></tr><tr><td>2</td><td>&quot;01&quot;</td><td>&quot;CORMORANCHE-SUR-SAONE&quot;</td><td>&quot;cormoranche sur saone&quot;</td><td>1000</td><td>9.85</td><td>&quot;01123&quot;</td><td>&quot;Ain&quot;</td></tr><tr><td>3</td><td>&quot;01&quot;</td><td>&quot;PLAGNE&quot;</td><td>&quot;plagne&quot;</td><td>100</td><td>6.2</td><td>&quot;01298&quot;</td><td>&quot;Ain&quot;</td></tr><tr><td>4</td><td>&quot;01&quot;</td><td>&quot;TOSSIAT&quot;</td><td>&quot;tossiat&quot;</td><td>1400</td><td>10.17</td><td>&quot;01422&quot;</td><td>&quot;Ain&quot;</td></tr><tr><td>5</td><td>&quot;01&quot;</td><td>&quot;POUILLAT&quot;</td><td>&quot;pouillat&quot;</td><td>100</td><td>6.23</td><td>&quot;01309&quot;</td><td>&quot;Ain&quot;</td></tr></tbody></table></div>"
      ]
     },
     "execution_count": 12,
     "metadata": {},
     "output_type": "execute_result"
    }
   ],
   "execution_count": 12
  },
  {
   "metadata": {
    "ExecuteTime": {
     "end_time": "2025-08-30T16:56:42.217005Z",
     "start_time": "2025-08-30T16:56:42.214181Z"
    }
   },
   "cell_type": "code",
   "source": "print(f\"\\nSchema: {df_polars.schema}\")",
   "id": "150fc639be29e388",
   "outputs": [
    {
     "name": "stdout",
     "output_type": "stream",
     "text": [
      "\n",
      "Schema: Schema([('id', Int64), ('department', String), ('name', String), ('simple_name', String), ('population_2012', Int64), ('surface', Float64), ('commune_code', String), ('departement_nom', String)])\n"
     ]
    }
   ],
   "execution_count": 13
  },
  {
   "cell_type": "markdown",
   "id": "dce2cd2d",
   "metadata": {},
   "source": [
    "### Let's find the biggest cities in France"
   ]
  },
  {
   "cell_type": "code",
   "id": "15d14538",
   "metadata": {
    "ExecuteTime": {
     "end_time": "2025-08-30T16:56:53.836041Z",
     "start_time": "2025-08-30T16:56:53.827841Z"
    }
   },
   "source": [
    "# PANDAS: Multiple ways, all slightly awkward\n",
    "biggest_pandas = df_pandas.nlargest(10, 'population_2012')[['name', 'departement_nom', 'population_2012']]\n",
    "print(\"Top 10 cities (Pandas):\")\n",
    "biggest_pandas"
   ],
   "outputs": [
    {
     "name": "stdout",
     "output_type": "stream",
     "text": [
      "Top 10 cities (Pandas):\n"
     ]
    },
    {
     "data": {
      "text/plain": [
       "              name   departement_nom  population_2012\n",
       "30437        PARIS             Paris          2211000\n",
       "4439     MARSEILLE  Bouches-du-Rhône           851400\n",
       "28152         LYON             Rhône           474900\n",
       "11718     TOULOUSE     Haute-Garonne           439600\n",
       "2049          NICE   Alpes-Maritimes           344900\n",
       "16755       NANTES  Loire-Atlantique           283300\n",
       "27303   STRASBOURG          Bas-Rhin           272100\n",
       "13338  MONTPELLIER           Hérault           253000\n",
       "12678     BORDEAUX           Gironde           235900\n",
       "22744        LILLE              Nord           225800"
      ],
      "text/html": [
       "<div>\n",
       "<style scoped>\n",
       "    .dataframe tbody tr th:only-of-type {\n",
       "        vertical-align: middle;\n",
       "    }\n",
       "\n",
       "    .dataframe tbody tr th {\n",
       "        vertical-align: top;\n",
       "    }\n",
       "\n",
       "    .dataframe thead th {\n",
       "        text-align: right;\n",
       "    }\n",
       "</style>\n",
       "<table border=\"1\" class=\"dataframe\">\n",
       "  <thead>\n",
       "    <tr style=\"text-align: right;\">\n",
       "      <th></th>\n",
       "      <th>name</th>\n",
       "      <th>departement_nom</th>\n",
       "      <th>population_2012</th>\n",
       "    </tr>\n",
       "  </thead>\n",
       "  <tbody>\n",
       "    <tr>\n",
       "      <th>30437</th>\n",
       "      <td>PARIS</td>\n",
       "      <td>Paris</td>\n",
       "      <td>2211000</td>\n",
       "    </tr>\n",
       "    <tr>\n",
       "      <th>4439</th>\n",
       "      <td>MARSEILLE</td>\n",
       "      <td>Bouches-du-Rhône</td>\n",
       "      <td>851400</td>\n",
       "    </tr>\n",
       "    <tr>\n",
       "      <th>28152</th>\n",
       "      <td>LYON</td>\n",
       "      <td>Rhône</td>\n",
       "      <td>474900</td>\n",
       "    </tr>\n",
       "    <tr>\n",
       "      <th>11718</th>\n",
       "      <td>TOULOUSE</td>\n",
       "      <td>Haute-Garonne</td>\n",
       "      <td>439600</td>\n",
       "    </tr>\n",
       "    <tr>\n",
       "      <th>2049</th>\n",
       "      <td>NICE</td>\n",
       "      <td>Alpes-Maritimes</td>\n",
       "      <td>344900</td>\n",
       "    </tr>\n",
       "    <tr>\n",
       "      <th>16755</th>\n",
       "      <td>NANTES</td>\n",
       "      <td>Loire-Atlantique</td>\n",
       "      <td>283300</td>\n",
       "    </tr>\n",
       "    <tr>\n",
       "      <th>27303</th>\n",
       "      <td>STRASBOURG</td>\n",
       "      <td>Bas-Rhin</td>\n",
       "      <td>272100</td>\n",
       "    </tr>\n",
       "    <tr>\n",
       "      <th>13338</th>\n",
       "      <td>MONTPELLIER</td>\n",
       "      <td>Hérault</td>\n",
       "      <td>253000</td>\n",
       "    </tr>\n",
       "    <tr>\n",
       "      <th>12678</th>\n",
       "      <td>BORDEAUX</td>\n",
       "      <td>Gironde</td>\n",
       "      <td>235900</td>\n",
       "    </tr>\n",
       "    <tr>\n",
       "      <th>22744</th>\n",
       "      <td>LILLE</td>\n",
       "      <td>Nord</td>\n",
       "      <td>225800</td>\n",
       "    </tr>\n",
       "  </tbody>\n",
       "</table>\n",
       "</div>"
      ]
     },
     "execution_count": 15,
     "metadata": {},
     "output_type": "execute_result"
    }
   ],
   "execution_count": 15
  },
  {
   "cell_type": "markdown",
   "id": "b347ad42",
   "metadata": {},
   "source": []
  },
  {
   "cell_type": "code",
   "id": "5d50647c",
   "metadata": {
    "ExecuteTime": {
     "end_time": "2025-08-30T16:57:01.767404Z",
     "start_time": "2025-08-30T16:57:01.762694Z"
    }
   },
   "source": [
    "# POLARS: Clean, expressive, SQL-like\n",
    "biggest_polars = (\n",
    "    df_polars\n",
    "    .sort('population_2012', descending=True)\n",
    "    .head(10)\n",
    "    .select(['name', 'departement_nom', 'population_2012'])\n",
    ")\n",
    "print(\"Top 10 cities (Polars):\")\n",
    "biggest_polars"
   ],
   "outputs": [
    {
     "name": "stdout",
     "output_type": "stream",
     "text": [
      "Top 10 cities (Polars):\n"
     ]
    },
    {
     "data": {
      "text/plain": [
       "shape: (10, 3)\n",
       "┌─────────────┬──────────────────┬─────────────────┐\n",
       "│ name        ┆ departement_nom  ┆ population_2012 │\n",
       "│ ---         ┆ ---              ┆ ---             │\n",
       "│ str         ┆ str              ┆ i64             │\n",
       "╞═════════════╪══════════════════╪═════════════════╡\n",
       "│ PARIS       ┆ Paris            ┆ 2211000         │\n",
       "│ MARSEILLE   ┆ Bouches-du-Rhône ┆ 851400          │\n",
       "│ LYON        ┆ Rhône            ┆ 474900          │\n",
       "│ TOULOUSE    ┆ Haute-Garonne    ┆ 439600          │\n",
       "│ NICE        ┆ Alpes-Maritimes  ┆ 344900          │\n",
       "│ NANTES      ┆ Loire-Atlantique ┆ 283300          │\n",
       "│ STRASBOURG  ┆ Bas-Rhin         ┆ 272100          │\n",
       "│ MONTPELLIER ┆ Hérault          ┆ 253000          │\n",
       "│ BORDEAUX    ┆ Gironde          ┆ 235900          │\n",
       "│ LILLE       ┆ Nord             ┆ 225800          │\n",
       "└─────────────┴──────────────────┴─────────────────┘"
      ],
      "text/html": [
       "<div><style>\n",
       ".dataframe > thead > tr,\n",
       ".dataframe > tbody > tr {\n",
       "  text-align: right;\n",
       "  white-space: pre-wrap;\n",
       "}\n",
       "</style>\n",
       "<small>shape: (10, 3)</small><table border=\"1\" class=\"dataframe\"><thead><tr><th>name</th><th>departement_nom</th><th>population_2012</th></tr><tr><td>str</td><td>str</td><td>i64</td></tr></thead><tbody><tr><td>&quot;PARIS&quot;</td><td>&quot;Paris&quot;</td><td>2211000</td></tr><tr><td>&quot;MARSEILLE&quot;</td><td>&quot;Bouches-du-Rhône&quot;</td><td>851400</td></tr><tr><td>&quot;LYON&quot;</td><td>&quot;Rhône&quot;</td><td>474900</td></tr><tr><td>&quot;TOULOUSE&quot;</td><td>&quot;Haute-Garonne&quot;</td><td>439600</td></tr><tr><td>&quot;NICE&quot;</td><td>&quot;Alpes-Maritimes&quot;</td><td>344900</td></tr><tr><td>&quot;NANTES&quot;</td><td>&quot;Loire-Atlantique&quot;</td><td>283300</td></tr><tr><td>&quot;STRASBOURG&quot;</td><td>&quot;Bas-Rhin&quot;</td><td>272100</td></tr><tr><td>&quot;MONTPELLIER&quot;</td><td>&quot;Hérault&quot;</td><td>253000</td></tr><tr><td>&quot;BORDEAUX&quot;</td><td>&quot;Gironde&quot;</td><td>235900</td></tr><tr><td>&quot;LILLE&quot;</td><td>&quot;Nord&quot;</td><td>225800</td></tr></tbody></table></div>"
      ]
     },
     "execution_count": 16,
     "metadata": {},
     "output_type": "execute_result"
    }
   ],
   "execution_count": 16
  },
  {
   "cell_type": "markdown",
   "id": "4ee604bd",
   "metadata": {},
   "source": [
    "---\n",
    "\n",
    "## Round 3: Complex Analytics - Where Polars Shines ✨\n",
    "\n",
    "### Calculate population density and find urban hotspots"
   ]
  },
  {
   "cell_type": "code",
   "id": "538499c5",
   "metadata": {
    "ExecuteTime": {
     "end_time": "2025-08-30T16:57:27.049100Z",
     "start_time": "2025-08-30T16:57:27.041120Z"
    }
   },
   "source": [
    "# PANDAS: Watch the memory and CPU struggle\n",
    "start = time.time()\n",
    "df_pandas['density'] = df_pandas['population_2012'] / df_pandas['surface']\n",
    "df_pandas['is_urban'] = df_pandas['density'] > 1000\n",
    "urban_pandas = df_pandas[df_pandas['is_urban']].copy()\n",
    "urban_by_dept_pandas = (\n",
    "    urban_pandas\n",
    "    .groupby('departement_nom')\n",
    "    .agg({\n",
    "        'name': 'count',\n",
    "        'population_2012': 'sum',\n",
    "        'density': 'mean'\n",
    "    })\n",
    "    .rename(columns={'name': 'urban_cities_count'})\n",
    "    .sort_values('urban_cities_count', ascending=False)\n",
    ")\n",
    "pandas_time = time.time() - start\n",
    "print(f\"🐼 Pandas time: {pandas_time:.3f}s\")\n",
    "print(urban_by_dept_pandas.head(10))"
   ],
   "outputs": [
    {
     "name": "stdout",
     "output_type": "stream",
     "text": [
      "🐼 Pandas time: 0.004s\n",
      "                   urban_cities_count  population_2012       density\n",
      "departement_nom                                                     \n",
      "Nord                               70          1435000   2499.149674\n",
      "Yvelines                           53           992400   2842.373926\n",
      "Essonne                            52           907400   2818.847389\n",
      "Val-d'oise                         47           955500   3570.892782\n",
      "Pas-de-Calais                      44           609200   1837.662018\n",
      "Val-de-Marne                       44          1300600   7185.867394\n",
      "Seine-Saint-Denis                  40          1506600   7401.078031\n",
      "Seine-et-Marne                     40           624400   2060.365972\n",
      "Rhône                              38          1209900   2466.024180\n",
      "Hauts-de-Seine                     35          1547900  10825.816409\n"
     ]
    }
   ],
   "execution_count": 17
  },
  {
   "cell_type": "markdown",
   "id": "8a1ed075",
   "metadata": {},
   "source": []
  },
  {
   "cell_type": "code",
   "id": "9a90424d",
   "metadata": {
    "ExecuteTime": {
     "end_time": "2025-08-30T16:57:31.063102Z",
     "start_time": "2025-08-30T16:57:31.059201Z"
    }
   },
   "source": [
    "# POLARS: Multi-threaded, lazy evaluation magic\n",
    "start = time.time()\n",
    "urban_by_dept_polars = (\n",
    "    df_polars\n",
    "    .with_columns(\n",
    "        (pl.col('population_2012') / pl.col('surface')).alias('density')\n",
    "    )\n",
    "    .filter(pl.col('density') > 1000)\n",
    "    .group_by('departement_nom')\n",
    "    .agg([\n",
    "        pl.len().alias('urban_cities_count'),\n",
    "        pl.col('population_2012').sum().alias('total_urban_pop'),\n",
    "        pl.col('density').mean().alias('avg_density')\n",
    "    ])\n",
    "    .sort('urban_cities_count', descending=True)\n",
    ")\n",
    "polars_time = time.time() - start\n",
    "print(f\"🦀 Polars time: {polars_time:.3f}s\")\n",
    "print(f\"⚡ {pandas_time/polars_time:.1f}x faster!\\n\")\n",
    "print(urban_by_dept_polars.head(10))"
   ],
   "outputs": [
    {
     "name": "stdout",
     "output_type": "stream",
     "text": [
      "🦀 Polars time: 0.001s\n",
      "⚡ 3.1x faster!\n",
      "\n",
      "shape: (10, 4)\n",
      "┌───────────────────┬────────────────────┬─────────────────┬──────────────┐\n",
      "│ departement_nom   ┆ urban_cities_count ┆ total_urban_pop ┆ avg_density  │\n",
      "│ ---               ┆ ---                ┆ ---             ┆ ---          │\n",
      "│ str               ┆ u32                ┆ i64             ┆ f64          │\n",
      "╞═══════════════════╪════════════════════╪═════════════════╪══════════════╡\n",
      "│ Nord              ┆ 70                 ┆ 1435000         ┆ 2499.149674  │\n",
      "│ Yvelines          ┆ 53                 ┆ 992400          ┆ 2842.373926  │\n",
      "│ Essonne           ┆ 52                 ┆ 907400          ┆ 2818.847389  │\n",
      "│ Val-d'oise        ┆ 47                 ┆ 955500          ┆ 3570.892782  │\n",
      "│ Val-de-Marne      ┆ 44                 ┆ 1300600         ┆ 7185.867394  │\n",
      "│ Pas-de-Calais     ┆ 44                 ┆ 609200          ┆ 1837.662018  │\n",
      "│ Seine-et-Marne    ┆ 40                 ┆ 624400          ┆ 2060.365972  │\n",
      "│ Seine-Saint-Denis ┆ 40                 ┆ 1506600         ┆ 7401.078031  │\n",
      "│ Rhône             ┆ 38                 ┆ 1209900         ┆ 2466.02418   │\n",
      "│ Hauts-de-Seine    ┆ 35                 ┆ 1547900         ┆ 10825.816409 │\n",
      "└───────────────────┴────────────────────┴─────────────────┴──────────────┘\n"
     ]
    }
   ],
   "execution_count": 18
  },
  {
   "cell_type": "markdown",
   "id": "6d7f9b56",
   "metadata": {},
   "source": [
    "---\n",
    "\n",
    "## Round 4: Window Functions - SQL Power in Python 💪\n",
    "\n",
    "### Rank cities within each department"
   ]
  },
  {
   "cell_type": "code",
   "id": "981d17d7",
   "metadata": {
    "ExecuteTime": {
     "end_time": "2025-08-30T16:57:41.482581Z",
     "start_time": "2025-08-30T16:57:41.457965Z"
    }
   },
   "source": [
    "# PANDAS: Painful syntax, slow execution\n",
    "start = time.time()\n",
    "df_pandas['rank_in_dept'] = df_pandas.groupby('department')['population_2012'].rank(method='dense', ascending=False)\n",
    "df_pandas['pct_of_dept_pop'] = df_pandas.groupby('department')['population_2012'].transform(lambda x: x / x.sum() * 100)\n",
    "top_cities_pandas = df_pandas[df_pandas['rank_in_dept'] <= 3].sort_values(['department', 'rank_in_dept'])\n",
    "pandas_window_time = time.time() - start\n",
    "print(f\"🐼 Pandas window operations: {pandas_window_time:.3f}s\")"
   ],
   "outputs": [
    {
     "name": "stdout",
     "output_type": "stream",
     "text": [
      "🐼 Pandas window operations: 0.022s\n"
     ]
    }
   ],
   "execution_count": 19
  },
  {
   "cell_type": "markdown",
   "id": "456999e8",
   "metadata": {},
   "source": []
  },
  {
   "cell_type": "code",
   "id": "ed840007",
   "metadata": {
    "ExecuteTime": {
     "end_time": "2025-08-30T16:57:46.167467Z",
     "start_time": "2025-08-30T16:57:46.162112Z"
    }
   },
   "source": [
    "# POLARS: SQL-like window functions, blazing fast\n",
    "start = time.time()\n",
    "top_cities_polars = (\n",
    "    df_polars\n",
    "    .with_columns([\n",
    "        pl.col('population_2012')\n",
    "            .rank(method='dense', descending=True)\n",
    "            .over('department')\n",
    "            .alias('rank_in_dept'),\n",
    "        (pl.col('population_2012') / pl.col('population_2012').sum().over('department') * 100)\n",
    "            .alias('pct_of_dept_pop')\n",
    "    ])\n",
    "    .filter(pl.col('rank_in_dept') <= 3)\n",
    "    .sort(['department', 'rank_in_dept'])\n",
    "    .select(['department', 'departement_nom', 'name', 'population_2012', 'rank_in_dept', 'pct_of_dept_pop'])\n",
    ")\n",
    "polars_window_time = time.time() - start\n",
    "print(f\"🦀 Polars window operations: {polars_window_time:.3f}s\")\n",
    "print(f\"⚡ {pandas_window_time/polars_window_time:.1f}x faster!\\n\")\n",
    "print(top_cities_polars.head(15))"
   ],
   "outputs": [
    {
     "name": "stdout",
     "output_type": "stream",
     "text": [
      "🦀 Polars window operations: 0.002s\n",
      "⚡ 8.9x faster!\n",
      "\n",
      "shape: (15, 6)\n",
      "┌────────────┬─────────────────┬─────────────────┬─────────────────┬──────────────┬────────────────┐\n",
      "│ department ┆ departement_nom ┆ name            ┆ population_2012 ┆ rank_in_dept ┆ pct_of_dept_po │\n",
      "│ ---        ┆ ---             ┆ ---             ┆ ---             ┆ ---          ┆ p              │\n",
      "│ str        ┆ str             ┆ str             ┆ i64             ┆ u32          ┆ ---            │\n",
      "│            ┆                 ┆                 ┆                 ┆              ┆ f64            │\n",
      "╞════════════╪═════════════════╪═════════════════╪═════════════════╪══════════════╪════════════════╡\n",
      "│ 01         ┆ Ain             ┆ BOURG-EN-BRESSE ┆ 40200           ┆ 1            ┆ 6.910779       │\n",
      "│ 01         ┆ Ain             ┆ OYONNAX         ┆ 23100           ┆ 2            ┆ 3.971119       │\n",
      "│ 01         ┆ Ain             ┆ AMBERIEU-EN-BUG ┆ 12800           ┆ 3            ┆ 2.200447       │\n",
      "│            ┆                 ┆ EY              ┆                 ┆              ┆                │\n",
      "│ 02         ┆ Aisne           ┆ SAINT-QUENTIN   ┆ 56800           ┆ 1            ┆ 10.514624      │\n",
      "│ 02         ┆ Aisne           ┆ SOISSONS        ┆ 28500           ┆ 2            ┆ 5.275824       │\n",
      "│ …          ┆ …               ┆ …               ┆ …               ┆ …            ┆ …              │\n",
      "│ 04         ┆ Alpes-de-Haute- ┆ DIGNE-LES-BAINS ┆ 17300           ┆ 2            ┆ 10.949367      │\n",
      "│            ┆ Provence        ┆                 ┆                 ┆              ┆                │\n",
      "│ 04         ┆ Alpes-de-Haute- ┆ SISTERON        ┆ 7300            ┆ 3            ┆ 4.620253       │\n",
      "│            ┆ Provence        ┆                 ┆                 ┆              ┆                │\n",
      "│ 05         ┆ Hautes-Alpes    ┆ GAP             ┆ 38600           ┆ 1            ┆ 28.827483      │\n",
      "│ 05         ┆ Hautes-Alpes    ┆ BRIANCON        ┆ 11600           ┆ 2            ┆ 8.663181       │\n",
      "│ 05         ┆ Hautes-Alpes    ┆ EMBRUN          ┆ 6300            ┆ 3            ┆ 4.705004       │\n",
      "└────────────┴─────────────────┴─────────────────┴─────────────────┴──────────────┴────────────────┘\n"
     ]
    }
   ],
   "execution_count": 20
  },
  {
   "cell_type": "markdown",
   "id": "0e1eaf01",
   "metadata": {},
   "source": [
    "---\n",
    "\n",
    "## Round 5: Advanced Aggregations - Multiple Stats at Once 📊\n",
    "\n",
    "### Department statistics: the full picture"
   ]
  },
  {
   "cell_type": "code",
   "id": "f462e743",
   "metadata": {
    "ExecuteTime": {
     "end_time": "2025-08-30T16:57:57.103700Z",
     "start_time": "2025-08-30T16:57:57.090942Z"
    }
   },
   "source": [
    "# PANDAS: Multiple aggregations, messy syntax\n",
    "start = time.time()\n",
    "dept_stats_pandas = df_pandas.groupby('departement_nom').agg({\n",
    "    'population_2012': ['sum', 'mean', 'std', 'median'],\n",
    "    'surface': ['sum', 'mean'],\n",
    "    'name': 'count'\n",
    "}).round(2)\n",
    "dept_stats_pandas.columns = ['_'.join(col).strip() for col in dept_stats_pandas.columns.values]\n",
    "dept_stats_pandas = dept_stats_pandas.rename(columns={'name_count': 'city_count'})\n",
    "pandas_agg_time = time.time() - start\n",
    "print(f\"🐼 Pandas aggregation time: {pandas_agg_time:.3f}s\")\n",
    "print(dept_stats_pandas.head())"
   ],
   "outputs": [
    {
     "name": "stdout",
     "output_type": "stream",
     "text": [
      "🐼 Pandas aggregation time: 0.009s\n",
      "                         population_2012_sum  population_2012_mean  \\\n",
      "departement_nom                                                      \n",
      "Ain                                   581700               1388.31   \n",
      "Aisne                                 540200                662.01   \n",
      "Allier                                343100               1072.19   \n",
      "Alpes-Maritimes                      1083900               6649.69   \n",
      "Alpes-de-Haute-Provence               158000                790.00   \n",
      "\n",
      "                         population_2012_std  population_2012_median  \\\n",
      "departement_nom                                                        \n",
      "Ain                                  2738.89                   700.0   \n",
      "Aisne                                2622.47                   300.0   \n",
      "Allier                               3108.20                   400.0   \n",
      "Alpes-Maritimes                     28915.29                   800.0   \n",
      "Alpes-de-Haute-Provence              2172.95                   200.0   \n",
      "\n",
      "                         surface_sum  surface_mean  city_count  \n",
      "departement_nom                                                 \n",
      "Ain                          5762.39         13.75         419  \n",
      "Aisne                        7369.12          9.03         816  \n",
      "Allier                       7340.11         22.94         320  \n",
      "Alpes-Maritimes              4298.58         26.37         163  \n",
      "Alpes-de-Haute-Provence      6925.22         34.63         200  \n"
     ]
    }
   ],
   "execution_count": 21
  },
  {
   "cell_type": "markdown",
   "id": "cee13ae2",
   "metadata": {},
   "source": []
  },
  {
   "cell_type": "code",
   "id": "f79234b3",
   "metadata": {
    "ExecuteTime": {
     "end_time": "2025-08-30T16:58:01.720088Z",
     "start_time": "2025-08-30T16:58:01.714375Z"
    }
   },
   "source": [
    "# POLARS: Clean, expressive, parallel execution\n",
    "start = time.time()\n",
    "dept_stats_polars = (\n",
    "    df_polars\n",
    "    .group_by('departement_nom')\n",
    "    .agg([\n",
    "        pl.len().alias('city_count'),\n",
    "        pl.col('population_2012').sum().alias('total_population'),\n",
    "        pl.col('population_2012').mean().alias('avg_population'),\n",
    "        pl.col('population_2012').std().alias('std_population'),\n",
    "        pl.col('population_2012').median().alias('median_population'),\n",
    "        pl.col('surface').sum().alias('total_surface'),\n",
    "        pl.col('surface').mean().alias('avg_surface'),\n",
    "        # Bonus: custom expressions!\n",
    "        (pl.col('population_2012').max() - pl.col('population_2012').min()).alias('pop_range'),\n",
    "        pl.col('population_2012').quantile(0.9).alias('p90_population')\n",
    "    ])\n",
    "    .sort('total_population', descending=True)\n",
    ")\n",
    "polars_agg_time = time.time() - start\n",
    "print(f\"🦀 Polars aggregation time: {polars_agg_time:.3f}s\")\n",
    "print(f\"⚡ {pandas_agg_time/polars_agg_time:.1f}x faster!\\n\")\n",
    "print(dept_stats_polars.head())"
   ],
   "outputs": [
    {
     "name": "stdout",
     "output_type": "stream",
     "text": [
      "🦀 Polars aggregation time: 0.001s\n",
      "⚡ 6.4x faster!\n",
      "\n",
      "shape: (5, 10)\n",
      "┌───────────┬───────────┬───────────┬───────────┬───┬───────────┬───────────┬───────────┬──────────┐\n",
      "│ departeme ┆ city_coun ┆ total_pop ┆ avg_popul ┆ … ┆ total_sur ┆ avg_surfa ┆ pop_range ┆ p90_popu │\n",
      "│ nt_nom    ┆ t         ┆ ulation   ┆ ation     ┆   ┆ face      ┆ ce        ┆ ---       ┆ lation   │\n",
      "│ ---       ┆ ---       ┆ ---       ┆ ---       ┆   ┆ ---       ┆ ---       ┆ i64       ┆ ---      │\n",
      "│ str       ┆ u32       ┆ i64       ┆ f64       ┆   ┆ f64       ┆ f64       ┆           ┆ f64      │\n",
      "╞═══════════╪═══════════╪═══════════╪═══════════╪═══╪═══════════╪═══════════╪═══════════╪══════════╡\n",
      "│ Nord      ┆ 650       ┆ 2565600   ┆ 3947.0769 ┆ … ┆ 5742.75   ┆ 8.835     ┆ 225800    ┆ 7900.0   │\n",
      "│           ┆           ┆           ┆ 23        ┆   ┆           ┆           ┆           ┆          │\n",
      "│ Paris     ┆ 1         ┆ 2211000   ┆ 2.211e6   ┆ … ┆ 105.4     ┆ 105.4     ┆ 0         ┆ 2.211e6  │\n",
      "│ Bouches-d ┆ 119       ┆ 1965400   ┆ 16515.966 ┆ … ┆ 5087.49   ┆ 42.752017 ┆ 851300    ┆ 20200.0  │\n",
      "│ u-Rhône   ┆           ┆           ┆ 387       ┆   ┆           ┆           ┆           ┆          │\n",
      "│ Rhône     ┆ 293       ┆ 1690700   ┆ 5770.3071 ┆ … ┆ 3249.12   ┆ 11.089147 ┆ 474800    ┆ 8300.0   │\n",
      "│           ┆           ┆           ┆ 67        ┆   ┆           ┆           ┆           ┆          │\n",
      "│ Hauts-de- ┆ 36        ┆ 1549600   ┆ 43044.444 ┆ … ┆ 175.61    ┆ 4.878056  ┆ 110500    ┆ 83700.0  │\n",
      "│ Seine     ┆           ┆           ┆ 444       ┆   ┆           ┆           ┆           ┆          │\n",
      "└───────────┴───────────┴───────────┴───────────┴───┴───────────┴───────────┴───────────┴──────────┘\n"
     ]
    }
   ],
   "execution_count": 22
  },
  {
   "cell_type": "markdown",
   "id": "c06baef1",
   "metadata": {},
   "source": [
    "---\n",
    "\n",
    "## Round 6: Lazy Evaluation - The Game Changer 🎮\n",
    "\n",
    "### Building a complex query without executing"
   ]
  },
  {
   "cell_type": "code",
   "id": "c75e8c01",
   "metadata": {
    "ExecuteTime": {
     "end_time": "2025-08-30T16:58:06.539039Z",
     "start_time": "2025-08-30T16:58:06.533364Z"
    }
   },
   "source": [
    "# This is where Polars truly shines - build your entire pipeline first!\n",
    "\n",
    "# Create a lazy frame from our data\n",
    "lazy_df = df_polars.lazy()\n",
    "\n",
    "# Build a complex analytical pipeline\n",
    "analysis = (\n",
    "    lazy_df\n",
    "    # Add computed columns\n",
    "    .with_columns([\n",
    "        (pl.col('population_2012') / pl.col('surface')).alias('density'),\n",
    "        pl.col('department').str.starts_with('97').alias('is_overseas'),\n",
    "        pl.col('population_2012').log10().alias('log_population')\n",
    "    ])\n",
    "    # Filter for interesting cities\n",
    "    .filter(\n",
    "        (pl.col('population_2012') > 5000) & \n",
    "        (pl.col('density') > 100)\n",
    "    )\n",
    "    # Add rankings\n",
    "    .with_columns([\n",
    "        pl.col('population_2012').rank(descending=True).alias('national_rank'),\n",
    "        pl.col('density').rank(descending=True).over('department').alias('dept_density_rank')\n",
    "    ])\n",
    "    # Select and reorder\n",
    "    .select([\n",
    "        'department',\n",
    "        'departement_nom', \n",
    "        'name',\n",
    "        'population_2012',\n",
    "        'density',\n",
    "        'national_rank',\n",
    "        'dept_density_rank',\n",
    "        'is_overseas'\n",
    "    ])\n",
    "    .sort('national_rank')\n",
    ")\n",
    "\n",
    "# Nothing has been computed yet! Let's see the optimized plan:\n",
    "print(\"QUERY PLAN (what Polars will actually execute):\")\n",
    "print(analysis.explain())"
   ],
   "outputs": [
    {
     "name": "stdout",
     "output_type": "stream",
     "text": [
      "QUERY PLAN (what Polars will actually execute):\n",
      "SORT BY [col(\"national_rank\")]\n",
      "  simple π 8/8 [\"department\", ... 7 other columns]\n",
      "     WITH_COLUMNS:\n",
      "     [col(\"population_2012\").rank().alias(\"national_rank\"), col(\"density\").rank().over([col(\"department\")]).alias(\"dept_density_rank\")] \n",
      "      FILTER [(col(\"density\")) > (100.0)]\n",
      "      FROM\n",
      "         WITH_COLUMNS:\n",
      "         [[(col(\"population_2012\").cast(Float64)) / (col(\"surface\"))].alias(\"density\"), col(\"department\").str.starts_with([\"97\"]).alias(\"is_overseas\")] \n",
      "          FILTER [(col(\"population_2012\")) > (5000)]\n",
      "          FROM\n",
      "            DF [\"id\", \"department\", \"name\", \"simple_name\", ...]; PROJECT[\"department\", \"departement_nom\", \"name\", \"population_2012\", ...] 5/8 COLUMNS\n"
     ]
    }
   ],
   "execution_count": 23
  },
  {
   "cell_type": "markdown",
   "id": "2a6501b8",
   "metadata": {},
   "source": []
  },
  {
   "cell_type": "code",
   "id": "e804ae4a",
   "metadata": {
    "ExecuteTime": {
     "end_time": "2025-08-30T16:58:15.668192Z",
     "start_time": "2025-08-30T16:58:15.664346Z"
    }
   },
   "source": [
    "# Now execute the optimized query\n",
    "start = time.time()\n",
    "result = analysis.collect()\n",
    "execution_time = time.time() - start\n",
    "print(f\"\\n⚡ Executed entire pipeline in {execution_time:.3f}s\")\n",
    "print(f\"Result shape: {result.shape}\")\n",
    "print(result.head(20))"
   ],
   "outputs": [
    {
     "name": "stdout",
     "output_type": "stream",
     "text": [
      "\n",
      "⚡ Executed entire pipeline in 0.001s\n",
      "Result shape: (1935, 8)\n",
      "shape: (20, 8)\n",
      "┌────────────┬────────────┬────────────┬───────────┬───────────┬───────────┬───────────┬───────────┐\n",
      "│ department ┆ departemen ┆ name       ┆ populatio ┆ density   ┆ national_ ┆ dept_dens ┆ is_overse │\n",
      "│ ---        ┆ t_nom      ┆ ---        ┆ n_2012    ┆ ---       ┆ rank      ┆ ity_rank  ┆ as        │\n",
      "│ str        ┆ ---        ┆ str        ┆ ---       ┆ f64       ┆ ---       ┆ ---       ┆ ---       │\n",
      "│            ┆ str        ┆            ┆ i64       ┆           ┆ f64       ┆ f64       ┆ bool      │\n",
      "╞════════════╪════════════╪════════════╪═══════════╪═══════════╪═══════════╪═══════════╪═══════════╡\n",
      "│ 75         ┆ Paris      ┆ PARIS      ┆ 2211000   ┆ 20977.229 ┆ 1.0       ┆ 1.0       ┆ false     │\n",
      "│            ┆            ┆            ┆           ┆ 602       ┆           ┆           ┆           │\n",
      "│ 13         ┆ Bouches-du ┆ MARSEILLE  ┆ 851400    ┆ 3538.3592 ┆ 2.0       ┆ 1.0       ┆ false     │\n",
      "│            ┆ -Rhône     ┆            ┆           ┆ 39        ┆           ┆           ┆           │\n",
      "│ 69         ┆ Rhône      ┆ LYON       ┆ 474900    ┆ 9920.6183 ┆ 3.0       ┆ 1.0       ┆ false     │\n",
      "│            ┆            ┆            ┆           ┆ 41        ┆           ┆           ┆           │\n",
      "│ 31         ┆ Haute-Garo ┆ TOULOUSE   ┆ 439600    ┆ 3715.9763 ┆ 4.0       ┆ 1.0       ┆ false     │\n",
      "│            ┆ nne        ┆            ┆           ┆ 31        ┆           ┆           ┆           │\n",
      "│ 06         ┆ Alpes-Mari ┆ NICE       ┆ 344900    ┆ 4795.6062 ┆ 5.0       ┆ 3.0       ┆ false     │\n",
      "│            ┆ times      ┆            ┆           ┆ 29        ┆           ┆           ┆           │\n",
      "│ …          ┆ …          ┆ …          ┆ …         ┆ …         ┆ …         ┆ …         ┆ …         │\n",
      "│ 38         ┆ Isère      ┆ GRENOBLE   ┆ 156700    ┆ 8643.1329 ┆ 16.0      ┆ 1.0       ┆ false     │\n",
      "│            ┆            ┆            ┆           ┆ 29        ┆           ┆           ┆           │\n",
      "│ 21         ┆ Côte-d'or  ┆ DIJON      ┆ 151600    ┆ 3751.5466 ┆ 17.0      ┆ 1.0       ┆ false     │\n",
      "│            ┆            ┆            ┆           ┆ 47        ┆           ┆           ┆           │\n",
      "│ 49         ┆ Maine-et-L ┆ ANGERS     ┆ 148400    ┆ 3475.4098 ┆ 18.0      ┆ 1.0       ┆ false     │\n",
      "│            ┆ oire       ┆            ┆           ┆ 36        ┆           ┆           ┆           │\n",
      "│ 974        ┆ Réunion    ┆ SAINT-DENI ┆ 145022    ┆ 1021.2816 ┆ 19.0      ┆ 2.0       ┆ true      │\n",
      "│            ┆            ┆ S          ┆           ┆ 9         ┆           ┆           ┆           │\n",
      "│ 72         ┆ Sarthe     ┆ LE MANS    ┆ 143500    ┆ 2717.2883 ┆ 20.0      ┆ 1.0       ┆ false     │\n",
      "│            ┆            ┆            ┆           ┆ 92        ┆           ┆           ┆           │\n",
      "└────────────┴────────────┴────────────┴───────────┴───────────┴───────────┴───────────┴───────────┘\n"
     ]
    }
   ],
   "execution_count": 24
  },
  {
   "cell_type": "markdown",
   "id": "9357907f",
   "metadata": {},
   "source": [
    "---\n",
    "\n",
    "## Round 7: The \"Impossible with Pandas\" - Streaming Large Data 🌊\n",
    "\n",
    "### Simulate processing a massive dataset"
   ]
  },
  {
   "cell_type": "code",
   "id": "42c62f2e",
   "metadata": {
    "ExecuteTime": {
     "end_time": "2025-08-30T16:58:29.314359Z",
     "start_time": "2025-08-30T16:58:29.283563Z"
    }
   },
   "source": [
    "# Let's pretend we have yearly data files we need to process\n",
    "# This would crash pandas on large files!\n",
    "\n",
    "def process_year_data(year: int):\n",
    "    \"\"\"Simulate processing a year's worth of city data\"\"\"\n",
    "    return (\n",
    "        df_polars.lazy()\n",
    "        .with_columns(pl.lit(year).alias('year'))\n",
    "        .with_columns(\n",
    "            # Simulate population growth\n",
    "            (pl.col('population_2012') * (1 + (year - 2012) * 0.01)).cast(pl.Int32).alias('estimated_pop')\n",
    "        )\n",
    "        .group_by(['department', 'year'])\n",
    "        .agg([\n",
    "            pl.col('estimated_pop').sum().alias('dept_total'),\n",
    "            pl.col('estimated_pop').mean().alias('dept_avg'),\n",
    "            pl.len().alias('city_count')\n",
    "        ])\n",
    "    )\n",
    "\n",
    "# Process multiple years and combine\n",
    "all_years = pl.concat([\n",
    "    process_year_data(year).collect() \n",
    "    for year in range(2012, 2025)\n",
    "])\n",
    "\n",
    "print(\"Multi-year department evolution:\")\n",
    "print(all_years.filter(pl.col('department').is_in(['75', '13', '69'])))  # Paris, Marseille, Lyon"
   ],
   "outputs": [
    {
     "name": "stdout",
     "output_type": "stream",
     "text": [
      "Multi-year department evolution:\n",
      "shape: (39, 5)\n",
      "┌────────────┬──────┬────────────┬──────────────┬────────────┐\n",
      "│ department ┆ year ┆ dept_total ┆ dept_avg     ┆ city_count │\n",
      "│ ---        ┆ ---  ┆ ---        ┆ ---          ┆ ---        │\n",
      "│ str        ┆ i32  ┆ i32        ┆ f64          ┆ u32        │\n",
      "╞════════════╪══════╪════════════╪══════════════╪════════════╡\n",
      "│ 75         ┆ 2012 ┆ 2211000    ┆ 2.211e6      ┆ 1          │\n",
      "│ 69         ┆ 2012 ┆ 1690700    ┆ 5770.307167  ┆ 293        │\n",
      "│ 13         ┆ 2012 ┆ 1965400    ┆ 16515.966387 ┆ 119        │\n",
      "│ 13         ┆ 2013 ┆ 1985054    ┆ 16681.12605  ┆ 119        │\n",
      "│ 69         ┆ 2013 ┆ 1707607    ┆ 5828.010239  ┆ 293        │\n",
      "│ …          ┆ …    ┆ …          ┆ …            ┆ …          │\n",
      "│ 13         ┆ 2023 ┆ 2181594    ┆ 18332.722689 ┆ 119        │\n",
      "│ 69         ┆ 2023 ┆ 1876677    ┆ 6405.040956  ┆ 293        │\n",
      "│ 13         ┆ 2024 ┆ 2201248    ┆ 18497.882353 ┆ 119        │\n",
      "│ 69         ┆ 2024 ┆ 1893584    ┆ 6462.744027  ┆ 293        │\n",
      "│ 75         ┆ 2024 ┆ 2476320    ┆ 2.47632e6    ┆ 1          │\n",
      "└────────────┴──────┴────────────┴──────────────┴────────────┘\n"
     ]
    }
   ],
   "execution_count": 25
  },
  {
   "cell_type": "markdown",
   "id": "f2fb81b6",
   "metadata": {},
   "source": [
    "---\n",
    "\n",
    "## Final Score: Performance Summary 🏆"
   ]
  },
  {
   "cell_type": "code",
   "id": "e53eb526",
   "metadata": {
    "ExecuteTime": {
     "end_time": "2025-08-30T16:58:36.931459Z",
     "start_time": "2025-08-30T16:58:36.928548Z"
    }
   },
   "source": [
    "print(\"=\" * 50)\n",
    "print(\"🏁 PERFORMANCE COMPARISON SUMMARY 🏁\")\n",
    "print(\"=\" * 50)\n",
    "\n",
    "comparisons = {\n",
    "    'Data Loading': (pandas_load_time, polars_load_time),\n",
    "    'Complex Analytics': (pandas_time, polars_time),\n",
    "    'Window Functions': (pandas_window_time, polars_window_time),\n",
    "    'Aggregations': (pandas_agg_time, polars_agg_time)\n",
    "}\n",
    "\n",
    "total_pandas = 0\n",
    "total_polars = 0\n",
    "\n",
    "for operation, (p_time, pl_time) in comparisons.items():\n",
    "    speedup = p_time / pl_time\n",
    "    total_pandas += p_time\n",
    "    total_polars += pl_time\n",
    "    print(f\"{operation:20} | Pandas: {p_time:.3f}s | Polars: {pl_time:.3f}s | ⚡ {speedup:.1f}x faster\")\n",
    "\n",
    "print(\"-\" * 50)\n",
    "total_speedup = total_pandas / total_polars\n",
    "print(f\"{'TOTAL':20} | Pandas: {total_pandas:.3f}s | Polars: {total_polars:.3f}s | ⚡ {total_speedup:.1f}x faster\")\n",
    "print(\"=\" * 50)"
   ],
   "outputs": [
    {
     "name": "stdout",
     "output_type": "stream",
     "text": [
      "==================================================\n",
      "🏁 PERFORMANCE COMPARISON SUMMARY 🏁\n",
      "==================================================\n",
      "Data Loading         | Pandas: 0.119s | Polars: 0.066s | ⚡ 1.8x faster\n",
      "Complex Analytics    | Pandas: 0.004s | Polars: 0.001s | ⚡ 3.1x faster\n",
      "Window Functions     | Pandas: 0.022s | Polars: 0.002s | ⚡ 8.9x faster\n",
      "Aggregations         | Pandas: 0.009s | Polars: 0.001s | ⚡ 6.4x faster\n",
      "--------------------------------------------------\n",
      "TOTAL                | Pandas: 0.154s | Polars: 0.071s | ⚡ 2.2x faster\n",
      "==================================================\n"
     ]
    }
   ],
   "execution_count": 26
  },
  {
   "cell_type": "markdown",
   "id": "fcd5882e",
   "metadata": {},
   "source": [
    "---\n",
    "## Bonus: Quick Migration Cheatsheet 📝"
   ]
  },
  {
   "cell_type": "code",
   "execution_count": null,
   "id": "412d927a",
   "metadata": {},
   "outputs": [],
   "source": [
    "# Common patterns to remember:\n",
    "\n",
    "# SELECTING\n",
    "# Pandas: df[['col1', 'col2']]\n",
    "# Polars: df.select(['col1', 'col2'])\n",
    "\n",
    "# FILTERING\n",
    "# Pandas: df[df['col'] > 5]\n",
    "# Polars: df.filter(pl.col('col') > 5)\n",
    "\n",
    "# ADDING COLUMNS\n",
    "# Pandas: df['new'] = df['old'] * 2\n",
    "# Polars: df.with_columns((pl.col('old') * 2).alias('new'))\n",
    "\n",
    "# GROUPING\n",
    "# Pandas: df.groupby('x').agg({'y': 'sum'})\n",
    "# Polars: df.group_by('x').agg(pl.col('y').sum())\n",
    "\n",
    "# JOINING\n",
    "# Pandas: pd.merge(df1, df2, on='key')\n",
    "# Polars: df1.join(df2, on='key')"
   ]
  }
 ],
 "metadata": {
  "language": "python"
 },
 "nbformat": 4,
 "nbformat_minor": 5
}
