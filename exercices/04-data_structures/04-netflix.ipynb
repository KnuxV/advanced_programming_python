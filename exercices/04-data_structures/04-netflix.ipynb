{
 "cells": [
  {
   "metadata": {},
   "cell_type": "markdown",
   "source": "## Python Data Structures Challenge: Netflix Content Analysis",
   "id": "82343227aaee0bc4"
  },
  {
   "metadata": {},
   "cell_type": "markdown",
   "source": "### The Dataset: Netflix Shows & Movies",
   "id": "57eded9a41b6a21e"
  },
  {
   "metadata": {
    "ExecuteTime": {
     "end_time": "2025-09-17T16:45:33.986328Z",
     "start_time": "2025-09-17T16:45:33.981891Z"
    }
   },
   "cell_type": "code",
   "source": [
    "import pandas as pd\n",
    "\n",
    "netflix_data = [\n",
    "    (\"Stranger Things\", \"TV Show\", \"United States\", \"2016\", \"TV-14\", \"81 min\", [\"Drama\", \"Fantasy\", \"Horror\"], 8.7, \"Four friends uncover supernatural mysteries\"),\n",
    "    (\"The Crown\", \"TV Show\", \"United Kingdom\", \"2016\", \"TV-MA\", \"58 min\", [\"Biography\", \"Drama\", \"History\"], 8.6, \"British royal family drama\"),\n",
    "    (\"Money Heist\", \"TV Show\", \"Spain\", \"2017\", \"TV-MA\", \"70 min\", [\"Action\", \"Crime\", \"Mystery\"], 8.3, \"Bank heist with a master plan\"),\n",
    "    (\"Bird Box\", \"Movie\", \"United States\", \"2018\", \"R\", \"124 min\", [\"Drama\", \"Horror\", \"Sci-Fi\"], 6.6, \"Survive with your eyes closed\"),\n",
    "    (\"Roma\", \"Movie\", \"Mexico\", \"2018\", \"R\", \"135 min\", [\"Drama\"], 7.7, \"1970s Mexico City family story\"),\n",
    "    (\"The Irishman\", \"Movie\", \"United States\", \"2019\", \"R\", \"209 min\", [\"Biography\", \"Crime\", \"Drama\"], 7.8, \"Mafia hitman's life story\"),\n",
    "    (\"Squid Game\", \"TV Show\", \"South Korea\", \"2021\", \"TV-MA\", \"60 min\", [\"Action\", \"Drama\", \"Mystery\"], 8.0, \"Deadly childhood games\"),\n",
    "    (\"Don't Look Up\", \"Movie\", \"United States\", \"2021\", \"R\", \"138 min\", [\"Comedy\", \"Drama\", \"Sci-Fi\"], 7.2, \"Comet threatens Earth\"),\n",
    "    (\"Bridgerton\", \"TV Show\", \"United States\", \"2020\", \"TV-MA\", \"60 min\", [\"Drama\", \"Romance\"], 7.3, \"Regency era romance\"),\n",
    "    (\"Tiger King\", \"TV Show\", \"United States\", \"2020\", \"TV-MA\", \"47 min\", [\"Biography\", \"Crime\", \"Documentary\"], 7.6, \"Exotic animal park owner\"),\n",
    "    (\"Extraction\", \"Movie\", \"Australia\", \"2020\", \"R\", \"116 min\", [\"Action\", \"Thriller\"], 6.7, \"Rescue mission in Bangladesh\"),\n",
    "    (\"The Queen's Gambit\", \"TV Show\", \"United States\", \"2020\", \"TV-MA\", \"60 min\", [\"Drama\"], 8.5, \"Chess prodigy's rise to fame\"),\n",
    "    (\"Ozark\", \"TV Show\", \"United States\", \"2017\", \"TV-MA\", \"60 min\", [\"Crime\", \"Drama\", \"Thriller\"], 8.4, \"Money laundering for cartel\"),\n",
    "    (\"Dark\", \"TV Show\", \"Germany\", \"2017\", \"TV-MA\", \"60 min\", [\"Crime\", \"Drama\", \"Mystery\", \"Sci-Fi\"], 8.8, \"Time travel mystery\"),\n",
    "    (\"The Witcher\", \"TV Show\", \"United States\", \"2019\", \"TV-MA\", \"60 min\", [\"Action\", \"Adventure\", \"Drama\", \"Fantasy\"], 8.2, \"Monster hunter's destiny\"),\n",
    "    (\"Mindhunter\", \"TV Show\", \"United States\", \"2017\", \"TV-MA\", \"60 min\", [\"Crime\", \"Drama\", \"Thriller\"], 8.6, \"FBI behavioral analysis unit\"),\n",
    "    (\"Klaus\", \"Movie\", \"Spain\", \"2019\", \"PG\", \"96 min\", [\"Adventure\", \"Animation\", \"Comedy\", \"Family\"], 8.2, \"Postal worker meets Santa\"),\n",
    "    (\"I Am Mother\", \"Movie\", \"Australia\", \"2019\", \"TV-MA\", \"113 min\", [\"Drama\", \"Mystery\", \"Sci-Fi\", \"Thriller\"], 6.7, \"AI raises human daughter\"),\n",
    "    (\"The Platform\", \"Movie\", \"Spain\", \"2019\", \"TV-MA\", \"94 min\", [\"Horror\", \"Sci-Fi\", \"Thriller\"], 7.0, \"Vertical prison social experiment\"),\n",
    "    (\"Enola Holmes\", \"Movie\", \"United States\", \"2020\", \"PG-13\", \"123 min\", [\"Adventure\", \"Crime\", \"Drama\", \"Mystery\"], 6.6, \"Sherlock's sister solves mysteries\")\n",
    "]"
   ],
   "id": "8f8e17cc7451060a",
   "outputs": [],
   "execution_count": 2
  },
  {
   "metadata": {
    "ExecuteTime": {
     "end_time": "2025-09-17T16:59:33.795337Z",
     "start_time": "2025-09-17T16:59:33.793462Z"
    }
   },
   "cell_type": "code",
   "source": "columns = [\"title\", \"type\", \"country\", \"year\", \"rating\", \"duration\", \"genres_list\", \"imdb_score\", \"description\"]",
   "id": "ac6591bd0735ec47",
   "outputs": [],
   "execution_count": 13
  },
  {
   "metadata": {},
   "cell_type": "markdown",
   "source": [
    "Questions:\n",
    "\n",
    "- Q1: What's the average IMDb rating for US content vs international content?\n",
    "- Q2: Which country produces the highest-rated content on average?\n",
    "- Q3: What are the top 3 most popular genres, and what's their average rating?\n",
    "- Q4: Are TV shows rated higher than movies?"
   ],
   "id": "bd3e477266796c5d"
  },
  {
   "metadata": {},
   "cell_type": "markdown",
   "source": "### Just Loops and lists",
   "id": "618f6261bc90c75f"
  },
  {
   "metadata": {
    "ExecuteTime": {
     "end_time": "2025-09-17T16:48:21.628787Z",
     "start_time": "2025-09-17T16:48:21.626165Z"
    }
   },
   "cell_type": "code",
   "source": [
    "# Q1 What's the average IMDb rating for US content vs international content?\n",
    "\n",
    "\n",
    "us_ratings = []\n",
    "international_ratings = []\n",
    "\n",
    "for title, type_, country, year, rating, duration, genres, imdb, desc in netflix_data:\n",
    "    if country == \"United States\":\n",
    "        us_ratings.append(imdb)\n",
    "    else:\n",
    "        international_ratings.append(imdb)\n"
   ],
   "id": "623c8b4df3008124",
   "outputs": [],
   "execution_count": 4
  },
  {
   "metadata": {
    "ExecuteTime": {
     "end_time": "2025-09-17T16:51:06.556225Z",
     "start_time": "2025-09-17T16:51:06.554377Z"
    }
   },
   "cell_type": "code",
   "source": "# Q2 Which country produces the highest-rated content on average?",
   "id": "178e23b29fe9f597",
   "outputs": [],
   "execution_count": 5
  },
  {
   "metadata": {
    "ExecuteTime": {
     "end_time": "2025-09-17T16:51:29.937247Z",
     "start_time": "2025-09-17T16:51:29.935254Z"
    }
   },
   "cell_type": "code",
   "source": "# Q3 What are the top 3 most popular genres, and what's their average rating?",
   "id": "194cd11d70ab95f4",
   "outputs": [],
   "execution_count": 6
  },
  {
   "metadata": {
    "ExecuteTime": {
     "end_time": "2025-09-17T16:51:39.040401Z",
     "start_time": "2025-09-17T16:51:39.037985Z"
    }
   },
   "cell_type": "code",
   "source": "# Q4: Are TV shows generally rated higher than movies?",
   "id": "2fad848b825851ef",
   "outputs": [],
   "execution_count": 7
  },
  {
   "metadata": {},
   "cell_type": "markdown",
   "source": "### Strategy 2: Object-Oriented with dataclasses",
   "id": "50bc3ad0f9110c70"
  },
  {
   "metadata": {
    "ExecuteTime": {
     "end_time": "2025-09-17T16:55:45.742227Z",
     "start_time": "2025-09-17T16:55:45.734653Z"
    }
   },
   "cell_type": "code",
   "source": [
    "from dataclasses import dataclass\n",
    "from collections import Counter, defaultdict\n",
    "\n",
    "@dataclass\n",
    "class NetflixShow:\n",
    "    title: str\n",
    "    type: str\n",
    "    country: str\n",
    "    year: int\n",
    "    rating: str\n",
    "    duration: str\n",
    "    genres: list[str]\n",
    "    imdb_score: float\n",
    "    description: str\n",
    "\n",
    "    def is_us_content(self) -> bool:\n",
    "        # TODO: Implement\n",
    "        pass\n",
    "\n",
    "    def is_recent(self, cutoff_year: int = 2020) -> bool:\n",
    "        # TODO: Implement\n",
    "        pass\n",
    "\n",
    "    def duration_minutes(self) -> int:\n",
    "        # TODO: Parse \"124 min\" to 124\n",
    "        pass\n",
    "\n",
    "def analyze_with_dataclasses(data):\n",
    "    shows = [NetflixShow(*item) for item in data]\n",
    "    # TODO: Use your dataclass methods and collections tools\n",
    "    pass\n",
    "\n",
    "stranger_things_row = netflix_data[0]\n",
    "stranger_things = NetflixShow(*stranger_things_row)\n",
    "stranger_things\n"
   ],
   "id": "47be9cc678f1e98",
   "outputs": [
    {
     "data": {
      "text/plain": [
       "NetflixShow(title='Stranger Things', type='TV Show', country='United States', year='2016', rating='TV-14', duration='81 min', genres=['Drama', 'Fantasy', 'Horror'], imdb_score=8.7, description='Four friends uncover supernatural mysteries')"
      ]
     },
     "execution_count": 9,
     "metadata": {},
     "output_type": "execute_result"
    }
   ],
   "execution_count": 9
  },
  {
   "metadata": {
    "ExecuteTime": {
     "end_time": "2025-09-17T16:57:19.938959Z",
     "start_time": "2025-09-17T16:57:19.937180Z"
    }
   },
   "cell_type": "code",
   "source": "# Q1 What's the average IMDb rating for US content vs international content?",
   "id": "1fc4d5cef1b6b0db",
   "outputs": [],
   "execution_count": 11
  },
  {
   "metadata": {},
   "cell_type": "code",
   "outputs": [],
   "execution_count": null,
   "source": "# Q2 Which country produces the highest-rated content on average?",
   "id": "c0e43471cf048fc1"
  },
  {
   "metadata": {},
   "cell_type": "code",
   "outputs": [],
   "execution_count": null,
   "source": "# Q3 What are the top 3 most popular genres, and what's their average rating?\n",
   "id": "be0b700188d2016"
  },
  {
   "metadata": {},
   "cell_type": "code",
   "outputs": [],
   "execution_count": null,
   "source": "# Q4: Are TV shows generally rated higher than movies?\n",
   "id": "d08e8579a3036ab7"
  },
  {
   "metadata": {},
   "cell_type": "markdown",
   "source": [
    "### Strategy 3: Pandas Power-User\n",
    "Leverage pandas for fast aggregations and grouping."
   ],
   "id": "51b0f15315f25635"
  },
  {
   "metadata": {
    "ExecuteTime": {
     "end_time": "2025-09-17T16:59:44.198794Z",
     "start_time": "2025-09-17T16:59:44.187810Z"
    }
   },
   "cell_type": "code",
   "source": [
    "import pandas as pd\n",
    "df = pd.DataFrame(netflix_data, columns=columns)\n",
    "df.head()"
   ],
   "id": "eaafd0b341fa5186",
   "outputs": [
    {
     "data": {
      "text/plain": [
       "             title     type         country  year rating duration  \\\n",
       "0  Stranger Things  TV Show   United States  2016  TV-14   81 min   \n",
       "1        The Crown  TV Show  United Kingdom  2016  TV-MA   58 min   \n",
       "2      Money Heist  TV Show           Spain  2017  TV-MA   70 min   \n",
       "3         Bird Box    Movie   United States  2018      R  124 min   \n",
       "4             Roma    Movie          Mexico  2018      R  135 min   \n",
       "\n",
       "                   genres_list  imdb_score  \\\n",
       "0     [Drama, Fantasy, Horror]         8.7   \n",
       "1  [Biography, Drama, History]         8.6   \n",
       "2     [Action, Crime, Mystery]         8.3   \n",
       "3      [Drama, Horror, Sci-Fi]         6.6   \n",
       "4                      [Drama]         7.7   \n",
       "\n",
       "                                   description  \n",
       "0  Four friends uncover supernatural mysteries  \n",
       "1                   British royal family drama  \n",
       "2                Bank heist with a master plan  \n",
       "3                Survive with your eyes closed  \n",
       "4               1970s Mexico City family story  "
      ],
      "text/html": [
       "<div>\n",
       "<style scoped>\n",
       "    .dataframe tbody tr th:only-of-type {\n",
       "        vertical-align: middle;\n",
       "    }\n",
       "\n",
       "    .dataframe tbody tr th {\n",
       "        vertical-align: top;\n",
       "    }\n",
       "\n",
       "    .dataframe thead th {\n",
       "        text-align: right;\n",
       "    }\n",
       "</style>\n",
       "<table border=\"1\" class=\"dataframe\">\n",
       "  <thead>\n",
       "    <tr style=\"text-align: right;\">\n",
       "      <th></th>\n",
       "      <th>title</th>\n",
       "      <th>type</th>\n",
       "      <th>country</th>\n",
       "      <th>year</th>\n",
       "      <th>rating</th>\n",
       "      <th>duration</th>\n",
       "      <th>genres_list</th>\n",
       "      <th>imdb_score</th>\n",
       "      <th>description</th>\n",
       "    </tr>\n",
       "  </thead>\n",
       "  <tbody>\n",
       "    <tr>\n",
       "      <th>0</th>\n",
       "      <td>Stranger Things</td>\n",
       "      <td>TV Show</td>\n",
       "      <td>United States</td>\n",
       "      <td>2016</td>\n",
       "      <td>TV-14</td>\n",
       "      <td>81 min</td>\n",
       "      <td>[Drama, Fantasy, Horror]</td>\n",
       "      <td>8.7</td>\n",
       "      <td>Four friends uncover supernatural mysteries</td>\n",
       "    </tr>\n",
       "    <tr>\n",
       "      <th>1</th>\n",
       "      <td>The Crown</td>\n",
       "      <td>TV Show</td>\n",
       "      <td>United Kingdom</td>\n",
       "      <td>2016</td>\n",
       "      <td>TV-MA</td>\n",
       "      <td>58 min</td>\n",
       "      <td>[Biography, Drama, History]</td>\n",
       "      <td>8.6</td>\n",
       "      <td>British royal family drama</td>\n",
       "    </tr>\n",
       "    <tr>\n",
       "      <th>2</th>\n",
       "      <td>Money Heist</td>\n",
       "      <td>TV Show</td>\n",
       "      <td>Spain</td>\n",
       "      <td>2017</td>\n",
       "      <td>TV-MA</td>\n",
       "      <td>70 min</td>\n",
       "      <td>[Action, Crime, Mystery]</td>\n",
       "      <td>8.3</td>\n",
       "      <td>Bank heist with a master plan</td>\n",
       "    </tr>\n",
       "    <tr>\n",
       "      <th>3</th>\n",
       "      <td>Bird Box</td>\n",
       "      <td>Movie</td>\n",
       "      <td>United States</td>\n",
       "      <td>2018</td>\n",
       "      <td>R</td>\n",
       "      <td>124 min</td>\n",
       "      <td>[Drama, Horror, Sci-Fi]</td>\n",
       "      <td>6.6</td>\n",
       "      <td>Survive with your eyes closed</td>\n",
       "    </tr>\n",
       "    <tr>\n",
       "      <th>4</th>\n",
       "      <td>Roma</td>\n",
       "      <td>Movie</td>\n",
       "      <td>Mexico</td>\n",
       "      <td>2018</td>\n",
       "      <td>R</td>\n",
       "      <td>135 min</td>\n",
       "      <td>[Drama]</td>\n",
       "      <td>7.7</td>\n",
       "      <td>1970s Mexico City family story</td>\n",
       "    </tr>\n",
       "  </tbody>\n",
       "</table>\n",
       "</div>"
      ]
     },
     "execution_count": 14,
     "metadata": {},
     "output_type": "execute_result"
    }
   ],
   "execution_count": 14
  },
  {
   "metadata": {},
   "cell_type": "code",
   "outputs": [],
   "execution_count": null,
   "source": "# Q1 What's the average IMDb rating for US content vs international content?\n",
   "id": "4add034882e4990b"
  },
  {
   "metadata": {},
   "cell_type": "code",
   "outputs": [],
   "execution_count": null,
   "source": "# Q2 Which country produces the highest-rated content on average?\n",
   "id": "1329881bd6dd4535"
  },
  {
   "metadata": {},
   "cell_type": "code",
   "outputs": [],
   "execution_count": null,
   "source": "# Q3 What are the top 3 most popular genres, and what's their average rating?\n",
   "id": "9c178ab8dbf6491a"
  },
  {
   "metadata": {},
   "cell_type": "code",
   "outputs": [],
   "execution_count": null,
   "source": "# Q4: Are TV shows generally rated higher than movies?\n",
   "id": "edfb01ac84c65a0d"
  }
 ],
 "metadata": {
  "kernelspec": {
   "display_name": "Python 3",
   "language": "python",
   "name": "python3"
  },
  "language_info": {
   "codemirror_mode": {
    "name": "ipython",
    "version": 2
   },
   "file_extension": ".py",
   "mimetype": "text/x-python",
   "name": "python",
   "nbconvert_exporter": "python",
   "pygments_lexer": "ipython2",
   "version": "2.7.6"
  }
 },
 "nbformat": 4,
 "nbformat_minor": 5
}
