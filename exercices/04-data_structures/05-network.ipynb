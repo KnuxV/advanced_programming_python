{
 "cells": [
  {
   "metadata": {},
   "cell_type": "markdown",
   "source": "## Python Data Structures Challenge: Social Media Network Analysis",
   "id": "72cf15ce1a5d1fc8"
  },
  {
   "metadata": {},
   "cell_type": "markdown",
   "source": "### The Dataset: Social Network Interactions",
   "id": "cd275881ea4206db"
  },
  {
   "metadata": {},
   "cell_type": "markdown",
   "source": "You work for a social media analytics company analyzing user interaction patterns. Here's your messy, nested, relationship-heavy dataset:",
   "id": "89d0cd50fd329f23"
  },
  {
   "metadata": {},
   "cell_type": "markdown",
   "source": "Data Format: (username, {posts: [...], following: [...], followers: [...], profile: {...}})",
   "id": "cfadf62077791603"
  },
  {
   "metadata": {
    "ExecuteTime": {
     "end_time": "2025-09-17T17:10:06.787686Z",
     "start_time": "2025-09-17T17:10:06.782084Z"
    }
   },
   "cell_type": "code",
   "source": [
    "from dataclasses import dataclass\n",
    "\n",
    "# Simpler Social Media Data - Still Nested, But Manageable\n",
    "social_data = [\n",
    "    (\"alice\", {\n",
    "        \"posts\": [\n",
    "            {\"id\": 1, \"content\": \"Great day!\", \"likes\": [\"bob\", \"charlie\"], \"tags\": [\"#happy\", \"#life\"]},\n",
    "            {\"id\": 2, \"content\": \"New recipe!\", \"likes\": [\"charlie\"], \"tags\": [\"#food\"]}\n",
    "        ],\n",
    "        \"friends\": [\"bob\", \"charlie\"],\n",
    "        \"profile\": {\"age\": 25, \"city\": \"NYC\", \"verified\": True}\n",
    "    }),\n",
    "\n",
    "    (\"bob\", {\n",
    "        \"posts\": [\n",
    "            {\"id\": 3, \"content\": \"Work update\", \"likes\": [\"alice\", \"diana\"], \"tags\": [\"#work\", \"#tech\"]},\n",
    "        ],\n",
    "        \"friends\": [\"alice\", \"diana\"],\n",
    "        \"profile\": {\"age\": 30, \"city\": \"SF\", \"verified\": False}\n",
    "    }),\n",
    "\n",
    "    (\"charlie\", {\n",
    "        \"posts\": [\n",
    "            {\"id\": 4, \"content\": \"Weekend vibes\", \"likes\": [\"alice\"], \"tags\": [\"#weekend\"]},\n",
    "            {\"id\": 5, \"content\": \"Coffee time\", \"likes\": [\"bob\", \"diana\"], \"tags\": [\"#coffee\", \"#life\"]}\n",
    "        ],\n",
    "        \"friends\": [\"alice\"],\n",
    "        \"profile\": {\"age\": 28, \"city\": \"LA\", \"verified\": True}\n",
    "    }),\n",
    "\n",
    "    (\"diana\", {\n",
    "        \"posts\": [\n",
    "            {\"id\": 6, \"content\": \"Art project done!\", \"likes\": [\"bob\"], \"tags\": [\"#art\", \"#creative\"]}\n",
    "        ],\n",
    "        \"friends\": [\"bob\"],\n",
    "        \"profile\": {\"age\": 26, \"city\": \"Austin\", \"verified\": False}\n",
    "    })\n",
    "]"
   ],
   "id": "1dcf2742a6c1eb70",
   "outputs": [],
   "execution_count": 7
  },
  {
   "metadata": {},
   "cell_type": "markdown",
   "source": [
    "### Questions\n",
    "1. Who gets the most likes total across all their posts?\n",
    "2. Which users are verified AND have more than 1 post?\n",
    "3. What are the top 3 most popular tags (used most frequently)?\n",
    "4. Who has \"mutual friendships\" (they're friends with each other)?"
   ],
   "id": "ac2a842ce6461ffc"
  },
  {
   "metadata": {
    "ExecuteTime": {
     "end_time": "2025-09-17T17:08:31.394854Z",
     "start_time": "2025-09-17T17:08:31.391711Z"
    }
   },
   "cell_type": "code",
   "source": [
    "# Strategy 1: Python Collections (Should be easiest)\n",
    "\n",
    "# Who gets the most likes total across all their posts?\n",
    "\n",
    "for person, info in social_data:\n",
    "    print(person)\n",
    "    # Unpack"
   ],
   "id": "783b8b45feaf8e5b",
   "outputs": [
    {
     "name": "stdout",
     "output_type": "stream",
     "text": [
      "alice\n",
      "bob\n",
      "charlie\n",
      "diana\n"
     ]
    }
   ],
   "execution_count": 6
  },
  {
   "metadata": {
    "ExecuteTime": {
     "end_time": "2025-09-17T17:08:31.656203Z",
     "start_time": "2025-09-17T17:08:31.654211Z"
    }
   },
   "cell_type": "code",
   "source": "#Q2: Which users are verified AND have more than 1 post?",
   "id": "ee63b0825924945e",
   "outputs": [],
   "execution_count": null
  },
  {
   "metadata": {
    "ExecuteTime": {
     "end_time": "2025-09-17T17:08:32.052849Z",
     "start_time": "2025-09-17T17:08:32.050785Z"
    }
   },
   "cell_type": "code",
   "source": "# Q3 What are the top 3 most popular tags (used most frequently)?",
   "id": "52fcc0c7ed91388d",
   "outputs": [],
   "execution_count": null
  },
  {
   "metadata": {
    "ExecuteTime": {
     "end_time": "2025-09-17T17:08:32.535112Z",
     "start_time": "2025-09-17T17:08:32.533582Z"
    }
   },
   "cell_type": "code",
   "source": "# Q4: Who has \"mutual friendships\" (they're friends with each other)?\n",
   "id": "adfdffa88d9dc5d1",
   "outputs": [],
   "execution_count": null
  },
  {
   "metadata": {
    "ExecuteTime": {
     "end_time": "2025-09-17T21:12:04.734538Z",
     "start_time": "2025-09-17T21:12:04.729698Z"
    }
   },
   "cell_type": "code",
   "source": [
    "from dataclasses import dataclass\n",
    "\n",
    "# Strategy 2: clean and readable\n",
    "@dataclass\n",
    "class Post:\n",
    "    id: int\n",
    "    content: str\n",
    "    likes: list[str]  # List of usernames who liked it\n",
    "    tags: list[str]\n",
    "\n",
    "@dataclass\n",
    "class User:\n",
    "    name: str\n",
    "    posts: list[Post]\n",
    "    friends: list[str]\n",
    "    age: int\n",
    "    city: str\n",
    "    verified: bool\n",
    "\n",
    "    def total_likes(self) -> int:\n",
    "        return sum(len(post.likes) for post in self.posts)"
   ],
   "id": "7f56845a6957e730",
   "outputs": [],
   "execution_count": 25
  },
  {
   "metadata": {
    "ExecuteTime": {
     "end_time": "2025-09-17T21:12:04.946304Z",
     "start_time": "2025-09-17T21:12:04.941235Z"
    }
   },
   "cell_type": "code",
   "source": [
    "def create_user(user_tuple):\n",
    "    name, data = user_tuple\n",
    "\n",
    "    # Create Post objects from the posts data\n",
    "    post_objects = []\n",
    "    for post_data in data[\"posts\"]:\n",
    "        post = Post(\n",
    "            id=post_data[\"id\"],\n",
    "            content=post_data[\"content\"],\n",
    "            likes=post_data[\"likes\"],\n",
    "            tags=post_data[\"tags\"]\n",
    "        )\n",
    "        post_objects.append(post)\n",
    "\n",
    "    # Create User object\n",
    "    return User(\n",
    "        name=name,\n",
    "        posts=post_objects,\n",
    "        friends=data[\"friends\"],\n",
    "        **data[\"profile\"]  # Unpacks age, city, verified\n",
    "    )\n",
    "alice = create_user(social_data[0])\n",
    "print(alice)\n",
    "print(alice.total_likes())\n"
   ],
   "id": "5721c84dbb46a9b5",
   "outputs": [
    {
     "name": "stdout",
     "output_type": "stream",
     "text": [
      "User(name='alice', posts=[Post(id=1, content='Great day!', likes=['bob', 'charlie'], tags=['#happy', '#life']), Post(id=2, content='New recipe!', likes=['charlie'], tags=['#food'])], friends=['bob', 'charlie'], age=25, city='NYC', verified=True)\n",
      "3\n"
     ]
    }
   ],
   "execution_count": 26
  },
  {
   "metadata": {
    "ExecuteTime": {
     "end_time": "2025-09-17T21:12:32.124889Z",
     "start_time": "2025-09-17T21:12:32.121266Z"
    }
   },
   "cell_type": "code",
   "source": "lst_user = [create_user(user_tuple) for user_tuple in social_data ]\n",
   "id": "2fd932f76a1d1749",
   "outputs": [
    {
     "data": {
      "text/plain": [
       "[User(name='alice', posts=[Post(id=1, content='Great day!', likes=['bob', 'charlie'], tags=['#happy', '#life']), Post(id=2, content='New recipe!', likes=['charlie'], tags=['#food'])], friends=['bob', 'charlie'], age=25, city='NYC', verified=True),\n",
       " User(name='bob', posts=[Post(id=3, content='Work update', likes=['alice', 'diana'], tags=['#work', '#tech'])], friends=['alice', 'diana'], age=30, city='SF', verified=False),\n",
       " User(name='charlie', posts=[Post(id=4, content='Weekend vibes', likes=['alice'], tags=['#weekend']), Post(id=5, content='Coffee time', likes=['bob', 'diana'], tags=['#coffee', '#life'])], friends=['alice'], age=28, city='LA', verified=True),\n",
       " User(name='diana', posts=[Post(id=6, content='Art project done!', likes=['bob'], tags=['#art', '#creative'])], friends=['bob'], age=26, city='Austin', verified=False)]"
      ]
     },
     "execution_count": 28,
     "metadata": {},
     "output_type": "execute_result"
    }
   ],
   "execution_count": 28
  },
  {
   "metadata": {},
   "cell_type": "code",
   "outputs": [],
   "execution_count": null,
   "source": "# Q1 Who gets the most likes total across all their posts?\n",
   "id": "44961fe062392ea4"
  },
  {
   "metadata": {
    "ExecuteTime": {
     "end_time": "2025-09-17T21:11:10.272820Z",
     "start_time": "2025-09-17T21:11:10.270811Z"
    }
   },
   "cell_type": "code",
   "source": "#Q2: Which users are verified AND have more than 1 post?\n",
   "id": "30f8547e0ccae33c",
   "outputs": [],
   "execution_count": null
  },
  {
   "metadata": {
    "ExecuteTime": {
     "end_time": "2025-09-17T21:11:10.557442Z",
     "start_time": "2025-09-17T21:11:10.555956Z"
    }
   },
   "cell_type": "code",
   "source": "# Q3 What are the top 3 most popular tags (used most frequently)?\n",
   "id": "c5747f0ac1e5f370",
   "outputs": [],
   "execution_count": null
  },
  {
   "metadata": {},
   "cell_type": "code",
   "outputs": [],
   "execution_count": null,
   "source": "# Q4: Who has \"mutual friendships\" (they're friends with each other)?\n",
   "id": "ba4e6df042f62727"
  }
 ],
 "metadata": {
  "kernelspec": {
   "name": "python3",
   "language": "python",
   "display_name": "Python 3 (ipykernel)"
  }
 },
 "nbformat": 4,
 "nbformat_minor": 5
}
